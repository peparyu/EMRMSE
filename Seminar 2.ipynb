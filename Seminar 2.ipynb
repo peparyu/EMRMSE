{
 "cells": [
  {
   "cell_type": "markdown",
   "id": "5f16f3dd",
   "metadata": {},
   "source": [
    "# Econometrics seminar"
   ]
  },
  {
   "cell_type": "markdown",
   "id": "be3c2f2f",
   "metadata": {},
   "source": [
    "### Wooldridge\n",
    "We are gonno need Data sets from wooldridge. [Click here](https://pypi.org/project/wooldridge/) to get manual to install"
   ]
  },
  {
   "cell_type": "code",
   "execution_count": 80,
   "id": "f9921702",
   "metadata": {},
   "outputs": [],
   "source": [
    "import numpy as np\n",
    "import matplotlib.pyplot as plt\n",
    "import wooldridge"
   ]
  },
  {
   "cell_type": "code",
   "execution_count": 81,
   "id": "00f20a07",
   "metadata": {},
   "outputs": [
    {
     "name": "stdout",
     "output_type": "stream",
     "text": [
      "  J.M. Wooldridge (2019) Introductory Econometrics: A Modern Approach,\n",
      "  Cengage Learning, 6th edition.\n",
      "\n",
      "  401k       401ksubs    admnrev       affairs     airfare\n",
      "  alcohol    apple       approval      athlet1     athlet2\n",
      "  attend     audit       barium        beauty      benefits\n",
      "  beveridge  big9salary  bwght         bwght2      campus\n",
      "  card       catholic    cement        census2000  ceosal1\n",
      "  ceosal2    charity     consump       corn        countymurders\n",
      "  cps78_85   cps91       crime1        crime2      crime3\n",
      "  crime4     discrim     driving       earns       econmath\n",
      "  elem94_95  engin       expendshares  ezanders    ezunem\n",
      "  fair       fertil1     fertil2       fertil3     fish\n",
      "  fringe     gpa1        gpa2          gpa3        happiness\n",
      "  hprice1    hprice2     hprice3       hseinv      htv\n",
      "  infmrt     injury      intdef        intqrt      inven\n",
      "  jtrain     jtrain2     jtrain3       kielmc      lawsch85\n",
      "  loanapp    lowbrth     mathpnl       meap00_01   meap01\n",
      "  meap93     meapsingle  minwage       mlb1        mroz\n",
      "  murder     nbasal      nyse          okun        openness\n",
      "  pension    phillips    pntsprd       prison      prminwge\n",
      "  rdchem     rdtelec     recid         rental      return\n",
      "  saving     sleep75     slp75_81      smoke       traffic1\n",
      "  traffic2   twoyear     volat         vote1       vote2\n",
      "  voucher    wage1       wage2         wagepan     wageprc\n",
      "  wine\n"
     ]
    }
   ],
   "source": [
    "wooldridge.data()"
   ]
  },
  {
   "cell_type": "markdown",
   "id": "c16f6a85",
   "metadata": {},
   "source": [
    "1. The data in 401K.RAW are a subset of data analyzed by Papke (1995) to study the rela- tionship between participation in a 401(k) pension plan and the generosity of the plan. The variable *prate* is the percentage of eligible workers with an active account; this is the variable we would like to explain. The measure of generosity is the plan match rate, *mrate*. This variable gives the average amount the firm contributes to each worker’s plan for each 100¢ contribution by the worker. For example, if mrate = 0.50, then a 100¢ contribution by the worker is matched by a 50¢  contribution by the firm.\n",
    "    1. Find the average participation rate and the average match rate in the sample of plans.\n",
    "    2. Now, estimate the simple regression equation $prate = \\beta_0 + \\beta_1*mrate$, and report the results along with the sample size and R-squared.\n",
    "    3. Interpret the intercept in your equation. Interpret the coefficient on mrate.\n",
    "    4. Find the predicted prate when mrate 5 3.5. Is this a reasonable prediction? Explain what is happening here.\n",
    "    5. How much of the variation in prate is explained by mrate? Is this a lot in your opinion?"
   ]
  },
  {
   "cell_type": "markdown",
   "id": "8fee908d",
   "metadata": {},
   "source": [
    "<p id=\"average\"><b>1</b></p>\n",
    "The data in 401K.RAW"
   ]
  },
  {
   "cell_type": "code",
   "execution_count": 82,
   "id": "fbea2563",
   "metadata": {},
   "outputs": [
    {
     "name": "stdout",
     "output_type": "stream",
     "text": [
      "name of dataset: 401k\n",
      "no of variables: 8\n",
      "no of observations: 1534\n",
      "\n",
      "+----------+---------------------------------+\n",
      "| variable | label                           |\n",
      "+----------+---------------------------------+\n",
      "| prate    | participation rate, percent     |\n",
      "| mrate    | 401k plan match rate            |\n",
      "| totpart  | total 401k participants         |\n",
      "| totelg   | total eligible for 401k plan    |\n",
      "| age      | age of 401k plan                |\n",
      "| totemp   | total number of firm employees  |\n",
      "| sole     | = 1 if 401k is firm's sole plan |\n",
      "| ltotemp  | log of totemp                   |\n",
      "+----------+---------------------------------+\n",
      "\n",
      "L.E. Papke (1995), “Participation in and Contributions to 401(k)\n",
      "Pension Plans:Evidence from Plan Data,” Journal of Human Resources 30,\n",
      "311-325. Professor Papke kindly provided these data. She gathered them\n",
      "from the Internal Revenue Service’s Form 5500 tapes.\n"
     ]
    }
   ],
   "source": [
    "wooldridge.data('401k', description=True)"
   ]
  },
  {
   "cell_type": "code",
   "execution_count": 83,
   "id": "3bc96a37",
   "metadata": {},
   "outputs": [
    {
     "data": {
      "text/html": [
       "<div>\n",
       "<style scoped>\n",
       "    .dataframe tbody tr th:only-of-type {\n",
       "        vertical-align: middle;\n",
       "    }\n",
       "\n",
       "    .dataframe tbody tr th {\n",
       "        vertical-align: top;\n",
       "    }\n",
       "\n",
       "    .dataframe thead th {\n",
       "        text-align: right;\n",
       "    }\n",
       "</style>\n",
       "<table border=\"1\" class=\"dataframe\">\n",
       "  <thead>\n",
       "    <tr style=\"text-align: right;\">\n",
       "      <th></th>\n",
       "      <th>prate</th>\n",
       "      <th>mrate</th>\n",
       "      <th>totpart</th>\n",
       "      <th>totelg</th>\n",
       "      <th>age</th>\n",
       "      <th>totemp</th>\n",
       "      <th>sole</th>\n",
       "      <th>ltotemp</th>\n",
       "    </tr>\n",
       "  </thead>\n",
       "  <tbody>\n",
       "    <tr>\n",
       "      <th>0</th>\n",
       "      <td>26.100000</td>\n",
       "      <td>0.21</td>\n",
       "      <td>1653.0</td>\n",
       "      <td>6322.0</td>\n",
       "      <td>8</td>\n",
       "      <td>8709.0</td>\n",
       "      <td>0</td>\n",
       "      <td>9.072112</td>\n",
       "    </tr>\n",
       "    <tr>\n",
       "      <th>1</th>\n",
       "      <td>100.000000</td>\n",
       "      <td>1.42</td>\n",
       "      <td>262.0</td>\n",
       "      <td>262.0</td>\n",
       "      <td>6</td>\n",
       "      <td>315.0</td>\n",
       "      <td>1</td>\n",
       "      <td>5.752573</td>\n",
       "    </tr>\n",
       "    <tr>\n",
       "      <th>2</th>\n",
       "      <td>97.599998</td>\n",
       "      <td>0.91</td>\n",
       "      <td>166.0</td>\n",
       "      <td>170.0</td>\n",
       "      <td>10</td>\n",
       "      <td>275.0</td>\n",
       "      <td>1</td>\n",
       "      <td>5.616771</td>\n",
       "    </tr>\n",
       "    <tr>\n",
       "      <th>3</th>\n",
       "      <td>100.000000</td>\n",
       "      <td>0.42</td>\n",
       "      <td>257.0</td>\n",
       "      <td>257.0</td>\n",
       "      <td>7</td>\n",
       "      <td>500.0</td>\n",
       "      <td>0</td>\n",
       "      <td>6.214608</td>\n",
       "    </tr>\n",
       "    <tr>\n",
       "      <th>4</th>\n",
       "      <td>82.500000</td>\n",
       "      <td>0.53</td>\n",
       "      <td>591.0</td>\n",
       "      <td>716.0</td>\n",
       "      <td>28</td>\n",
       "      <td>933.0</td>\n",
       "      <td>1</td>\n",
       "      <td>6.838405</td>\n",
       "    </tr>\n",
       "    <tr>\n",
       "      <th>...</th>\n",
       "      <td>...</td>\n",
       "      <td>...</td>\n",
       "      <td>...</td>\n",
       "      <td>...</td>\n",
       "      <td>...</td>\n",
       "      <td>...</td>\n",
       "      <td>...</td>\n",
       "      <td>...</td>\n",
       "    </tr>\n",
       "    <tr>\n",
       "      <th>1529</th>\n",
       "      <td>85.099998</td>\n",
       "      <td>0.33</td>\n",
       "      <td>553.0</td>\n",
       "      <td>650.0</td>\n",
       "      <td>24</td>\n",
       "      <td>907.0</td>\n",
       "      <td>0</td>\n",
       "      <td>6.810143</td>\n",
       "    </tr>\n",
       "    <tr>\n",
       "      <th>1530</th>\n",
       "      <td>100.000000</td>\n",
       "      <td>2.52</td>\n",
       "      <td>142.0</td>\n",
       "      <td>142.0</td>\n",
       "      <td>17</td>\n",
       "      <td>197.0</td>\n",
       "      <td>1</td>\n",
       "      <td>5.283204</td>\n",
       "    </tr>\n",
       "    <tr>\n",
       "      <th>1531</th>\n",
       "      <td>100.000000</td>\n",
       "      <td>2.27</td>\n",
       "      <td>1928.0</td>\n",
       "      <td>1928.0</td>\n",
       "      <td>35</td>\n",
       "      <td>2171.0</td>\n",
       "      <td>0</td>\n",
       "      <td>7.682943</td>\n",
       "    </tr>\n",
       "    <tr>\n",
       "      <th>1532</th>\n",
       "      <td>100.000000</td>\n",
       "      <td>0.58</td>\n",
       "      <td>166.0</td>\n",
       "      <td>166.0</td>\n",
       "      <td>8</td>\n",
       "      <td>931.0</td>\n",
       "      <td>1</td>\n",
       "      <td>6.836259</td>\n",
       "    </tr>\n",
       "    <tr>\n",
       "      <th>1533</th>\n",
       "      <td>100.000000</td>\n",
       "      <td>0.45</td>\n",
       "      <td>2179.0</td>\n",
       "      <td>2179.0</td>\n",
       "      <td>24</td>\n",
       "      <td>3187.0</td>\n",
       "      <td>0</td>\n",
       "      <td>8.066835</td>\n",
       "    </tr>\n",
       "  </tbody>\n",
       "</table>\n",
       "<p>1534 rows × 8 columns</p>\n",
       "</div>"
      ],
      "text/plain": [
       "           prate  mrate  totpart  totelg  age  totemp  sole   ltotemp\n",
       "0      26.100000   0.21   1653.0  6322.0    8  8709.0     0  9.072112\n",
       "1     100.000000   1.42    262.0   262.0    6   315.0     1  5.752573\n",
       "2      97.599998   0.91    166.0   170.0   10   275.0     1  5.616771\n",
       "3     100.000000   0.42    257.0   257.0    7   500.0     0  6.214608\n",
       "4      82.500000   0.53    591.0   716.0   28   933.0     1  6.838405\n",
       "...          ...    ...      ...     ...  ...     ...   ...       ...\n",
       "1529   85.099998   0.33    553.0   650.0   24   907.0     0  6.810143\n",
       "1530  100.000000   2.52    142.0   142.0   17   197.0     1  5.283204\n",
       "1531  100.000000   2.27   1928.0  1928.0   35  2171.0     0  7.682943\n",
       "1532  100.000000   0.58    166.0   166.0    8   931.0     1  6.836259\n",
       "1533  100.000000   0.45   2179.0  2179.0   24  3187.0     0  8.066835\n",
       "\n",
       "[1534 rows x 8 columns]"
      ]
     },
     "execution_count": 83,
     "metadata": {},
     "output_type": "execute_result"
    }
   ],
   "source": [
    "df = wooldridge.data('401k')\n",
    "df"
   ]
  },
  {
   "cell_type": "markdown",
   "id": "72b8fb8f",
   "metadata": {},
   "source": [
    "<p id=\"average\"><b>1.A</b></p>\n",
    "Find the average participation rate and the average match rate in the sample of plans."
   ]
  },
  {
   "cell_type": "code",
   "execution_count": 84,
   "id": "05dcc41b",
   "metadata": {},
   "outputs": [
    {
     "name": "stdout",
     "output_type": "stream",
     "text": [
      "The average participation rate is 87.363\n"
     ]
    }
   ],
   "source": [
    "print(f'The average participation rate is {df.prate.mean().round(3)}')"
   ]
  },
  {
   "cell_type": "code",
   "execution_count": 85,
   "id": "305bc4c6",
   "metadata": {},
   "outputs": [
    {
     "name": "stdout",
     "output_type": "stream",
     "text": [
      "The average participation rate is 0.732\n"
     ]
    }
   ],
   "source": [
    "print(f'The average participation rate is {df.mrate.mean().round(3)}')"
   ]
  },
  {
   "cell_type": "markdown",
   "id": "6cc2633c",
   "metadata": {},
   "source": [
    "<p id=\"average\"><b>1.B</b></p>\n",
    "Now, estimate the simple regression equation $$\\widehat{prate} =\\widehat{ \\beta_0} + \\widehat{ \\beta_1}mrate ,$$ and report the results along with the sample size and $R$-squared."
   ]
  },
  {
   "cell_type": "code",
   "execution_count": 86,
   "id": "2e4d7242",
   "metadata": {},
   "outputs": [
    {
     "name": "stdout",
     "output_type": "stream",
     "text": [
      "                            OLS Regression Results                            \n",
      "==============================================================================\n",
      "Dep. Variable:                  prate   R-squared:                       0.075\n",
      "Model:                            OLS   Adj. R-squared:                  0.074\n",
      "Method:                 Least Squares   F-statistic:                     123.7\n",
      "Date:                Sun, 15 Jun 2025   Prob (F-statistic):           1.10e-27\n",
      "Time:                        15:34:07   Log-Likelihood:                -6437.0\n",
      "No. Observations:                1534   AIC:                         1.288e+04\n",
      "Df Residuals:                    1532   BIC:                         1.289e+04\n",
      "Df Model:                           1                                         \n",
      "Covariance Type:            nonrobust                                         \n",
      "==============================================================================\n",
      "                 coef    std err          t      P>|t|      [0.025      0.975]\n",
      "------------------------------------------------------------------------------\n",
      "Intercept     83.0755      0.563    147.484      0.000      81.971      84.180\n",
      "mrate          5.8611      0.527     11.121      0.000       4.827       6.895\n",
      "==============================================================================\n",
      "Omnibus:                      394.767   Durbin-Watson:                   1.908\n",
      "Prob(Omnibus):                  0.000   Jarque-Bera (JB):              870.172\n",
      "Skew:                          -1.444   Prob(JB):                    1.11e-189\n",
      "Kurtosis:                       5.296   Cond. No.                         2.32\n",
      "==============================================================================\n",
      "\n",
      "Notes:\n",
      "[1] Standard Errors assume that the covariance matrix of the errors is correctly specified.\n"
     ]
    }
   ],
   "source": [
    "import statsmodels.formula.api as smf\n",
    "mod = smf.ols(formula='prate ~ mrate', data=df)\n",
    "res = mod.fit()\n",
    "print(res.summary())"
   ]
  },
  {
   "cell_type": "markdown",
   "id": "0e146dd9",
   "metadata": {},
   "source": [
    "<p id=\"average\"><b>1.C</b></p>\n",
    "Interpret the intercept in your equation. Interpret the coefficient on mrate."
   ]
  },
  {
   "cell_type": "markdown",
   "id": "3628088c",
   "metadata": {},
   "source": [
    "<p id=\"average\"><b>1.D</b></p>\n",
    "Find the predicted *prate* when $mrate = 3.5$. Is this a reasonable prediction?\n",
    "Explain what is happening here."
   ]
  },
  {
   "cell_type": "code",
   "execution_count": 87,
   "id": "094d4f95",
   "metadata": {},
   "outputs": [
    {
     "data": {
      "text/plain": [
       "730    103.589233\n",
       "dtype: float64"
      ]
     },
     "execution_count": 87,
     "metadata": {},
     "output_type": "execute_result"
    }
   ],
   "source": [
    "res.predict(df.loc[df['mrate']==3.5])"
   ]
  },
  {
   "cell_type": "markdown",
   "id": "d121d938",
   "metadata": {},
   "source": [
    "<p id=\"average\"><b>1.E</b></p>\n",
    "How much of the variation in prate is explained by mrate? Is this a lot in your opinion?"
   ]
  },
  {
   "cell_type": "code",
   "execution_count": 88,
   "id": "cf414b7c",
   "metadata": {},
   "outputs": [
    {
     "name": "stdout",
     "output_type": "stream",
     "text": [
      "The variation in prate is explained by mrate 0.075\n"
     ]
    }
   ],
   "source": [
    "print(f'The variation in prate is explained by mrate {res.rsquared.round(3)}')"
   ]
  },
  {
   "cell_type": "markdown",
   "id": "110cdfcd",
   "metadata": {},
   "source": [
    "1. The data set in CEOSAL2.RAW contains information on chief executive officers for U.S. corporations. The variable salary is annual compensation, in thousands of dollars, and ceoten is prior number of years as company CEO.\n",
    "    1. Find the average salary and the average tenure in the sample.\n",
    "    2. How many CEOs are in their first year as CEO (that is, ceoten 5 0)? What is the longest tenure as a CEO?\n",
    "    3. Estimate the simple regression model $$\\log(salary) =  \\beta_0 + \\beta_1 ceoten + u,$$ and report your results in the usual form. What is the (approximate) predicted percentage increase in salary given one more year as a CEO?\n"
   ]
  },
  {
   "cell_type": "code",
   "execution_count": 89,
   "id": "85dc6b95",
   "metadata": {},
   "outputs": [
    {
     "name": "stdout",
     "output_type": "stream",
     "text": [
      "name of dataset: ceosal2\n",
      "no of variables: 15\n",
      "no of observations: 177\n",
      "\n",
      "+----------+--------------------------------+\n",
      "| variable | label                          |\n",
      "+----------+--------------------------------+\n",
      "| salary   | 1990 compensation, $1000s      |\n",
      "| age      | in years                       |\n",
      "| college  | =1 if attended college         |\n",
      "| grad     | =1 if attended graduate school |\n",
      "| comten   | years with company             |\n",
      "| ceoten   | years as ceo with company      |\n",
      "| sales    | 1990 firm sales, millions      |\n",
      "| profits  | 1990 profits, millions         |\n",
      "| mktval   | market value, end 1990, mills. |\n",
      "| lsalary  | log(salary)                    |\n",
      "| lsales   | log(sales)                     |\n",
      "| lmktval  | log(mktval)                    |\n",
      "| comtensq | comten^2                       |\n",
      "| ceotensq | ceoten^2                       |\n",
      "| profmarg | profits as % of sales          |\n",
      "+----------+--------------------------------+\n",
      "\n",
      "See CEOSAL1.RAW\n"
     ]
    }
   ],
   "source": [
    "wooldridge.data('ceosal2', description=True )"
   ]
  },
  {
   "cell_type": "code",
   "execution_count": 90,
   "id": "7219a1fd",
   "metadata": {},
   "outputs": [
    {
     "data": {
      "text/html": [
       "<div>\n",
       "<style scoped>\n",
       "    .dataframe tbody tr th:only-of-type {\n",
       "        vertical-align: middle;\n",
       "    }\n",
       "\n",
       "    .dataframe tbody tr th {\n",
       "        vertical-align: top;\n",
       "    }\n",
       "\n",
       "    .dataframe thead th {\n",
       "        text-align: right;\n",
       "    }\n",
       "</style>\n",
       "<table border=\"1\" class=\"dataframe\">\n",
       "  <thead>\n",
       "    <tr style=\"text-align: right;\">\n",
       "      <th></th>\n",
       "      <th>salary</th>\n",
       "      <th>age</th>\n",
       "      <th>college</th>\n",
       "      <th>grad</th>\n",
       "      <th>comten</th>\n",
       "      <th>ceoten</th>\n",
       "      <th>sales</th>\n",
       "      <th>profits</th>\n",
       "      <th>mktval</th>\n",
       "      <th>lsalary</th>\n",
       "      <th>lsales</th>\n",
       "      <th>lmktval</th>\n",
       "      <th>comtensq</th>\n",
       "      <th>ceotensq</th>\n",
       "      <th>profmarg</th>\n",
       "    </tr>\n",
       "  </thead>\n",
       "  <tbody>\n",
       "    <tr>\n",
       "      <th>0</th>\n",
       "      <td>1161</td>\n",
       "      <td>49</td>\n",
       "      <td>1</td>\n",
       "      <td>1</td>\n",
       "      <td>9</td>\n",
       "      <td>2</td>\n",
       "      <td>6200.0</td>\n",
       "      <td>966</td>\n",
       "      <td>23200.0</td>\n",
       "      <td>7.057037</td>\n",
       "      <td>8.732305</td>\n",
       "      <td>10.051908</td>\n",
       "      <td>81</td>\n",
       "      <td>4</td>\n",
       "      <td>15.580646</td>\n",
       "    </tr>\n",
       "    <tr>\n",
       "      <th>1</th>\n",
       "      <td>600</td>\n",
       "      <td>43</td>\n",
       "      <td>1</td>\n",
       "      <td>1</td>\n",
       "      <td>10</td>\n",
       "      <td>10</td>\n",
       "      <td>283.0</td>\n",
       "      <td>48</td>\n",
       "      <td>1100.0</td>\n",
       "      <td>6.396930</td>\n",
       "      <td>5.645447</td>\n",
       "      <td>7.003066</td>\n",
       "      <td>100</td>\n",
       "      <td>100</td>\n",
       "      <td>16.961130</td>\n",
       "    </tr>\n",
       "    <tr>\n",
       "      <th>2</th>\n",
       "      <td>379</td>\n",
       "      <td>51</td>\n",
       "      <td>1</td>\n",
       "      <td>1</td>\n",
       "      <td>9</td>\n",
       "      <td>3</td>\n",
       "      <td>169.0</td>\n",
       "      <td>40</td>\n",
       "      <td>1100.0</td>\n",
       "      <td>5.937536</td>\n",
       "      <td>5.129899</td>\n",
       "      <td>7.003066</td>\n",
       "      <td>81</td>\n",
       "      <td>9</td>\n",
       "      <td>23.668638</td>\n",
       "    </tr>\n",
       "    <tr>\n",
       "      <th>3</th>\n",
       "      <td>651</td>\n",
       "      <td>55</td>\n",
       "      <td>1</td>\n",
       "      <td>0</td>\n",
       "      <td>22</td>\n",
       "      <td>22</td>\n",
       "      <td>1100.0</td>\n",
       "      <td>-54</td>\n",
       "      <td>1000.0</td>\n",
       "      <td>6.478509</td>\n",
       "      <td>7.003066</td>\n",
       "      <td>6.907755</td>\n",
       "      <td>484</td>\n",
       "      <td>484</td>\n",
       "      <td>-4.909091</td>\n",
       "    </tr>\n",
       "    <tr>\n",
       "      <th>4</th>\n",
       "      <td>497</td>\n",
       "      <td>44</td>\n",
       "      <td>1</td>\n",
       "      <td>1</td>\n",
       "      <td>8</td>\n",
       "      <td>6</td>\n",
       "      <td>351.0</td>\n",
       "      <td>28</td>\n",
       "      <td>387.0</td>\n",
       "      <td>6.208590</td>\n",
       "      <td>5.860786</td>\n",
       "      <td>5.958425</td>\n",
       "      <td>64</td>\n",
       "      <td>36</td>\n",
       "      <td>7.977208</td>\n",
       "    </tr>\n",
       "    <tr>\n",
       "      <th>...</th>\n",
       "      <td>...</td>\n",
       "      <td>...</td>\n",
       "      <td>...</td>\n",
       "      <td>...</td>\n",
       "      <td>...</td>\n",
       "      <td>...</td>\n",
       "      <td>...</td>\n",
       "      <td>...</td>\n",
       "      <td>...</td>\n",
       "      <td>...</td>\n",
       "      <td>...</td>\n",
       "      <td>...</td>\n",
       "      <td>...</td>\n",
       "      <td>...</td>\n",
       "      <td>...</td>\n",
       "    </tr>\n",
       "    <tr>\n",
       "      <th>172</th>\n",
       "      <td>264</td>\n",
       "      <td>63</td>\n",
       "      <td>1</td>\n",
       "      <td>0</td>\n",
       "      <td>42</td>\n",
       "      <td>3</td>\n",
       "      <td>334.0</td>\n",
       "      <td>43</td>\n",
       "      <td>480.0</td>\n",
       "      <td>5.575949</td>\n",
       "      <td>5.811141</td>\n",
       "      <td>6.173786</td>\n",
       "      <td>1764</td>\n",
       "      <td>9</td>\n",
       "      <td>12.874251</td>\n",
       "    </tr>\n",
       "    <tr>\n",
       "      <th>173</th>\n",
       "      <td>185</td>\n",
       "      <td>58</td>\n",
       "      <td>1</td>\n",
       "      <td>0</td>\n",
       "      <td>39</td>\n",
       "      <td>1</td>\n",
       "      <td>766.0</td>\n",
       "      <td>49</td>\n",
       "      <td>560.0</td>\n",
       "      <td>5.220356</td>\n",
       "      <td>6.641182</td>\n",
       "      <td>6.327937</td>\n",
       "      <td>1521</td>\n",
       "      <td>1</td>\n",
       "      <td>6.396867</td>\n",
       "    </tr>\n",
       "    <tr>\n",
       "      <th>174</th>\n",
       "      <td>387</td>\n",
       "      <td>71</td>\n",
       "      <td>1</td>\n",
       "      <td>1</td>\n",
       "      <td>32</td>\n",
       "      <td>13</td>\n",
       "      <td>432.0</td>\n",
       "      <td>28</td>\n",
       "      <td>477.0</td>\n",
       "      <td>5.958425</td>\n",
       "      <td>6.068426</td>\n",
       "      <td>6.167517</td>\n",
       "      <td>1024</td>\n",
       "      <td>169</td>\n",
       "      <td>6.481482</td>\n",
       "    </tr>\n",
       "    <tr>\n",
       "      <th>175</th>\n",
       "      <td>2220</td>\n",
       "      <td>63</td>\n",
       "      <td>1</td>\n",
       "      <td>1</td>\n",
       "      <td>18</td>\n",
       "      <td>18</td>\n",
       "      <td>277.0</td>\n",
       "      <td>-80</td>\n",
       "      <td>540.0</td>\n",
       "      <td>7.705263</td>\n",
       "      <td>5.624018</td>\n",
       "      <td>6.291569</td>\n",
       "      <td>324</td>\n",
       "      <td>324</td>\n",
       "      <td>-28.880867</td>\n",
       "    </tr>\n",
       "    <tr>\n",
       "      <th>176</th>\n",
       "      <td>445</td>\n",
       "      <td>69</td>\n",
       "      <td>1</td>\n",
       "      <td>0</td>\n",
       "      <td>23</td>\n",
       "      <td>0</td>\n",
       "      <td>249.0</td>\n",
       "      <td>31</td>\n",
       "      <td>828.0</td>\n",
       "      <td>6.098074</td>\n",
       "      <td>5.517453</td>\n",
       "      <td>6.719013</td>\n",
       "      <td>529</td>\n",
       "      <td>0</td>\n",
       "      <td>12.449800</td>\n",
       "    </tr>\n",
       "  </tbody>\n",
       "</table>\n",
       "<p>177 rows × 15 columns</p>\n",
       "</div>"
      ],
      "text/plain": [
       "     salary  age  college  grad  comten  ceoten   sales  profits   mktval  \\\n",
       "0      1161   49        1     1       9       2  6200.0      966  23200.0   \n",
       "1       600   43        1     1      10      10   283.0       48   1100.0   \n",
       "2       379   51        1     1       9       3   169.0       40   1100.0   \n",
       "3       651   55        1     0      22      22  1100.0      -54   1000.0   \n",
       "4       497   44        1     1       8       6   351.0       28    387.0   \n",
       "..      ...  ...      ...   ...     ...     ...     ...      ...      ...   \n",
       "172     264   63        1     0      42       3   334.0       43    480.0   \n",
       "173     185   58        1     0      39       1   766.0       49    560.0   \n",
       "174     387   71        1     1      32      13   432.0       28    477.0   \n",
       "175    2220   63        1     1      18      18   277.0      -80    540.0   \n",
       "176     445   69        1     0      23       0   249.0       31    828.0   \n",
       "\n",
       "      lsalary    lsales    lmktval  comtensq  ceotensq   profmarg  \n",
       "0    7.057037  8.732305  10.051908        81         4  15.580646  \n",
       "1    6.396930  5.645447   7.003066       100       100  16.961130  \n",
       "2    5.937536  5.129899   7.003066        81         9  23.668638  \n",
       "3    6.478509  7.003066   6.907755       484       484  -4.909091  \n",
       "4    6.208590  5.860786   5.958425        64        36   7.977208  \n",
       "..        ...       ...        ...       ...       ...        ...  \n",
       "172  5.575949  5.811141   6.173786      1764         9  12.874251  \n",
       "173  5.220356  6.641182   6.327937      1521         1   6.396867  \n",
       "174  5.958425  6.068426   6.167517      1024       169   6.481482  \n",
       "175  7.705263  5.624018   6.291569       324       324 -28.880867  \n",
       "176  6.098074  5.517453   6.719013       529         0  12.449800  \n",
       "\n",
       "[177 rows x 15 columns]"
      ]
     },
     "execution_count": 90,
     "metadata": {},
     "output_type": "execute_result"
    }
   ],
   "source": [
    "df = wooldridge.data('ceosal2')\n",
    "df"
   ]
  },
  {
   "cell_type": "markdown",
   "id": "d4ba2f6d",
   "metadata": {},
   "source": [
    "<p id=\"average\"><b>1.A</b></p>\n",
    "Find the average salary and the average tenure in the sample."
   ]
  },
  {
   "cell_type": "code",
   "execution_count": 91,
   "id": "3a50ea7b",
   "metadata": {},
   "outputs": [
    {
     "name": "stdout",
     "output_type": "stream",
     "text": [
      " The average salary is 865.864\n"
     ]
    }
   ],
   "source": [
    "print(f' The average salary is { df.salary.mean().round(3)}')"
   ]
  },
  {
   "cell_type": "code",
   "execution_count": 92,
   "id": "1854cff4",
   "metadata": {},
   "outputs": [
    {
     "name": "stdout",
     "output_type": "stream",
     "text": [
      " The average tenure is 865.864\n"
     ]
    }
   ],
   "source": [
    "print(f' The average tenure is { df.salary.mean().round(3)}')"
   ]
  },
  {
   "cell_type": "markdown",
   "id": "6e147038",
   "metadata": {},
   "source": [
    "<p id=\"average\"><b>1.B</b></p>\n",
    "How many CEOs are in their first year as CEO (that is, $ceoten=0$)? What is the longest tenure as a CEO?"
   ]
  },
  {
   "cell_type": "code",
   "execution_count": 93,
   "id": "57baaaab",
   "metadata": {},
   "outputs": [
    {
     "name": "stdout",
     "output_type": "stream",
     "text": [
      "There are 5 CEOs in their first year as CEO \n"
     ]
    }
   ],
   "source": [
    "print(f\"There are {len(df.loc[df['ceoten']==0])} CEOs in their first year as CEO \")"
   ]
  },
  {
   "cell_type": "code",
   "execution_count": 94,
   "id": "7fd13ad2",
   "metadata": {},
   "outputs": [
    {
     "name": "stdout",
     "output_type": "stream",
     "text": [
      "Longest tenure as a CEO id 37\n"
     ]
    }
   ],
   "source": [
    "print(f\"Longest tenure as a CEO id {df['ceoten'].max()}\")"
   ]
  },
  {
   "cell_type": "markdown",
   "id": "e31cea63",
   "metadata": {},
   "source": [
    "<p id=\"average\"><b>1.C</b></p>\n",
    "How many CEOs are in their first year as CEO (that is, $ceoten=0$)? What is the longest tenure as a CEO?"
   ]
  },
  {
   "cell_type": "markdown",
   "id": "4d24dda0",
   "metadata": {},
   "source": [
    "Estimate the simple regression model $$\\log(salary) =  \\beta_0 + \\beta_1 ceoten + u,$$ and report your results in the usual form. What is the (approximate) predicted per- centage increase in salary given one more year as a CEO?"
   ]
  },
  {
   "cell_type": "code",
   "execution_count": 95,
   "id": "4cc01d80",
   "metadata": {},
   "outputs": [],
   "source": [
    "import statsmodels.formula.api as smf\n",
    "mod = smf.ols(formula='np.log(salary)~ceoten', data=df)\n",
    "res = mod.fit()"
   ]
  },
  {
   "cell_type": "code",
   "execution_count": 96,
   "id": "e8acc294",
   "metadata": {},
   "outputs": [
    {
     "name": "stdout",
     "output_type": "stream",
     "text": [
      "                            OLS Regression Results                            \n",
      "==============================================================================\n",
      "Dep. Variable:         np.log(salary)   R-squared:                       0.013\n",
      "Model:                            OLS   Adj. R-squared:                  0.008\n",
      "Method:                 Least Squares   F-statistic:                     2.334\n",
      "Date:                Sun, 15 Jun 2025   Prob (F-statistic):              0.128\n",
      "Time:                        15:34:07   Log-Likelihood:                -160.84\n",
      "No. Observations:                 177   AIC:                             325.7\n",
      "Df Residuals:                     175   BIC:                             332.0\n",
      "Df Model:                           1                                         \n",
      "Covariance Type:            nonrobust                                         \n",
      "==============================================================================\n",
      "                 coef    std err          t      P>|t|      [0.025      0.975]\n",
      "------------------------------------------------------------------------------\n",
      "Intercept      6.5055      0.068     95.682      0.000       6.371       6.640\n",
      "ceoten         0.0097      0.006      1.528      0.128      -0.003       0.022\n",
      "==============================================================================\n",
      "Omnibus:                        3.858   Durbin-Watson:                   2.084\n",
      "Prob(Omnibus):                  0.145   Jarque-Bera (JB):                3.907\n",
      "Skew:                          -0.189   Prob(JB):                        0.142\n",
      "Kurtosis:                       3.622   Cond. No.                         16.1\n",
      "==============================================================================\n",
      "\n",
      "Notes:\n",
      "[1] Standard Errors assume that the covariance matrix of the errors is correctly specified.\n"
     ]
    }
   ],
   "source": [
    "print(res.summary())"
   ]
  },
  {
   "cell_type": "markdown",
   "id": "ba1f4a0a",
   "metadata": {},
   "source": [
    "# C3, C4, C5, C6, C7- HW"
   ]
  },
  {
   "cell_type": "markdown",
   "id": "3b5b83bc",
   "metadata": {},
   "source": [
    "C8"
   ]
  },
  {
   "cell_type": "markdown",
   "id": "d5f26fdd",
   "metadata": {},
   "source": [
    "8. [To complete](#complete) this exercise you need a software package that allows you to generate data from the uniform and normal distributions.\n",
    "    1. Start by generating 500 observations $x_i$ – the explanatory variable – from the [uniform](#uniform) distribution with range [0,10]. (Most statistical packages have a command for the Uniform[0,1] distribution; just multiply those observations by 10.) What are the sample mean and sample standard deviation of the $x_i$?\n",
    "    2. Randomly generate $500$ [errors](#errors), $u_i$, from the Normal[0,36] distribution. (If you generate a Normal[0,1], as is commonly available, simply multiply the outcomes by six.) Is the sample average of the $u_i$ exactly zero? Why or why not? What is the sample standard deviation of the $u_i$?\n",
    "    3. Now generate the $y_i$ as $$y_i = 1+2x_i + u_i = \\beta_0 + \\beta_1x_i + u_i;$$ that is, the population intercept is one and the population slope is two. Use the data to run the [regression](#regression) of $y_i$ on $x_i$. What are your estimates of the intercept and slope? Are they equal to the population values in the above equation? Explain.\n",
    "    4. Obtain the OLS residuals, $\\hat{u}_i$, and verify that equation (2.60) hold (subject to rounding error).\n",
    "    5. Compute the same [quantities](#quantities) in equation $$\\sum\\limits_{i=1}^n \\hat{u}_i = 0, \\sum\\limits_{i=1}^n x_i\\hat{u}_i = 0  $$ but use the errors $u_i$ in place of the residuals. Now what do you conclude?\n",
    "    "
   ]
  },
  {
   "cell_type": "markdown",
   "id": "da1e2663",
   "metadata": {},
   "source": [
    "<p id=\"complete\"><b>8.</b></p>\n",
    "8. To complete this exercise you need a software package that allows you to generate data from the uniform and normal distributions."
   ]
  },
  {
   "cell_type": "code",
   "execution_count": 97,
   "id": "82670c41",
   "metadata": {},
   "outputs": [],
   "source": [
    "import random"
   ]
  },
  {
   "cell_type": "markdown",
   "id": "a7a628fc",
   "metadata": {},
   "source": [
    "<p id=\"uniform\"><b>8.A</b></p>\n",
    "\n",
    "Start by generating 500 observations $x_i$ – the explanatory variable – from the uniform distribution with range [0,10]. (Most statistical packages have a command for the Uniform[0,1] distribution; just multiply those observations by 10.) What are the sample mean and sample standard deviation of the $x_i$?"
   ]
  },
  {
   "cell_type": "code",
   "execution_count": 98,
   "id": "378b2ede",
   "metadata": {},
   "outputs": [
    {
     "name": "stdout",
     "output_type": "stream",
     "text": [
      "500 observations is \n",
      " [3.91636763e+00 2.28255254e+00 1.61247865e+00 2.48226768e+00\n",
      " 3.24633162e-01 8.51855898e+00 8.62716368e+00 4.05897616e+00\n",
      " 1.33937582e+00 9.98555835e+00 7.71452323e+00 5.02109188e+00\n",
      " 7.95207989e+00 4.82656955e+00 6.38332342e+00 1.41063318e+00\n",
      " 3.47708856e+00 3.52400917e+00 6.18377244e+00 9.68971408e+00\n",
      " 8.50216568e+00 7.09265697e+00 9.98221405e+00 6.15683186e+00\n",
      " 4.25022957e+00 9.04423462e+00 8.20883065e+00 9.47852513e+00\n",
      " 8.99001870e+00 3.95277461e+00 1.90093980e+00 3.82667613e+00\n",
      " 4.19740167e+00 5.78174091e+00 2.19825832e+00 7.48154509e+00\n",
      " 7.70426255e+00 1.42186444e+00 7.60872832e+00 8.75963458e+00\n",
      " 3.53781577e+00 6.35805855e+00 3.91986692e+00 5.16843440e-01\n",
      " 7.67097478e+00 7.10333729e+00 6.31474306e+00 9.78404268e+00\n",
      " 1.40203488e+00 1.22675849e+00 6.12830402e+00 6.21620781e+00\n",
      " 6.76293726e+00 7.94634020e+00 7.53457173e+00 7.23960827e+00\n",
      " 7.22750404e+00 1.31257582e+00 8.01407245e+00 9.30432053e+00\n",
      " 4.85942637e+00 1.21825422e-01 5.05988746e+00 9.50769484e+00\n",
      " 4.71807014e+00 4.16378345e+00 2.22424438e+00 6.16511375e+00\n",
      " 7.11964158e+00 4.38068853e-03 7.69716941e+00 7.62417190e+00\n",
      " 1.11636284e-01 6.89136789e+00 7.22106575e+00 2.98344090e-01\n",
      " 6.27747907e-02 5.00011914e+00 4.15014911e+00 6.76287595e-01\n",
      " 7.63458165e-01 9.60541451e+00 1.64844058e-01 3.85486400e+00\n",
      " 6.34630690e+00 6.36499430e+00 4.59387793e+00 6.75312156e+00\n",
      " 7.64559155e+00 4.75045605e+00 4.13222279e+00 4.97659703e+00\n",
      " 8.47477813e+00 9.54008241e+00 2.50156080e+00 6.78929399e+00\n",
      " 8.79997521e+00 1.50501292e+00 1.79814305e+00 6.88973285e+00\n",
      " 1.69564970e+00 3.57998427e+00 8.42926475e+00 1.15941919e+00\n",
      " 6.89062371e+00 1.58676582e+00 8.14131018e+00 2.50954428e+00\n",
      " 2.19102984e+00 5.25578330e+00 8.24759033e+00 6.88721672e+00\n",
      " 7.11235637e+00 4.34489404e+00 7.60360117e+00 9.12645366e+00\n",
      " 3.42304362e+00 8.21953884e+00 9.95729803e+00 5.37147781e+00\n",
      " 3.71333338e+00 7.48597199e+00 8.98835270e+00 2.44667087e+00\n",
      " 1.09347451e+00 5.54187630e+00 6.86880698e+00 7.22515965e+00\n",
      " 3.91588222e-01 6.41007125e+00 1.84801747e+00 9.91877755e+00\n",
      " 5.56390583e+00 9.46621484e+00 2.89657611e+00 5.06010405e+00\n",
      " 8.27192306e+00 1.48179530e+00 8.24086339e+00 7.12550029e+00\n",
      " 4.38452725e+00 7.76025925e+00 5.46095002e-01 9.53890417e+00\n",
      " 9.39359197e+00 5.35356685e+00 8.45158238e+00 7.73189142e+00\n",
      " 3.82610542e+00 2.44256342e-01 2.88079098e+00 5.24990169e+00\n",
      " 4.73867585e+00 7.37133191e+00 1.70187726e+00 4.44530154e+00\n",
      " 6.96957874e+00 1.01491506e-01 1.04813848e+00 8.76822104e+00\n",
      " 4.02388204e-02 4.07111414e+00 9.89507275e+00 2.13534791e+00\n",
      " 8.88912982e+00 5.12891885e+00 7.88947864e+00 7.70693992e+00\n",
      " 6.59649350e+00 8.68815394e+00 6.11086031e+00 3.67410595e+00\n",
      " 5.87460856e+00 4.88170324e+00 5.03302958e+00 7.58311550e+00\n",
      " 3.20879286e+00 6.28117181e+00 1.50627925e+00 8.47996276e+00\n",
      " 2.98701302e+00 4.10303788e+00 4.51065890e+00 5.24443230e+00\n",
      " 8.99530527e+00 5.94302389e+00 9.53348533e+00 2.84588086e+00\n",
      " 8.84797091e+00 2.81222835e+00 2.87613450e+00 4.28766605e+00\n",
      " 2.20733260e+00 4.72526669e-01 5.61900877e+00 9.18334223e+00\n",
      " 8.97042231e+00 4.69719023e+00 8.95547155e+00 1.40952281e+00\n",
      " 5.82814694e+00 6.30900808e+00 9.43354131e-01 4.20073470e+00\n",
      " 3.99387508e+00 5.29089850e+00 4.67482627e+00 3.70125197e+00\n",
      " 9.29030961e+00 1.35733929e+00 3.26390709e+00 7.55629106e+00\n",
      " 4.41617113e+00 4.78823950e+00 4.51289094e+00 8.07727003e+00\n",
      " 1.72264953e+00 9.40370592e+00 1.42774673e+00 3.93857254e+00\n",
      " 9.78229071e+00 1.17851738e+00 1.89749543e+00 6.89375074e+00\n",
      " 7.65804483e+00 7.12478467e+00 1.40800796e-01 7.54674702e+00\n",
      " 2.72549337e+00 8.55171361e+00 9.53183644e+00 9.30034876e+00\n",
      " 7.71627875e+00 8.86906092e+00 1.64670921e+00 7.98929091e+00\n",
      " 5.22714597e+00 6.77485011e+00 3.97488114e-01 1.11091606e+00\n",
      " 2.75925916e-01 4.54556170e+00 3.52530253e+00 2.29419940e+00\n",
      " 2.50122497e+00 3.69673931e+00 6.68062970e-01 1.72986495e+00\n",
      " 5.30830946e+00 2.57156789e+00 6.81883534e+00 5.52161500e+00\n",
      " 9.24664687e+00 7.64421913e+00 7.31361725e+00 2.70499609e+00\n",
      " 7.84633321e+00 5.54611896e+00 1.13638927e+00 1.70813038e+00\n",
      " 4.75612840e+00 3.96499627e+00 1.30767607e+00 2.67035053e-01\n",
      " 9.45687349e+00 5.16744697e+00 5.89057205e+00 4.80268147e+00\n",
      " 8.21772687e+00 5.15496421e+00 6.19485307e+00 9.04833940e+00\n",
      " 5.03073759e+00 2.48037905e+00 7.60146621e-01 3.29292662e+00\n",
      " 4.74749325e+00 6.84441425e+00 8.33159532e+00 2.53352720e+00\n",
      " 4.73991132e+00 5.64852696e-02 9.58666414e-01 3.75454821e+00\n",
      " 1.73052472e+00 8.37530135e+00 5.56700301e+00 6.04636199e+00\n",
      " 3.94186510e+00 8.61889941e+00 3.88951645e+00 7.63425299e+00\n",
      " 1.45896289e+00 6.94308797e+00 4.23795536e+00 9.16323391e+00\n",
      " 7.66541229e+00 3.10315875e+00 8.35816292e+00 3.08391938e+00\n",
      " 4.13696539e+00 4.95301506e+00 2.64627807e-01 6.55313842e+00\n",
      " 8.14758751e+00 6.07277698e+00 9.78906794e+00 5.78908728e+00\n",
      " 6.62041170e+00 3.08366453e+00 7.51849563e+00 5.25690540e+00\n",
      " 5.31636353e-01 6.30939207e+00 3.46503309e+00 3.71570106e-01\n",
      " 8.82852516e+00 3.14584054e+00 5.42853720e+00 1.34535379e+00\n",
      " 6.92844230e+00 8.12715975e+00 3.03625799e+00 6.52588237e+00\n",
      " 2.62959080e+00 1.80363535e-01 8.51428324e+00 5.25705398e+00\n",
      " 4.55451855e+00 9.48689526e+00 2.58123700e+00 1.56239772e+00\n",
      " 6.70890354e+00 1.07884805e-01 4.00879811e+00 6.54381542e+00\n",
      " 5.15899803e+00 8.01222618e+00 8.78011506e+00 5.82119046e+00\n",
      " 9.10592541e+00 1.07579874e+00 1.19262007e+00 8.27359711e+00\n",
      " 8.67927691e+00 6.27863689e+00 1.38338079e+00 2.92136659e+00\n",
      " 5.62841843e+00 1.74942744e+00 7.08647217e+00 8.20902798e+00\n",
      " 5.05821438e+00 8.99631483e+00 8.30926957e+00 5.94410824e+00\n",
      " 8.67809657e+00 9.09172912e+00 9.52837617e+00 3.97474992e+00\n",
      " 7.60694656e+00 3.89766797e+00 7.23607343e+00 6.97525487e+00\n",
      " 9.10062202e+00 7.11313275e+00 4.64523433e+00 3.67320341e+00\n",
      " 3.56551057e-01 6.59475612e+00 8.99149767e+00 2.18947361e+00\n",
      " 8.01828221e-01 4.24302179e+00 7.52056518e-01 3.76720271e+00\n",
      " 8.12447951e+00 9.14340926e+00 4.01912545e+00 8.46242472e+00\n",
      " 1.57161187e+00 1.80816454e+00 8.96099701e+00 3.44008399e+00\n",
      " 8.81299280e+00 1.43434264e+00 8.75403475e+00 8.15774415e+00\n",
      " 8.71106699e+00 1.98983987e+00 8.13674312e+00 1.27550646e+00\n",
      " 8.53479889e+00 5.09966763e+00 1.34513384e+00 5.97277792e+00\n",
      " 6.89897411e+00 3.59040129e+00 8.23174721e+00 7.35619612e+00\n",
      " 5.49899472e+00 6.91957533e+00 5.93821484e-01 3.00589715e+00\n",
      " 3.17846225e+00 1.05592846e+00 2.22775661e+00 4.10955567e+00\n",
      " 5.98544574e+00 2.26273687e+00 2.71315955e+00 3.87970766e+00\n",
      " 4.95194721e-01 1.00918797e+00 2.96812465e+00 3.20394219e+00\n",
      " 5.69988917e+00 7.26854015e+00 4.47725521e+00 7.86583468e+00\n",
      " 7.99030122e+00 1.55796409e-01 3.36414775e+00 7.14049186e+00\n",
      " 1.23483901e+00 2.20905706e+00 2.00533958e+00 8.65029101e+00\n",
      " 5.15297382e+00 6.41117049e+00 7.13685841e+00 6.85408932e+00\n",
      " 8.05724810e+00 9.49168495e+00 4.17774233e+00 4.89652487e+00\n",
      " 2.65530708e+00 6.01462028e+00 1.24988119e+00 8.55052478e+00\n",
      " 9.75087927e+00 8.51480515e+00 3.38846232e+00 4.66185963e+00\n",
      " 2.03549393e+00 9.31907309e-02 1.01728802e+00 9.53062316e+00\n",
      " 1.20679930e+00 6.39485203e-01 5.71291236e+00 6.82100879e-01\n",
      " 8.99643034e+00 5.09565483e+00 4.84400520e+00 6.64822139e-02\n",
      " 7.06538213e+00 4.16940262e+00 3.18418327e+00 8.65160175e+00\n",
      " 6.51983228e+00 7.08246841e+00 6.08468246e+00 7.69469424e+00\n",
      " 6.01321634e+00 7.22594154e+00 4.06647699e+00 9.08848143e+00\n",
      " 3.76267663e+00 7.32272588e+00 9.82267053e+00 4.66806157e+00\n",
      " 2.04136634e+00 3.26750146e+00 4.85144048e+00 6.49141379e+00\n",
      " 8.31184649e+00 5.08605941e+00 6.27904302e-01 4.58970656e+00\n",
      " 8.77751843e+00 8.76905761e-02 9.69465277e+00 6.28187270e+00\n",
      " 3.83802922e+00 6.27180160e-01 5.91154888e+00 6.61130642e+00\n",
      " 1.04287783e+00 8.02702323e+00 9.76316649e+00 8.38304369e+00\n",
      " 1.89661915e+00 3.63575854e+00 7.07990635e-01 4.02459604e+00\n",
      " 6.28045349e+00 5.76534801e+00 1.44519897e+00 9.78805633e+00]\n"
     ]
    }
   ],
   "source": [
    "X = np.array([random.uniform(0, 10) for _ in range(500)])\n",
    "print(f'500 observations is \\n {X}')"
   ]
  },
  {
   "cell_type": "code",
   "execution_count": 99,
   "id": "c743ba4c",
   "metadata": {},
   "outputs": [
    {
     "name": "stdout",
     "output_type": "stream",
     "text": [
      "Standart mean of X is 5.168\n"
     ]
    }
   ],
   "source": [
    "print(f\"Standart mean of X is {X.mean().round(3)}\")"
   ]
  },
  {
   "cell_type": "code",
   "execution_count": 100,
   "id": "f70220c7",
   "metadata": {},
   "outputs": [
    {
     "name": "stdout",
     "output_type": "stream",
     "text": [
      "Standart Variation of X is 2.879\n"
     ]
    }
   ],
   "source": [
    "print(f\"Standart Variation of X is {X.std().round(3)}\")"
   ]
  },
  {
   "cell_type": "markdown",
   "id": "df0aeb81",
   "metadata": {},
   "source": [
    "<p id=\"errors\"><b>8.B</b></p>\n",
    "2. Randomly generate $500$ errors, $u_i$, from the Normal[0,36] distribution. (If you generate a Normal[0,1], as is commonly available, simply multiply the outcomes by six.) Is the sample average of the $u_i$ exactly zero? Why or why not? What is the sample standard deviation of the $u_i$?"
   ]
  },
  {
   "cell_type": "code",
   "execution_count": 101,
   "id": "9635bcf7",
   "metadata": {},
   "outputs": [
    {
     "name": "stdout",
     "output_type": "stream",
     "text": [
      "500 errors is \n",
      " [-6.46443136e+00 -1.48273070e+00  1.96550135e+00 -7.27414255e+00\n",
      " -1.43688691e+00  6.73290647e+00  6.43835093e+00  3.20802551e+00\n",
      " -6.94108917e+00  9.08693483e+00  7.19077799e-01  3.61997780e+00\n",
      " -8.37038233e-01  5.07587518e+00 -2.26435494e+00 -1.54582112e+00\n",
      " -3.56409242e+00 -1.41608374e+00 -1.14767355e+00 -1.60529508e+00\n",
      "  2.04805931e+00 -5.25760751e+00  8.37573174e+00  4.70990949e-01\n",
      " -4.09318394e+00  3.13033344e-01 -4.01342859e+00 -2.25582475e+00\n",
      "  3.76762247e+00 -1.72491583e+01  1.30220655e+01 -7.55970810e+00\n",
      "  5.71012400e+00 -1.43960762e-01  2.83391080e+00 -1.96489754e+00\n",
      " -9.23465318e+00  5.70367042e-01 -4.72194277e+00 -6.31364038e+00\n",
      "  4.29659421e+00 -8.43076678e+00  6.98164620e+00  2.44095912e+00\n",
      " -4.30870107e+00 -1.95543940e+00  1.51114950e-01  2.33339774e-01\n",
      "  5.66461936e+00  3.52355281e+00  2.37165716e+00 -3.30756017e+00\n",
      "  6.29247462e+00  1.04127997e+00 -1.03785140e+01  8.57381774e+00\n",
      " -7.62579007e+00 -9.96107039e+00 -3.85093561e+00  7.84626650e+00\n",
      " -6.98752716e+00  1.18290495e+01 -2.37760882e+00  6.01588231e+00\n",
      "  2.93966862e+00  8.16352198e+00 -8.78961031e+00 -4.86329170e+00\n",
      "  1.00516329e+01 -7.68042675e+00 -8.29652887e+00  9.27354554e+00\n",
      " -3.49331548e+00 -3.09701807e+00 -8.68353945e+00 -6.39859367e+00\n",
      "  1.56406368e+00  8.51811518e+00  4.33331344e+00 -2.69659425e+00\n",
      "  3.81855882e+00  4.92313850e+00  4.70790019e+00 -2.05866117e+00\n",
      " -4.68716035e+00  4.09648602e+00 -2.13305473e+00 -6.01087717e+00\n",
      " -2.69506328e+00 -4.88618533e+00 -3.43081481e+00 -7.73246951e+00\n",
      "  1.89005422e+00 -1.51616459e+01 -2.82639443e+00 -6.23338632e-01\n",
      " -3.89249971e+00  2.15057400e+00 -3.15287731e+00 -4.81206875e+00\n",
      "  3.44485333e+00 -4.82023150e-01  5.01064505e+00 -5.28047832e+00\n",
      "  3.48931506e+00 -3.58756344e+00 -7.15704172e+00  2.35442658e+00\n",
      " -1.10904626e+01 -2.31779506e-01  1.89841176e+00  7.01765008e+00\n",
      " -1.64894864e+01 -1.82811381e-01  2.76010865e+00  8.58717658e-01\n",
      " -1.79796149e+00 -6.30999168e+00 -1.14463878e+01  6.08514069e+00\n",
      "  3.66207860e+00 -3.53906812e-01 -7.54626525e+00  3.00781280e+00\n",
      "  4.26803063e+00  3.81722993e+00  1.12658283e+01 -2.30738538e+00\n",
      " -3.07361665e+00  2.38266266e+00 -5.76829690e+00 -5.73980704e+00\n",
      "  2.74894069e-01 -2.71807601e-02 -1.90379555e+00  7.09010220e+00\n",
      " -4.69953439e+00 -3.09811739e+00 -3.91979736e+00  2.68792569e+00\n",
      " -3.55842719e+00 -9.58897806e-01  3.69485910e+00  2.02176168e+00\n",
      "  4.69318654e+00 -9.31390614e+00  1.56550146e+00 -6.05592039e+00\n",
      "  2.23785911e+00  3.33298676e+00  2.11181284e+00  6.59056240e+00\n",
      " -9.39854107e+00  6.20482227e-02  1.85573222e+00 -7.20996948e-01\n",
      " -5.61843092e-02  9.13389573e+00 -3.78572909e+00  3.96726154e+00\n",
      " -4.53642575e+00  6.97133694e+00 -6.07402911e-02  6.44993601e+00\n",
      " -2.73234656e+00 -3.92082429e-01  1.11417528e+01  3.53880571e+00\n",
      "  1.01839639e+01 -2.56647718e+00  2.02159583e+00  1.59979221e+00\n",
      " -3.19527370e+00 -4.25284651e-01  1.59851268e+00 -1.07143462e+01\n",
      "  7.40344047e+00  1.57053712e+01 -3.80257639e-01 -5.60540702e-01\n",
      " -8.17305878e+00 -3.55139400e+00 -2.47790165e+00 -1.87727688e+00\n",
      " -1.82721964e-02 -1.89057084e+00 -7.89812048e+00  3.32511142e+00\n",
      " -1.16052902e+01 -1.01279191e+01  5.82030072e+00 -8.53474248e+00\n",
      " -3.87278163e+00 -2.48043658e+00  2.66362778e+00  8.50038680e+00\n",
      "  2.43276267e+00  9.75174176e+00  3.49271253e-01  1.08063503e+01\n",
      "  7.99531807e-01  4.63843482e+00  3.28747785e+00 -8.50678983e+00\n",
      " -4.79840863e+00 -3.08507995e+00  2.82724585e+00 -7.06467404e+00\n",
      " -5.69931734e+00 -2.39535409e+00  1.13865853e+00  9.75478069e-02\n",
      " -2.32882294e+00 -5.82277695e+00 -2.77827345e+00 -7.87622877e+00\n",
      " -2.41439906e+00 -9.41423585e-01  2.86378101e-01  5.38987521e+00\n",
      "  3.41470584e-01  6.29060343e+00 -1.60701922e+00 -3.70277405e+00\n",
      " -3.59710792e+00 -5.83608270e-01 -7.31462505e+00 -8.74653271e+00\n",
      "  3.14558777e+00 -9.03844766e-01  1.97064543e+00 -1.20466717e+01\n",
      " -7.59899088e+00  6.50635557e+00  1.03450247e+01  3.40000450e+00\n",
      " -9.81991146e+00  3.44743163e+00 -7.31162565e+00 -1.38483757e+01\n",
      " -1.15013161e+00  5.96204981e+00 -4.43226160e+00  4.71019677e+00\n",
      "  9.46249099e+00 -5.96272309e+00 -5.18650850e+00 -4.49444804e-01\n",
      "  7.39286653e+00 -1.29847202e+00  2.74055632e+00  3.03537835e-01\n",
      "  3.34273714e+00 -1.67596070e+00  1.52610851e+00 -1.31010226e-01\n",
      " -8.60870575e-01  1.41331306e+00  9.48412857e-02 -4.63773590e+00\n",
      "  3.24500915e+00 -3.01961914e+00 -2.53949833e+00 -1.10685243e+01\n",
      "  9.18826572e+00 -6.72697241e-01 -4.51201535e+00  1.38717995e+01\n",
      "  3.85837521e-01 -3.03120183e-01 -2.94095991e+00 -7.81544517e+00\n",
      " -8.87814629e+00 -8.74925978e+00  1.53728837e+00 -2.88691459e+00\n",
      "  6.27542967e+00 -1.32471494e+01  1.03591727e+01 -8.42745142e-01\n",
      " -2.18278026e+00  8.30364045e+00 -5.48469525e+00  6.81796828e+00\n",
      " -4.63835225e+00  4.38600102e-01  9.86809627e-01  8.07351497e+00\n",
      "  6.49556284e+00 -1.88718344e+00  5.37682088e-01  6.75475510e+00\n",
      "  9.68529074e-01 -7.31655909e+00  1.07352786e+01 -5.82489040e+00\n",
      "  4.04532117e+00 -2.04778679e+00 -7.73517760e+00  7.05753031e+00\n",
      " -1.29856121e+00  2.28999727e+00 -5.01015013e+00 -2.60034175e-01\n",
      "  1.27271711e+00 -8.43038781e+00 -3.93819864e+00  7.16739279e-01\n",
      " -7.83605059e+00 -3.18603751e-01  2.90389792e+00  1.29860569e+01\n",
      " -2.47041090e+00 -6.27900428e+00 -7.08099037e+00  6.71229766e+00\n",
      "  3.44663291e+00 -2.86968335e+00  9.86563221e-01  8.36026773e+00\n",
      "  1.39062779e+00 -6.30043685e-01  7.39238498e+00 -3.01777003e+00\n",
      " -1.17438227e+01 -2.72372490e+00 -8.29889615e-01  2.37379076e+00\n",
      " -4.98758749e+00 -1.07067039e+01  1.04215595e+01 -8.85766129e+00\n",
      " -1.85225952e-01 -3.31102271e+00 -3.43090813e+00 -5.84060785e+00\n",
      " -5.96343813e+00 -3.38499136e+00 -1.94692105e+00 -4.20235671e+00\n",
      " -1.09479427e+00  1.36678799e+00  1.39850631e+00 -3.96279775e+00\n",
      "  1.71643614e+00 -2.28849061e+00  2.51103871e-02  4.07653552e+00\n",
      " -5.03266130e-01  1.37035472e+00  7.86450013e+00  1.04988414e+01\n",
      " -1.14850837e+00 -6.58324936e+00  2.01916446e+00 -4.83286951e-01\n",
      " -1.33212538e+00  4.60151309e+00 -3.64925546e+00  3.28446105e+00\n",
      " -9.13265950e+00 -4.50591995e+00  8.85590079e+00 -7.35456654e+00\n",
      " -8.62914244e+00 -8.48356935e+00 -1.58971036e+00 -1.27710570e+00\n",
      "  5.64402354e+00 -6.81387067e-01 -1.88992622e-01  7.61613431e+00\n",
      "  5.12115589e+00 -1.03603722e+00 -5.17444017e+00  7.67266752e+00\n",
      "  1.97912975e+00 -2.59727481e+00  3.90898436e-02  3.53451869e-01\n",
      " -4.07265344e+00 -3.09741127e+00  8.80420899e+00 -7.25776508e+00\n",
      "  8.12868347e-01  6.10925320e-01 -2.44262248e+00  9.30429154e-01\n",
      "  1.26832976e+00  1.85492961e+00  3.64649250e+00  1.54021629e+00\n",
      " -3.35156204e+00 -8.24979575e+00 -5.24234642e+00  2.27341173e+00\n",
      " -9.09313959e+00  2.25889094e+00 -6.94702755e+00  1.80179702e+01\n",
      "  2.29886355e+00  7.13066449e-01 -1.14189674e+01  1.74949291e+01\n",
      "  3.52208780e+00  4.40349382e+00  2.75499815e+00 -9.40892573e+00\n",
      " -6.56411897e+00 -7.31509220e+00  5.57445867e+00 -4.21092235e+00\n",
      " -2.20048383e+00  3.75307970e+00 -3.85569732e-01  6.05642631e+00\n",
      " -5.82361370e+00 -4.61806997e+00 -2.03631880e+00  4.68087047e+00\n",
      " -8.61433476e+00  3.30376990e+00 -1.88672880e+01 -1.16052813e+00\n",
      " -1.29175877e-01 -4.53037329e+00  9.97199590e+00 -4.96361085e+00\n",
      "  4.58587951e+00  8.00314111e+00 -5.39850431e-01  5.90276767e+00\n",
      " -4.96899797e+00 -6.88967121e+00 -1.23498708e+00  8.54620985e+00\n",
      "  2.90538415e+00  5.11340973e+00  1.12519776e+01  3.88465830e+00\n",
      " -4.21208247e+00 -3.72541748e+00 -1.94487983e+01 -4.30165856e+00\n",
      " -6.48410882e-02 -2.88988527e+00  2.44754135e+00  4.27968161e+00\n",
      " -6.65724911e+00  3.44926862e-01 -1.25438969e+01 -5.29395413e+00\n",
      " -1.05182301e+00  6.01765750e+00 -1.84267440e+00 -3.76292630e+00\n",
      " -5.49841496e+00  1.08118318e+01  6.24826334e+00  5.97186525e+00\n",
      "  4.70642958e+00 -9.30873439e+00 -7.66614061e+00 -1.71615771e+00\n",
      " -3.88211533e+00 -8.54107866e-01 -9.24528413e-01 -7.21423939e-01\n",
      "  3.60081208e+00 -3.15508295e+00  1.95581720e+00  6.80846808e-01\n",
      " -1.44950030e+00  5.64913385e+00 -4.94781969e-01 -9.55990685e+00\n",
      "  4.12410310e+00 -6.00713508e-01  9.89106099e+00 -4.97841920e-01\n",
      "  3.13871151e+00 -3.52168125e+00 -5.20745797e+00  4.78109862e+00\n",
      "  7.86366390e+00 -1.81940305e+00  2.39245541e-01 -2.83475585e+00\n",
      " -4.66297835e-01  7.72731354e+00  1.18290201e+00 -7.66943144e+00\n",
      "  5.13230254e+00  1.31963750e-01 -3.55765975e+00 -7.75194263e+00\n",
      " -1.45193177e-01 -6.18026732e+00 -7.71315780e+00 -8.22617146e-01]\n"
     ]
    }
   ],
   "source": [
    "mean = 0 # mean from normal distribution\n",
    "mu = 6 # standart error of normal distribution\n",
    "U = np.array([random.normalvariate(mean,mu) for _ in  range(0,500)])\n",
    "print(f'500 errors is \\n {U}')"
   ]
  },
  {
   "cell_type": "code",
   "execution_count": 102,
   "id": "7aeba77b",
   "metadata": {},
   "outputs": [
    {
     "name": "stdout",
     "output_type": "stream",
     "text": [
      "Mean average of U is -0.497 \n"
     ]
    }
   ],
   "source": [
    "print(f\"Mean average of U is {U.mean().round(3)} \")"
   ]
  },
  {
   "cell_type": "code",
   "execution_count": 103,
   "id": "82ee89dd",
   "metadata": {},
   "outputs": [
    {
     "name": "stdout",
     "output_type": "stream",
     "text": [
      "Standart deviation of U is 5.776\n"
     ]
    }
   ],
   "source": [
    "print(f\"Standart deviation of U is {U.std().round(3)}\")"
   ]
  },
  {
   "cell_type": "markdown",
   "id": "66e59aa0",
   "metadata": {},
   "source": [
    "<p id=\"regression\"><b>8.C</b></p>\n",
    "Now generate the $y_i$ as $$y_i = 1+2x_i + u_i = \\beta_0 + \\beta_1x_i + u_i;$$ that is, the population intercept is one and the population slope is two. Use the data to run the regression of $y_i$ on $x_i$. What are your estimates of the intercept and slope? Are they equal to the population values in the above equation? Explain."
   ]
  },
  {
   "cell_type": "code",
   "execution_count": 104,
   "id": "d34206e5",
   "metadata": {},
   "outputs": [
    {
     "data": {
      "text/plain": [
       "array([7.83273526e+00, 4.56510508e+00, 3.22495730e+00, 4.96453536e+00,\n",
       "       6.49266325e-01, 1.70371180e+01, 1.72543274e+01, 8.11795232e+00,\n",
       "       2.67875163e+00, 1.99711167e+01, 1.54290465e+01, 1.00421838e+01,\n",
       "       1.59041598e+01, 9.65313910e+00, 1.27666468e+01, 2.82126636e+00,\n",
       "       6.95417712e+00, 7.04801833e+00, 1.23675449e+01, 1.93794282e+01,\n",
       "       1.70043314e+01, 1.41853139e+01, 1.99644281e+01, 1.23136637e+01,\n",
       "       8.50045914e+00, 1.80884692e+01, 1.64176613e+01, 1.89570503e+01,\n",
       "       1.79800374e+01, 7.90554923e+00, 3.80187959e+00, 7.65335225e+00,\n",
       "       8.39480335e+00, 1.15634818e+01, 4.39651664e+00, 1.49630902e+01,\n",
       "       1.54085251e+01, 2.84372889e+00, 1.52174566e+01, 1.75192692e+01,\n",
       "       7.07563154e+00, 1.27161171e+01, 7.83973383e+00, 1.03368688e+00,\n",
       "       1.53419496e+01, 1.42066746e+01, 1.26294861e+01, 1.95680854e+01,\n",
       "       2.80406977e+00, 2.45351698e+00, 1.22566080e+01, 1.24324156e+01,\n",
       "       1.35258745e+01, 1.58926804e+01, 1.50691435e+01, 1.44792165e+01,\n",
       "       1.44550081e+01, 2.62515164e+00, 1.60281449e+01, 1.86086411e+01,\n",
       "       9.71885274e+00, 2.43650844e-01, 1.01197749e+01, 1.90153897e+01,\n",
       "       9.43614027e+00, 8.32756691e+00, 4.44848875e+00, 1.23302275e+01,\n",
       "       1.42392832e+01, 8.76137706e-03, 1.53943388e+01, 1.52483438e+01,\n",
       "       2.23272567e-01, 1.37827358e+01, 1.44421315e+01, 5.96688180e-01,\n",
       "       1.25549581e-01, 1.00002383e+01, 8.30029822e+00, 1.35257519e+00,\n",
       "       1.52691633e+00, 1.92108290e+01, 3.29688116e-01, 7.70972800e+00,\n",
       "       1.26926138e+01, 1.27299886e+01, 9.18775586e+00, 1.35062431e+01,\n",
       "       1.52911831e+01, 9.50091210e+00, 8.26444558e+00, 9.95319406e+00,\n",
       "       1.69495563e+01, 1.90801648e+01, 5.00312160e+00, 1.35785880e+01,\n",
       "       1.75999504e+01, 3.01002585e+00, 3.59628610e+00, 1.37794657e+01,\n",
       "       3.39129940e+00, 7.15996854e+00, 1.68585295e+01, 2.31883837e+00,\n",
       "       1.37812474e+01, 3.17353163e+00, 1.62826204e+01, 5.01908856e+00,\n",
       "       4.38205968e+00, 1.05115666e+01, 1.64951807e+01, 1.37744334e+01,\n",
       "       1.42247127e+01, 8.68978807e+00, 1.52072023e+01, 1.82529073e+01,\n",
       "       6.84608724e+00, 1.64390777e+01, 1.99145961e+01, 1.07429556e+01,\n",
       "       7.42666676e+00, 1.49719440e+01, 1.79767054e+01, 4.89334174e+00,\n",
       "       2.18694903e+00, 1.10837526e+01, 1.37376140e+01, 1.44503193e+01,\n",
       "       7.83176444e-01, 1.28201425e+01, 3.69603493e+00, 1.98375551e+01,\n",
       "       1.11278117e+01, 1.89324297e+01, 5.79315222e+00, 1.01202081e+01,\n",
       "       1.65438461e+01, 2.96359059e+00, 1.64817268e+01, 1.42510006e+01,\n",
       "       8.76905450e+00, 1.55205185e+01, 1.09219000e+00, 1.90778083e+01,\n",
       "       1.87871839e+01, 1.07071337e+01, 1.69031648e+01, 1.54637828e+01,\n",
       "       7.65221083e+00, 4.88512685e-01, 5.76158196e+00, 1.04998034e+01,\n",
       "       9.47735170e+00, 1.47426638e+01, 3.40375452e+00, 8.89060308e+00,\n",
       "       1.39391575e+01, 2.02983012e-01, 2.09627695e+00, 1.75364421e+01,\n",
       "       8.04776408e-02, 8.14222828e+00, 1.97901455e+01, 4.27069581e+00,\n",
       "       1.77782596e+01, 1.02578377e+01, 1.57789573e+01, 1.54138798e+01,\n",
       "       1.31929870e+01, 1.73763079e+01, 1.22217206e+01, 7.34821191e+00,\n",
       "       1.17492171e+01, 9.76340647e+00, 1.00660592e+01, 1.51662310e+01,\n",
       "       6.41758571e+00, 1.25623436e+01, 3.01255849e+00, 1.69599255e+01,\n",
       "       5.97402604e+00, 8.20607575e+00, 9.02131781e+00, 1.04888646e+01,\n",
       "       1.79906105e+01, 1.18860478e+01, 1.90669707e+01, 5.69176172e+00,\n",
       "       1.76959418e+01, 5.62445669e+00, 5.75226900e+00, 8.57533210e+00,\n",
       "       4.41466520e+00, 9.45053339e-01, 1.12380175e+01, 1.83666845e+01,\n",
       "       1.79408446e+01, 9.39438047e+00, 1.79109431e+01, 2.81904561e+00,\n",
       "       1.16562939e+01, 1.26180162e+01, 1.88670826e+00, 8.40146940e+00,\n",
       "       7.98775016e+00, 1.05817970e+01, 9.34965254e+00, 7.40250394e+00,\n",
       "       1.85806192e+01, 2.71467858e+00, 6.52781418e+00, 1.51125821e+01,\n",
       "       8.83234226e+00, 9.57647900e+00, 9.02578187e+00, 1.61545401e+01,\n",
       "       3.44529905e+00, 1.88074118e+01, 2.85549346e+00, 7.87714509e+00,\n",
       "       1.95645814e+01, 2.35703476e+00, 3.79499086e+00, 1.37875015e+01,\n",
       "       1.53160897e+01, 1.42495693e+01, 2.81601593e-01, 1.50934940e+01,\n",
       "       5.45098675e+00, 1.71034272e+01, 1.90636729e+01, 1.86006975e+01,\n",
       "       1.54325575e+01, 1.77381218e+01, 3.29341843e+00, 1.59785818e+01,\n",
       "       1.04542919e+01, 1.35497002e+01, 7.94976228e-01, 2.22183212e+00,\n",
       "       5.51851832e-01, 9.09112339e+00, 7.05060506e+00, 4.58839880e+00,\n",
       "       5.00244994e+00, 7.39347861e+00, 1.33612594e+00, 3.45972990e+00,\n",
       "       1.06166189e+01, 5.14313577e+00, 1.36376707e+01, 1.10432300e+01,\n",
       "       1.84932937e+01, 1.52884383e+01, 1.46272345e+01, 5.40999218e+00,\n",
       "       1.56926664e+01, 1.10922379e+01, 2.27277854e+00, 3.41626076e+00,\n",
       "       9.51225680e+00, 7.92999255e+00, 2.61535213e+00, 5.34070106e-01,\n",
       "       1.89137470e+01, 1.03348939e+01, 1.17811441e+01, 9.60536295e+00,\n",
       "       1.64354537e+01, 1.03099284e+01, 1.23897061e+01, 1.80966788e+01,\n",
       "       1.00614752e+01, 4.96075810e+00, 1.52029324e+00, 6.58585323e+00,\n",
       "       9.49498649e+00, 1.36888285e+01, 1.66631906e+01, 5.06705441e+00,\n",
       "       9.47982264e+00, 1.12970539e-01, 1.91733283e+00, 7.50909642e+00,\n",
       "       3.46104944e+00, 1.67506027e+01, 1.11340060e+01, 1.20927240e+01,\n",
       "       7.88373020e+00, 1.72377988e+01, 7.77903290e+00, 1.52685060e+01,\n",
       "       2.91792578e+00, 1.38861759e+01, 8.47591071e+00, 1.83264678e+01,\n",
       "       1.53308246e+01, 6.20631750e+00, 1.67163258e+01, 6.16783875e+00,\n",
       "       8.27393079e+00, 9.90603012e+00, 5.29255615e-01, 1.31062768e+01,\n",
       "       1.62951750e+01, 1.21455540e+01, 1.95781359e+01, 1.15781746e+01,\n",
       "       1.32408234e+01, 6.16732906e+00, 1.50369913e+01, 1.05138108e+01,\n",
       "       1.06327271e+00, 1.26187841e+01, 6.93006619e+00, 7.43140211e-01,\n",
       "       1.76570503e+01, 6.29168109e+00, 1.08570744e+01, 2.69070758e+00,\n",
       "       1.38568846e+01, 1.62543195e+01, 6.07251598e+00, 1.30517647e+01,\n",
       "       5.25918160e+00, 3.60727070e-01, 1.70285665e+01, 1.05141080e+01,\n",
       "       9.10903709e+00, 1.89737905e+01, 5.16247400e+00, 3.12479544e+00,\n",
       "       1.34178071e+01, 2.15769610e-01, 8.01759622e+00, 1.30876308e+01,\n",
       "       1.03179961e+01, 1.60244524e+01, 1.75602301e+01, 1.16423809e+01,\n",
       "       1.82118508e+01, 2.15159747e+00, 2.38524015e+00, 1.65471942e+01,\n",
       "       1.73585538e+01, 1.25572738e+01, 2.76676159e+00, 5.84273317e+00,\n",
       "       1.12568369e+01, 3.49885487e+00, 1.41729443e+01, 1.64180560e+01,\n",
       "       1.01164288e+01, 1.79926297e+01, 1.66185391e+01, 1.18882165e+01,\n",
       "       1.73561931e+01, 1.81834582e+01, 1.90567523e+01, 7.94949984e+00,\n",
       "       1.52138931e+01, 7.79533593e+00, 1.44721469e+01, 1.39505097e+01,\n",
       "       1.82012440e+01, 1.42262655e+01, 9.29046866e+00, 7.34640682e+00,\n",
       "       7.13102113e-01, 1.31895122e+01, 1.79829953e+01, 4.37894721e+00,\n",
       "       1.60365644e+00, 8.48604358e+00, 1.50411304e+00, 7.53440542e+00,\n",
       "       1.62489590e+01, 1.82868185e+01, 8.03825090e+00, 1.69248494e+01,\n",
       "       3.14322374e+00, 3.61632909e+00, 1.79219940e+01, 6.88016799e+00,\n",
       "       1.76259856e+01, 2.86868529e+00, 1.75080695e+01, 1.63154883e+01,\n",
       "       1.74221340e+01, 3.97967974e+00, 1.62734862e+01, 2.55101292e+00,\n",
       "       1.70695978e+01, 1.01993353e+01, 2.69026767e+00, 1.19455558e+01,\n",
       "       1.37979482e+01, 7.18080258e+00, 1.64634944e+01, 1.47123922e+01,\n",
       "       1.09979894e+01, 1.38391507e+01, 1.18764297e+00, 6.01179429e+00,\n",
       "       6.35692451e+00, 2.11185691e+00, 4.45551322e+00, 8.21911133e+00,\n",
       "       1.19708915e+01, 4.52547373e+00, 5.42631910e+00, 7.75941532e+00,\n",
       "       9.90389441e-01, 2.01837594e+00, 5.93624929e+00, 6.40788438e+00,\n",
       "       1.13997783e+01, 1.45370803e+01, 8.95451042e+00, 1.57316694e+01,\n",
       "       1.59806024e+01, 3.11592817e-01, 6.72829549e+00, 1.42809837e+01,\n",
       "       2.46967803e+00, 4.41811412e+00, 4.01067915e+00, 1.73005820e+01,\n",
       "       1.03059476e+01, 1.28223410e+01, 1.42737168e+01, 1.37081786e+01,\n",
       "       1.61144962e+01, 1.89833699e+01, 8.35548465e+00, 9.79304973e+00,\n",
       "       5.31061416e+00, 1.20292406e+01, 2.49976239e+00, 1.71010496e+01,\n",
       "       1.95017585e+01, 1.70296103e+01, 6.77692463e+00, 9.32371926e+00,\n",
       "       4.07098787e+00, 1.86381462e-01, 2.03457604e+00, 1.90612463e+01,\n",
       "       2.41359859e+00, 1.27897041e+00, 1.14258247e+01, 1.36420176e+00,\n",
       "       1.79928607e+01, 1.01913097e+01, 9.68801041e+00, 1.32964428e-01,\n",
       "       1.41307643e+01, 8.33880524e+00, 6.36836654e+00, 1.73032035e+01,\n",
       "       1.30396646e+01, 1.41649368e+01, 1.21693649e+01, 1.53893885e+01,\n",
       "       1.20264327e+01, 1.44518831e+01, 8.13295398e+00, 1.81769629e+01,\n",
       "       7.52535325e+00, 1.46454518e+01, 1.96453411e+01, 9.33612313e+00,\n",
       "       4.08273268e+00, 6.53500292e+00, 9.70288095e+00, 1.29828276e+01,\n",
       "       1.66236930e+01, 1.01721188e+01, 1.25580860e+00, 9.17941312e+00,\n",
       "       1.75550369e+01, 1.75381152e-01, 1.93893055e+01, 1.25637454e+01,\n",
       "       7.67605843e+00, 1.25436032e+00, 1.18230978e+01, 1.32226128e+01,\n",
       "       2.08575566e+00, 1.60540465e+01, 1.95263330e+01, 1.67660874e+01,\n",
       "       3.79323829e+00, 7.27151709e+00, 1.41598127e+00, 8.04919209e+00,\n",
       "       1.25609070e+01, 1.15306960e+01, 2.89039795e+00, 1.95761127e+01])"
      ]
     },
     "execution_count": 104,
     "metadata": {},
     "output_type": "execute_result"
    }
   ],
   "source": [
    "2*X"
   ]
  },
  {
   "cell_type": "code",
   "execution_count": 105,
   "id": "566e6fc4",
   "metadata": {},
   "outputs": [
    {
     "data": {
      "text/plain": [
       "500"
      ]
     },
     "execution_count": 105,
     "metadata": {},
     "output_type": "execute_result"
    }
   ],
   "source": [
    "len(np.full((500),1))"
   ]
  },
  {
   "cell_type": "code",
   "execution_count": 106,
   "id": "afe71636",
   "metadata": {},
   "outputs": [
    {
     "name": "stdout",
     "output_type": "stream",
     "text": [
      "Generate \n",
      " [  2.36830389   4.08237439   6.19045865  -1.30960719   0.21237942\n",
      "  24.77002443  24.69267828  12.32597782  -3.26233753  30.05805152\n",
      "  17.14812425  14.66216157  16.06712155  15.72901428  11.50229191\n",
      "   2.27544524   4.3900847    6.63193459  12.21987134  18.77413309\n",
      "  20.05239067   9.92770644  29.34015984  13.78465467   5.4072752\n",
      "  19.40150259  13.40423271  17.70122551  22.74765986  -8.34360905\n",
      "  17.82394513   1.09364416  15.10492735  12.41952105   8.23042744\n",
      "  13.99819264   7.17387193   4.41409593  11.49551386  12.20562878\n",
      "  12.37222575   5.28535032  15.82138004   4.474646    12.0332485\n",
      "  13.25123517  13.78060107  20.80142513   9.46868912   6.97706979\n",
      "  15.62826519  10.12485545  20.81834914  17.93396036   5.69062945\n",
      "  24.05303427   7.82921801  -6.33591875  13.1772093   27.45490757\n",
      "   3.73132558  13.07270037   8.7421661   26.03127198  13.3758089\n",
      "  17.49108888  -3.34112156   8.4669358   25.29091602  -6.67166538\n",
      "   8.09780995  25.52188933  -2.27004292  11.68571771   6.75859205\n",
      "  -4.80190549   2.68961326  19.51835347  13.63361165  -0.34401906\n",
      "   6.34547515  25.13396752   6.0375883    6.65106683   9.00545344\n",
      "  17.82647462   8.05470113   8.49536595  13.59611982   5.61472678\n",
      "   5.83363077   3.22072455  19.83961048   4.91851887   3.17672717\n",
      "  13.95524935  14.70745072   6.16059985   1.44340879   9.96739696\n",
      "   7.83615273   7.67794539  22.86917454  -1.96163995  18.27056248\n",
      "   0.58596819  10.12557864   8.37351513  -5.70840293  11.2797871\n",
      "  19.39359243  21.79208351  -1.26477371   9.50697669  18.96731099\n",
      "  20.11162497   6.04812576  11.129086     9.46820831  17.82809632\n",
      "  12.08874536  15.61803718  11.43044016   8.90115453   7.45497965\n",
      "  15.90098254  26.00344225  13.14293392  -1.29044021  16.20280516\n",
      "  -1.07226197  15.09774805  12.40270574  19.90524893   4.88935667\n",
      "  18.21031031  12.84431174   0.8654732   13.56192941  17.93892627\n",
      "   6.21062732  15.56162069   5.7870491   22.09957001  24.48037048\n",
      "   2.39322757  19.46866622  10.40786245  10.89006994   4.82149945\n",
      "   8.8733948   18.09036579   1.07881063  15.80471205   6.25948674\n",
      "   9.16960613  14.88297317  10.33687874  -0.68945214  22.50370361\n",
      "  -3.4559481   16.11356523  20.72940522  11.72063183  16.04591308\n",
      "  10.86575527  27.92071007  19.95268555  24.37695094  15.8098307\n",
      "  15.24331644   9.94800412   9.55394342  10.33812182  12.66457183\n",
      "   5.45188485  14.82102618  29.26771481   3.63230085  17.39938483\n",
      "  -1.19903274   5.65468175   7.54341616   9.61158771  18.97233833\n",
      "  10.99547694  12.16885017  10.01687314   7.09065163  -3.50346242\n",
      "  12.57256973   1.04058962   1.54188357  -0.53538324  14.90164532\n",
      "  27.86707127  21.3736073   20.14612223  19.26021434  14.62539592\n",
      "  13.45582569  18.25645097   6.17418611   0.89467957   4.18934152\n",
      "   8.49671706  13.17689839   1.33782989  13.88130188   1.31932449\n",
      "   8.66647271  16.21012992   7.50351932   4.75370205   7.24750842\n",
      "   9.27831128   2.03089999  18.86598826   4.14187156  14.2670203\n",
      "  20.90605199   9.6476382    3.18797164  11.08472743  12.71898173\n",
      "  14.66596106  -6.03302346   7.34696133   9.59657452  17.19958246\n",
      "  22.03431831   7.55402587   8.83356662  25.24447741  14.63844317\n",
      "  20.37858632   1.63438048  17.99713185  -5.51664942 -10.62654358\n",
      "   0.40172023  16.0531732    3.61834346  10.29859557  15.46494093\n",
      "   2.43075553  -2.85038256   4.0102851   19.00948545   4.84466375\n",
      "  17.37822699  12.34676785  22.83603087  14.61247757  17.15334301\n",
      "   6.27898195  15.83179585  13.50555098   3.36761983  -0.22147514\n",
      "  13.75726595   5.91037341   1.0758538   -9.53445421  29.10201269\n",
      "  10.6621967    8.26912874  24.47716249  17.82129126  11.00680823\n",
      "  10.44874622  11.28123362   2.1833289   -2.78850167   4.05758162\n",
      "   4.69893865  16.77041617   1.44167913  28.02236332   5.22430927\n",
      "   8.29704239   9.41661099  -2.56736242  15.3270647   -0.17730281\n",
      "  18.1892028   13.12081565  21.16623896  15.37929305  16.35061537\n",
      "   9.31671498  23.02326108   4.88645485   7.56961684  20.21118935\n",
      "  13.50157742  20.37614575   5.15853072   9.98114825  14.22536906\n",
      "   7.97536958  13.1960274   -3.48089452  13.84624267  18.56789213\n",
      "   4.71516616  16.63993724  13.29491383   6.40477282   6.84872531\n",
      "  18.94088918  24.49986771  -0.40713819   7.33977985   0.84907581\n",
      "   8.45543787  22.10368323   4.42199774  12.84363763  12.0509753\n",
      "  16.24751239  16.6242758   14.46490096  11.03399471  -5.48464111\n",
      "  -1.36299783  17.19867687  13.88789872   5.1214496    9.26708664\n",
      "  16.58403351  -4.73286585  14.23258112  -2.0952531    5.58668809\n",
      "   8.247023     5.35455792  13.639461    16.61330906   8.4400242\n",
      "  18.11705654   4.51838546   4.78374646  13.58439647  20.07498995\n",
      "  11.26878317   3.79187197  10.91926869  11.75357073   5.86920959\n",
      "  23.03744446  27.91689737   9.9679204   12.40938029  19.63770359\n",
      "  12.40492952  17.02406776  23.78497133  16.40749688  12.23396089\n",
      "   7.08123362   4.28941599  24.32804764   7.59594321  10.57210159\n",
      "   6.74269614   8.7007583    7.06930112   7.35712565  13.50812516\n",
      "  18.79400272  12.99508152   7.72481233   8.45000636  -2.67032714\n",
      "  16.20707294  19.22808878  16.68954371   9.07734074  18.27830132\n",
      "   0.07057031   1.51891782  27.726203     0.62240291  19.43885395\n",
      "   4.47961061  16.06544702  18.24591746  19.69046374   6.83460935\n",
      "  20.91997874   5.09122921  14.71803574   2.9495395   -1.55207875\n",
      "  15.21896756   5.70480862  10.43969352  10.51646687  33.73036244\n",
      "  14.29685299  15.55221712  -9.23132445  24.50672344  10.87901231\n",
      "   7.51535073   8.21051138  -0.18981439   6.40677251  -1.78961846\n",
      "  12.00077777   4.54849297  -0.21009439   6.77145564   6.55067956\n",
      "  13.46431069   6.57616463  10.91901033   7.91819162  21.41253982\n",
      "   8.36626768   4.61536272 -11.13899252  14.12045558   3.34050215\n",
      "   0.88774082  14.98267505  13.33697118  15.89182715  21.8254821\n",
      "  14.73386639  20.61094631  12.14549822  13.0936987    8.12049758\n",
      "  19.33925958   9.21599831  18.1426503   14.75173999  21.98570786\n",
      "  16.28967607  14.30419282 -11.67187367   6.0220607    5.00614678\n",
      "  -1.70350381   5.48211738  24.34092793  -3.24365052   2.62389727\n",
      "  -0.11807213  -2.92975237  17.94103768  17.20896715   8.84533601\n",
      "  -2.62996187   9.6323493   20.15063708  13.61662988  24.27506876\n",
      "  18.74609413   5.85620244   5.5032243   14.67323076   9.14431735\n",
      "  14.59777522   8.20842557  18.45553891  12.12616533  12.4903688\n",
      "  22.60115825  11.01696994   3.63323238  13.18413677  10.20809899\n",
      "   4.42292074  21.74779608  10.57140531  12.14686959   9.6815712\n",
      "  21.69374837  -2.3463001   15.18184757  18.34484401  16.53972233\n",
      "   0.43495727  13.0623433   11.38785699   2.61945782  24.78136\n",
      "  21.70923499  10.09665595   9.92554083   8.40348084  -1.14167848\n",
      "   1.29724946  13.41571381   6.35042869  -3.82275985  19.75349551]\n"
     ]
    }
   ],
   "source": [
    "Y = np.full((500),1) + 2*X + U\n",
    "print(f'Generate \\n {Y}')"
   ]
  },
  {
   "cell_type": "code",
   "execution_count": 107,
   "id": "9002054f",
   "metadata": {},
   "outputs": [
    {
     "name": "stdout",
     "output_type": "stream",
     "text": [
      "                            OLS Regression Results                            \n",
      "==============================================================================\n",
      "Dep. Variable:                      y   R-squared:                       0.482\n",
      "Model:                            OLS   Adj. R-squared:                  0.481\n",
      "Method:                 Least Squares   F-statistic:                     464.2\n",
      "Date:                Sun, 15 Jun 2025   Prob (F-statistic):           3.05e-73\n",
      "Time:                        15:34:07   Log-Likelihood:                -1586.0\n",
      "No. Observations:                 500   AIC:                             3176.\n",
      "Df Residuals:                     498   BIC:                             3184.\n",
      "Df Model:                           1                                         \n",
      "Covariance Type:            nonrobust                                         \n",
      "==============================================================================\n",
      "                 coef    std err          t      P>|t|      [0.025      0.975]\n",
      "------------------------------------------------------------------------------\n",
      "const          0.8334      0.532      1.568      0.118      -0.211       1.878\n",
      "x1             1.9361      0.090     21.546      0.000       1.760       2.113\n",
      "==============================================================================\n",
      "Omnibus:                        1.331   Durbin-Watson:                   2.149\n",
      "Prob(Omnibus):                  0.514   Jarque-Bera (JB):                1.164\n",
      "Skew:                           0.029   Prob(JB):                        0.559\n",
      "Kurtosis:                       3.229   Cond. No.                         12.4\n",
      "==============================================================================\n",
      "\n",
      "Notes:\n",
      "[1] Standard Errors assume that the covariance matrix of the errors is correctly specified.\n"
     ]
    }
   ],
   "source": [
    "import statsmodels.api as sm # Library for getting model from np.array()\n",
    "X = sm.add_constant(X) # add intersept of model\n",
    "model = sm.OLS(Y,X) # creating models\n",
    "res = model.fit() # fitting()\n",
    "print(res.summary())"
   ]
  },
  {
   "cell_type": "code",
   "execution_count": 108,
   "id": "c5a392ef",
   "metadata": {},
   "outputs": [
    {
     "name": "stdout",
     "output_type": "stream",
     "text": [
      "The estimate of intercept is  0.833\n"
     ]
    }
   ],
   "source": [
    "print(f'The estimate of intercept is  {res.params[0].round(3)}')"
   ]
  },
  {
   "cell_type": "code",
   "execution_count": 109,
   "id": "4c03d661",
   "metadata": {},
   "outputs": [
    {
     "name": "stdout",
     "output_type": "stream",
     "text": [
      "The estimate of slope is  1.936\n"
     ]
    }
   ],
   "source": [
    "print(f'The estimate of slope is  {res.params[1].round(3)}')"
   ]
  },
  {
   "cell_type": "markdown",
   "id": "1d956b1a",
   "metadata": {},
   "source": [
    "<p id=\"quantities\"><b>8.D</b></p>\n",
    " Compute the same [quantities](#quantities) in equation $$\\sum\\limits_{i=1}^n \\hat{u}_i = 0, \\sum\\limits_{i=1}^n x_i\\hat{u}_i = 0  $$ but use the errors $u_i$ in place of the residuals. Now what do you conclude?"
   ]
  },
  {
   "cell_type": "code",
   "execution_count": 110,
   "id": "3f53515c",
   "metadata": {},
   "outputs": [
    {
     "name": "stdout",
     "output_type": "stream",
     "text": [
      "Summ of residuals is -0.0\n"
     ]
    }
   ],
   "source": [
    "print(f\"Summ of residuals is {res.resid.sum().round(10)}\")"
   ]
  },
  {
   "cell_type": "code",
   "execution_count": 111,
   "id": "276f9101",
   "metadata": {},
   "outputs": [
    {
     "name": "stdout",
     "output_type": "stream",
     "text": [
      "Summ of residuals is -0.0\n"
     ]
    }
   ],
   "source": [
    "print(f\"Summ of residuals is {np.array([i * j for i in X for j in res.resid ]).sum().round(5)}\")"
   ]
  },
  {
   "cell_type": "code",
   "execution_count": null,
   "id": "e39782fd",
   "metadata": {},
   "outputs": [],
   "source": []
  }
 ],
 "metadata": {
  "kernelspec": {
   "display_name": "Python 3 (ipykernel)",
   "language": "python",
   "name": "python3"
  },
  "language_info": {
   "codemirror_mode": {
    "name": "ipython",
    "version": 3
   },
   "file_extension": ".py",
   "mimetype": "text/x-python",
   "name": "python",
   "nbconvert_exporter": "python",
   "pygments_lexer": "ipython3",
   "version": "3.8.8"
  }
 },
 "nbformat": 4,
 "nbformat_minor": 5
}
