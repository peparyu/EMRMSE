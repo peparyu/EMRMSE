{
 "cells": [
  {
   "cell_type": "markdown",
   "id": "41bcd1ed",
   "metadata": {},
   "source": [
    "# Econometrics seminar"
   ]
  },
  {
   "cell_type": "markdown",
   "id": "7a4f8a65",
   "metadata": {},
   "source": [
    "### Wooldridge\n",
    "We are gonno need Data sets from wooldridge. [Click here](https://pypi.org/project/wooldridge/) to get manual to install"
   ]
  },
  {
   "cell_type": "code",
   "execution_count": 1,
   "id": "1bf92503",
   "metadata": {},
   "outputs": [],
   "source": [
    "import numpy as np\n",
    "import matplotlib.pyplot as plt\n",
    "import wooldridge"
   ]
  },
  {
   "cell_type": "code",
   "execution_count": 2,
   "id": "2775538d",
   "metadata": {},
   "outputs": [
    {
     "name": "stdout",
     "output_type": "stream",
     "text": [
      "  J.M. Wooldridge (2019) Introductory Econometrics: A Modern Approach,\n",
      "  Cengage Learning, 6th edition.\n",
      "\n",
      "  401k       401ksubs    admnrev       affairs     airfare\n",
      "  alcohol    apple       approval      athlet1     athlet2\n",
      "  attend     audit       barium        beauty      benefits\n",
      "  beveridge  big9salary  bwght         bwght2      campus\n",
      "  card       catholic    cement        census2000  ceosal1\n",
      "  ceosal2    charity     consump       corn        countymurders\n",
      "  cps78_85   cps91       crime1        crime2      crime3\n",
      "  crime4     discrim     driving       earns       econmath\n",
      "  elem94_95  engin       expendshares  ezanders    ezunem\n",
      "  fair       fertil1     fertil2       fertil3     fish\n",
      "  fringe     gpa1        gpa2          gpa3        happiness\n",
      "  hprice1    hprice2     hprice3       hseinv      htv\n",
      "  infmrt     injury      intdef        intqrt      inven\n",
      "  jtrain     jtrain2     jtrain3       kielmc      lawsch85\n",
      "  loanapp    lowbrth     mathpnl       meap00_01   meap01\n",
      "  meap93     meapsingle  minwage       mlb1        mroz\n",
      "  murder     nbasal      nyse          okun        openness\n",
      "  pension    phillips    pntsprd       prison      prminwge\n",
      "  rdchem     rdtelec     recid         rental      return\n",
      "  saving     sleep75     slp75_81      smoke       traffic1\n",
      "  traffic2   twoyear     volat         vote1       vote2\n",
      "  voucher    wage1       wage2         wagepan     wageprc\n",
      "  wine\n"
     ]
    }
   ],
   "source": [
    "wooldridge.data()"
   ]
  },
  {
   "cell_type": "markdown",
   "id": "bcb3e1f1",
   "metadata": {},
   "source": [
    "1. The data in 401K.RAW are a subset of data analyzed by Papke (1995) to study the rela- tionship between participation in a 401(k) pension plan and the generosity of the plan. The variable *prate* is the percentage of eligible workers with an active account; this is the variable we would like to explain. The measure of generosity is the plan match rate, *mrate*. This variable gives the average amount the firm contributes to each worker’s plan for each 100¢ contribution by the worker. For example, if mrate = 0.50, then a 100¢ contribution by the worker is matched by a 50¢  contribution by the firm.\n",
    "    1. Find the average participation rate and the average match rate in the sample of plans.\n",
    "    2. Now, estimate the simple regression equation prate 5 bˆ0 1 bˆ1 mrate, and report the results along with the sample size and R-squared.\n",
    "    3. Interpret the intercept in your equation. Interpret the coefficient on mrate.\n",
    "    4. Find the predicted prate when mrate 5 3.5. Is this a reasonable prediction? Explain what is happening here.\n",
    "    5. How much of the variation in prate is explained by mrate? Is this a lot in your opinion?"
   ]
  },
  {
   "cell_type": "markdown",
   "id": "5ea25892",
   "metadata": {},
   "source": [
    "<p id=\"average\"><b>1</b></p>\n",
    "The data in 401K.RAW"
   ]
  },
  {
   "cell_type": "code",
   "execution_count": 3,
   "id": "dc1bbc88",
   "metadata": {},
   "outputs": [
    {
     "name": "stdout",
     "output_type": "stream",
     "text": [
      "name of dataset: 401k\n",
      "no of variables: 8\n",
      "no of observations: 1534\n",
      "\n",
      "+----------+---------------------------------+\n",
      "| variable | label                           |\n",
      "+----------+---------------------------------+\n",
      "| prate    | participation rate, percent     |\n",
      "| mrate    | 401k plan match rate            |\n",
      "| totpart  | total 401k participants         |\n",
      "| totelg   | total eligible for 401k plan    |\n",
      "| age      | age of 401k plan                |\n",
      "| totemp   | total number of firm employees  |\n",
      "| sole     | = 1 if 401k is firm's sole plan |\n",
      "| ltotemp  | log of totemp                   |\n",
      "+----------+---------------------------------+\n",
      "\n",
      "L.E. Papke (1995), “Participation in and Contributions to 401(k)\n",
      "Pension Plans:Evidence from Plan Data,” Journal of Human Resources 30,\n",
      "311-325. Professor Papke kindly provided these data. She gathered them\n",
      "from the Internal Revenue Service’s Form 5500 tapes.\n"
     ]
    }
   ],
   "source": [
    "wooldridge.data('401k', description=True)"
   ]
  },
  {
   "cell_type": "code",
   "execution_count": 4,
   "id": "031788ae",
   "metadata": {},
   "outputs": [
    {
     "data": {
      "text/html": [
       "<div>\n",
       "<style scoped>\n",
       "    .dataframe tbody tr th:only-of-type {\n",
       "        vertical-align: middle;\n",
       "    }\n",
       "\n",
       "    .dataframe tbody tr th {\n",
       "        vertical-align: top;\n",
       "    }\n",
       "\n",
       "    .dataframe thead th {\n",
       "        text-align: right;\n",
       "    }\n",
       "</style>\n",
       "<table border=\"1\" class=\"dataframe\">\n",
       "  <thead>\n",
       "    <tr style=\"text-align: right;\">\n",
       "      <th></th>\n",
       "      <th>prate</th>\n",
       "      <th>mrate</th>\n",
       "      <th>totpart</th>\n",
       "      <th>totelg</th>\n",
       "      <th>age</th>\n",
       "      <th>totemp</th>\n",
       "      <th>sole</th>\n",
       "      <th>ltotemp</th>\n",
       "    </tr>\n",
       "  </thead>\n",
       "  <tbody>\n",
       "    <tr>\n",
       "      <th>0</th>\n",
       "      <td>26.100000</td>\n",
       "      <td>0.21</td>\n",
       "      <td>1653.0</td>\n",
       "      <td>6322.0</td>\n",
       "      <td>8</td>\n",
       "      <td>8709.0</td>\n",
       "      <td>0</td>\n",
       "      <td>9.072112</td>\n",
       "    </tr>\n",
       "    <tr>\n",
       "      <th>1</th>\n",
       "      <td>100.000000</td>\n",
       "      <td>1.42</td>\n",
       "      <td>262.0</td>\n",
       "      <td>262.0</td>\n",
       "      <td>6</td>\n",
       "      <td>315.0</td>\n",
       "      <td>1</td>\n",
       "      <td>5.752573</td>\n",
       "    </tr>\n",
       "    <tr>\n",
       "      <th>2</th>\n",
       "      <td>97.599998</td>\n",
       "      <td>0.91</td>\n",
       "      <td>166.0</td>\n",
       "      <td>170.0</td>\n",
       "      <td>10</td>\n",
       "      <td>275.0</td>\n",
       "      <td>1</td>\n",
       "      <td>5.616771</td>\n",
       "    </tr>\n",
       "    <tr>\n",
       "      <th>3</th>\n",
       "      <td>100.000000</td>\n",
       "      <td>0.42</td>\n",
       "      <td>257.0</td>\n",
       "      <td>257.0</td>\n",
       "      <td>7</td>\n",
       "      <td>500.0</td>\n",
       "      <td>0</td>\n",
       "      <td>6.214608</td>\n",
       "    </tr>\n",
       "    <tr>\n",
       "      <th>4</th>\n",
       "      <td>82.500000</td>\n",
       "      <td>0.53</td>\n",
       "      <td>591.0</td>\n",
       "      <td>716.0</td>\n",
       "      <td>28</td>\n",
       "      <td>933.0</td>\n",
       "      <td>1</td>\n",
       "      <td>6.838405</td>\n",
       "    </tr>\n",
       "    <tr>\n",
       "      <th>...</th>\n",
       "      <td>...</td>\n",
       "      <td>...</td>\n",
       "      <td>...</td>\n",
       "      <td>...</td>\n",
       "      <td>...</td>\n",
       "      <td>...</td>\n",
       "      <td>...</td>\n",
       "      <td>...</td>\n",
       "    </tr>\n",
       "    <tr>\n",
       "      <th>1529</th>\n",
       "      <td>85.099998</td>\n",
       "      <td>0.33</td>\n",
       "      <td>553.0</td>\n",
       "      <td>650.0</td>\n",
       "      <td>24</td>\n",
       "      <td>907.0</td>\n",
       "      <td>0</td>\n",
       "      <td>6.810143</td>\n",
       "    </tr>\n",
       "    <tr>\n",
       "      <th>1530</th>\n",
       "      <td>100.000000</td>\n",
       "      <td>2.52</td>\n",
       "      <td>142.0</td>\n",
       "      <td>142.0</td>\n",
       "      <td>17</td>\n",
       "      <td>197.0</td>\n",
       "      <td>1</td>\n",
       "      <td>5.283204</td>\n",
       "    </tr>\n",
       "    <tr>\n",
       "      <th>1531</th>\n",
       "      <td>100.000000</td>\n",
       "      <td>2.27</td>\n",
       "      <td>1928.0</td>\n",
       "      <td>1928.0</td>\n",
       "      <td>35</td>\n",
       "      <td>2171.0</td>\n",
       "      <td>0</td>\n",
       "      <td>7.682943</td>\n",
       "    </tr>\n",
       "    <tr>\n",
       "      <th>1532</th>\n",
       "      <td>100.000000</td>\n",
       "      <td>0.58</td>\n",
       "      <td>166.0</td>\n",
       "      <td>166.0</td>\n",
       "      <td>8</td>\n",
       "      <td>931.0</td>\n",
       "      <td>1</td>\n",
       "      <td>6.836259</td>\n",
       "    </tr>\n",
       "    <tr>\n",
       "      <th>1533</th>\n",
       "      <td>100.000000</td>\n",
       "      <td>0.45</td>\n",
       "      <td>2179.0</td>\n",
       "      <td>2179.0</td>\n",
       "      <td>24</td>\n",
       "      <td>3187.0</td>\n",
       "      <td>0</td>\n",
       "      <td>8.066835</td>\n",
       "    </tr>\n",
       "  </tbody>\n",
       "</table>\n",
       "<p>1534 rows × 8 columns</p>\n",
       "</div>"
      ],
      "text/plain": [
       "           prate  mrate  totpart  totelg  age  totemp  sole   ltotemp\n",
       "0      26.100000   0.21   1653.0  6322.0    8  8709.0     0  9.072112\n",
       "1     100.000000   1.42    262.0   262.0    6   315.0     1  5.752573\n",
       "2      97.599998   0.91    166.0   170.0   10   275.0     1  5.616771\n",
       "3     100.000000   0.42    257.0   257.0    7   500.0     0  6.214608\n",
       "4      82.500000   0.53    591.0   716.0   28   933.0     1  6.838405\n",
       "...          ...    ...      ...     ...  ...     ...   ...       ...\n",
       "1529   85.099998   0.33    553.0   650.0   24   907.0     0  6.810143\n",
       "1530  100.000000   2.52    142.0   142.0   17   197.0     1  5.283204\n",
       "1531  100.000000   2.27   1928.0  1928.0   35  2171.0     0  7.682943\n",
       "1532  100.000000   0.58    166.0   166.0    8   931.0     1  6.836259\n",
       "1533  100.000000   0.45   2179.0  2179.0   24  3187.0     0  8.066835\n",
       "\n",
       "[1534 rows x 8 columns]"
      ]
     },
     "execution_count": 4,
     "metadata": {},
     "output_type": "execute_result"
    }
   ],
   "source": [
    "df = wooldridge.data('401k')\n",
    "df"
   ]
  },
  {
   "cell_type": "markdown",
   "id": "69afdfac",
   "metadata": {},
   "source": [
    "<p id=\"average\"><b>1.A</b></p>\n",
    "Find the average participation rate and the average match rate in the sample of plans."
   ]
  },
  {
   "cell_type": "code",
   "execution_count": 6,
   "id": "232a0e32",
   "metadata": {},
   "outputs": [
    {
     "name": "stdout",
     "output_type": "stream",
     "text": [
      "The average participation rate is 87.363\n"
     ]
    }
   ],
   "source": [
    "print(f'The average participation rate is {df.prate.mean().round(3)}')"
   ]
  },
  {
   "cell_type": "code",
   "execution_count": 7,
   "id": "e4c5d747",
   "metadata": {},
   "outputs": [
    {
     "name": "stdout",
     "output_type": "stream",
     "text": [
      "The average participation rate is 0.732\n"
     ]
    }
   ],
   "source": [
    "print(f'The average participation rate is {df.mrate.mean().round(3)}')"
   ]
  },
  {
   "cell_type": "markdown",
   "id": "439bd10b",
   "metadata": {},
   "source": [
    "<p id=\"average\"><b>1.B</b></p>\n",
    "Now, estimate the simple regression equation $$\\widehat{prate} =\\widehat{ \\beta_0} + \\widehat{ \\beta_1}mrate ,$$ and report the results along with the sample size and $R$-squared."
   ]
  },
  {
   "cell_type": "code",
   "execution_count": 20,
   "id": "c6a08084",
   "metadata": {},
   "outputs": [
    {
     "name": "stdout",
     "output_type": "stream",
     "text": [
      "                            OLS Regression Results                            \n",
      "==============================================================================\n",
      "Dep. Variable:                  prate   R-squared:                       0.075\n",
      "Model:                            OLS   Adj. R-squared:                  0.074\n",
      "Method:                 Least Squares   F-statistic:                     123.7\n",
      "Date:                Wed, 04 Jun 2025   Prob (F-statistic):           1.10e-27\n",
      "Time:                        13:27:16   Log-Likelihood:                -6437.0\n",
      "No. Observations:                1534   AIC:                         1.288e+04\n",
      "Df Residuals:                    1532   BIC:                         1.289e+04\n",
      "Df Model:                           1                                         \n",
      "Covariance Type:            nonrobust                                         \n",
      "==============================================================================\n",
      "                 coef    std err          t      P>|t|      [0.025      0.975]\n",
      "------------------------------------------------------------------------------\n",
      "Intercept     83.0755      0.563    147.484      0.000      81.971      84.180\n",
      "mrate          5.8611      0.527     11.121      0.000       4.827       6.895\n",
      "==============================================================================\n",
      "Omnibus:                      394.767   Durbin-Watson:                   1.908\n",
      "Prob(Omnibus):                  0.000   Jarque-Bera (JB):              870.172\n",
      "Skew:                          -1.444   Prob(JB):                    1.11e-189\n",
      "Kurtosis:                       5.296   Cond. No.                         2.32\n",
      "==============================================================================\n",
      "\n",
      "Notes:\n",
      "[1] Standard Errors assume that the covariance matrix of the errors is correctly specified.\n"
     ]
    }
   ],
   "source": [
    "import statsmodels.formula.api as smf\n",
    "mod = smf.ols(formula='prate ~ mrate', data=df)\n",
    "res = mod.fit()\n",
    "print(res.summary())"
   ]
  },
  {
   "cell_type": "markdown",
   "id": "c1a013ca",
   "metadata": {},
   "source": [
    "<p id=\"average\"><b>1.C</b></p>\n",
    "Interpret the intercept in your equation. Interpret the coefficient on mrate."
   ]
  },
  {
   "cell_type": "markdown",
   "id": "68457cd3",
   "metadata": {},
   "source": [
    "<p id=\"average\"><b>1.D</b></p>\n",
    "Find the predicted *prate* when $mrate = 3.5$. Is this a reasonable prediction?\n",
    "Explain what is happening here."
   ]
  },
  {
   "cell_type": "code",
   "execution_count": 62,
   "id": "ab923918",
   "metadata": {},
   "outputs": [
    {
     "data": {
      "text/plain": [
       "730    103.589233\n",
       "dtype: float64"
      ]
     },
     "execution_count": 62,
     "metadata": {},
     "output_type": "execute_result"
    }
   ],
   "source": [
    "res.predict(df.loc[df['mrate']==3.5])"
   ]
  },
  {
   "cell_type": "markdown",
   "id": "f704cfc2",
   "metadata": {},
   "source": [
    "<p id=\"average\"><b>1.E</b></p>\n",
    "How much of the variation in prate is explained by mrate? Is this a lot in your opinion?"
   ]
  },
  {
   "cell_type": "code",
   "execution_count": 66,
   "id": "9492f67c",
   "metadata": {},
   "outputs": [
    {
     "name": "stdout",
     "output_type": "stream",
     "text": [
      "The variation in prate is explained by mrate 0.075\n"
     ]
    }
   ],
   "source": [
    "print(f'The variation in prate is explained by mrate {res.rsquared.round(3)}')"
   ]
  },
  {
   "cell_type": "code",
   "execution_count": null,
   "id": "a437a783",
   "metadata": {},
   "outputs": [],
   "source": []
  }
 ],
 "metadata": {
  "kernelspec": {
   "display_name": "Python 3 (ipykernel)",
   "language": "python",
   "name": "python3"
  },
  "language_info": {
   "codemirror_mode": {
    "name": "ipython",
    "version": 3
   },
   "file_extension": ".py",
   "mimetype": "text/x-python",
   "name": "python",
   "nbconvert_exporter": "python",
   "pygments_lexer": "ipython3",
   "version": "3.8.8"
  }
 },
 "nbformat": 4,
 "nbformat_minor": 5
}
