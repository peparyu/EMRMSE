{
 "cells": [
  {
   "cell_type": "markdown",
   "id": "5f16f3dd",
   "metadata": {},
   "source": [
    "# Econometrics seminar"
   ]
  },
  {
   "cell_type": "markdown",
   "id": "be3c2f2f",
   "metadata": {},
   "source": [
    "### Wooldridge\n",
    "We are gonno need Data sets from wooldridge. [Click here](https://pypi.org/project/wooldridge/) to get manual to install"
   ]
  },
  {
   "cell_type": "code",
   "execution_count": 1,
   "id": "f9921702",
   "metadata": {},
   "outputs": [],
   "source": [
    "import numpy as np\n",
    "import matplotlib.pyplot as plt\n",
    "import wooldridge"
   ]
  },
  {
   "cell_type": "code",
   "execution_count": 2,
   "id": "00f20a07",
   "metadata": {},
   "outputs": [
    {
     "name": "stdout",
     "output_type": "stream",
     "text": [
      "  J.M. Wooldridge (2019) Introductory Econometrics: A Modern Approach,\n",
      "  Cengage Learning, 6th edition.\n",
      "\n",
      "  401k       401ksubs    admnrev       affairs     airfare\n",
      "  alcohol    apple       approval      athlet1     athlet2\n",
      "  attend     audit       barium        beauty      benefits\n",
      "  beveridge  big9salary  bwght         bwght2      campus\n",
      "  card       catholic    cement        census2000  ceosal1\n",
      "  ceosal2    charity     consump       corn        countymurders\n",
      "  cps78_85   cps91       crime1        crime2      crime3\n",
      "  crime4     discrim     driving       earns       econmath\n",
      "  elem94_95  engin       expendshares  ezanders    ezunem\n",
      "  fair       fertil1     fertil2       fertil3     fish\n",
      "  fringe     gpa1        gpa2          gpa3        happiness\n",
      "  hprice1    hprice2     hprice3       hseinv      htv\n",
      "  infmrt     injury      intdef        intqrt      inven\n",
      "  jtrain     jtrain2     jtrain3       kielmc      lawsch85\n",
      "  loanapp    lowbrth     mathpnl       meap00_01   meap01\n",
      "  meap93     meapsingle  minwage       mlb1        mroz\n",
      "  murder     nbasal      nyse          okun        openness\n",
      "  pension    phillips    pntsprd       prison      prminwge\n",
      "  rdchem     rdtelec     recid         rental      return\n",
      "  saving     sleep75     slp75_81      smoke       traffic1\n",
      "  traffic2   twoyear     volat         vote1       vote2\n",
      "  voucher    wage1       wage2         wagepan     wageprc\n",
      "  wine\n"
     ]
    }
   ],
   "source": [
    "wooldridge.data()"
   ]
  },
  {
   "cell_type": "markdown",
   "id": "c16f6a85",
   "metadata": {},
   "source": [
    "1. The data in 401K.RAW are a subset of data analyzed by Papke (1995) to study the rela- tionship between participation in a 401(k) pension plan and the generosity of the plan. The variable *prate* is the percentage of eligible workers with an active account; this is the variable we would like to explain. The measure of generosity is the plan match rate, *mrate*. This variable gives the average amount the firm contributes to each worker’s plan for each 100¢ contribution by the worker. For example, if mrate = 0.50, then a 100¢ contribution by the worker is matched by a 50¢  contribution by the firm.\n",
    "    1. Find the average participation rate and the average match rate in the sample of plans.\n",
    "    2. Now, estimate the simple regression equation prate 5 bˆ0 1 bˆ1 mrate, and report the results along with the sample size and R-squared.\n",
    "    3. Interpret the intercept in your equation. Interpret the coefficient on mrate.\n",
    "    4. Find the predicted prate when mrate 5 3.5. Is this a reasonable prediction? Explain what is happening here.\n",
    "    5. How much of the variation in prate is explained by mrate? Is this a lot in your opinion?"
   ]
  },
  {
   "cell_type": "markdown",
   "id": "8fee908d",
   "metadata": {},
   "source": [
    "<p id=\"average\"><b>1</b></p>\n",
    "The data in 401K.RAW"
   ]
  },
  {
   "cell_type": "code",
   "execution_count": 3,
   "id": "fbea2563",
   "metadata": {},
   "outputs": [
    {
     "name": "stdout",
     "output_type": "stream",
     "text": [
      "name of dataset: 401k\n",
      "no of variables: 8\n",
      "no of observations: 1534\n",
      "\n",
      "+----------+---------------------------------+\n",
      "| variable | label                           |\n",
      "+----------+---------------------------------+\n",
      "| prate    | participation rate, percent     |\n",
      "| mrate    | 401k plan match rate            |\n",
      "| totpart  | total 401k participants         |\n",
      "| totelg   | total eligible for 401k plan    |\n",
      "| age      | age of 401k plan                |\n",
      "| totemp   | total number of firm employees  |\n",
      "| sole     | = 1 if 401k is firm's sole plan |\n",
      "| ltotemp  | log of totemp                   |\n",
      "+----------+---------------------------------+\n",
      "\n",
      "L.E. Papke (1995), “Participation in and Contributions to 401(k)\n",
      "Pension Plans:Evidence from Plan Data,” Journal of Human Resources 30,\n",
      "311-325. Professor Papke kindly provided these data. She gathered them\n",
      "from the Internal Revenue Service’s Form 5500 tapes.\n"
     ]
    }
   ],
   "source": [
    "wooldridge.data('401k', description=True)"
   ]
  },
  {
   "cell_type": "code",
   "execution_count": 4,
   "id": "3bc96a37",
   "metadata": {},
   "outputs": [
    {
     "data": {
      "text/html": [
       "<div>\n",
       "<style scoped>\n",
       "    .dataframe tbody tr th:only-of-type {\n",
       "        vertical-align: middle;\n",
       "    }\n",
       "\n",
       "    .dataframe tbody tr th {\n",
       "        vertical-align: top;\n",
       "    }\n",
       "\n",
       "    .dataframe thead th {\n",
       "        text-align: right;\n",
       "    }\n",
       "</style>\n",
       "<table border=\"1\" class=\"dataframe\">\n",
       "  <thead>\n",
       "    <tr style=\"text-align: right;\">\n",
       "      <th></th>\n",
       "      <th>prate</th>\n",
       "      <th>mrate</th>\n",
       "      <th>totpart</th>\n",
       "      <th>totelg</th>\n",
       "      <th>age</th>\n",
       "      <th>totemp</th>\n",
       "      <th>sole</th>\n",
       "      <th>ltotemp</th>\n",
       "    </tr>\n",
       "  </thead>\n",
       "  <tbody>\n",
       "    <tr>\n",
       "      <th>0</th>\n",
       "      <td>26.100000</td>\n",
       "      <td>0.21</td>\n",
       "      <td>1653.0</td>\n",
       "      <td>6322.0</td>\n",
       "      <td>8</td>\n",
       "      <td>8709.0</td>\n",
       "      <td>0</td>\n",
       "      <td>9.072112</td>\n",
       "    </tr>\n",
       "    <tr>\n",
       "      <th>1</th>\n",
       "      <td>100.000000</td>\n",
       "      <td>1.42</td>\n",
       "      <td>262.0</td>\n",
       "      <td>262.0</td>\n",
       "      <td>6</td>\n",
       "      <td>315.0</td>\n",
       "      <td>1</td>\n",
       "      <td>5.752573</td>\n",
       "    </tr>\n",
       "    <tr>\n",
       "      <th>2</th>\n",
       "      <td>97.599998</td>\n",
       "      <td>0.91</td>\n",
       "      <td>166.0</td>\n",
       "      <td>170.0</td>\n",
       "      <td>10</td>\n",
       "      <td>275.0</td>\n",
       "      <td>1</td>\n",
       "      <td>5.616771</td>\n",
       "    </tr>\n",
       "    <tr>\n",
       "      <th>3</th>\n",
       "      <td>100.000000</td>\n",
       "      <td>0.42</td>\n",
       "      <td>257.0</td>\n",
       "      <td>257.0</td>\n",
       "      <td>7</td>\n",
       "      <td>500.0</td>\n",
       "      <td>0</td>\n",
       "      <td>6.214608</td>\n",
       "    </tr>\n",
       "    <tr>\n",
       "      <th>4</th>\n",
       "      <td>82.500000</td>\n",
       "      <td>0.53</td>\n",
       "      <td>591.0</td>\n",
       "      <td>716.0</td>\n",
       "      <td>28</td>\n",
       "      <td>933.0</td>\n",
       "      <td>1</td>\n",
       "      <td>6.838405</td>\n",
       "    </tr>\n",
       "    <tr>\n",
       "      <th>...</th>\n",
       "      <td>...</td>\n",
       "      <td>...</td>\n",
       "      <td>...</td>\n",
       "      <td>...</td>\n",
       "      <td>...</td>\n",
       "      <td>...</td>\n",
       "      <td>...</td>\n",
       "      <td>...</td>\n",
       "    </tr>\n",
       "    <tr>\n",
       "      <th>1529</th>\n",
       "      <td>85.099998</td>\n",
       "      <td>0.33</td>\n",
       "      <td>553.0</td>\n",
       "      <td>650.0</td>\n",
       "      <td>24</td>\n",
       "      <td>907.0</td>\n",
       "      <td>0</td>\n",
       "      <td>6.810143</td>\n",
       "    </tr>\n",
       "    <tr>\n",
       "      <th>1530</th>\n",
       "      <td>100.000000</td>\n",
       "      <td>2.52</td>\n",
       "      <td>142.0</td>\n",
       "      <td>142.0</td>\n",
       "      <td>17</td>\n",
       "      <td>197.0</td>\n",
       "      <td>1</td>\n",
       "      <td>5.283204</td>\n",
       "    </tr>\n",
       "    <tr>\n",
       "      <th>1531</th>\n",
       "      <td>100.000000</td>\n",
       "      <td>2.27</td>\n",
       "      <td>1928.0</td>\n",
       "      <td>1928.0</td>\n",
       "      <td>35</td>\n",
       "      <td>2171.0</td>\n",
       "      <td>0</td>\n",
       "      <td>7.682943</td>\n",
       "    </tr>\n",
       "    <tr>\n",
       "      <th>1532</th>\n",
       "      <td>100.000000</td>\n",
       "      <td>0.58</td>\n",
       "      <td>166.0</td>\n",
       "      <td>166.0</td>\n",
       "      <td>8</td>\n",
       "      <td>931.0</td>\n",
       "      <td>1</td>\n",
       "      <td>6.836259</td>\n",
       "    </tr>\n",
       "    <tr>\n",
       "      <th>1533</th>\n",
       "      <td>100.000000</td>\n",
       "      <td>0.45</td>\n",
       "      <td>2179.0</td>\n",
       "      <td>2179.0</td>\n",
       "      <td>24</td>\n",
       "      <td>3187.0</td>\n",
       "      <td>0</td>\n",
       "      <td>8.066835</td>\n",
       "    </tr>\n",
       "  </tbody>\n",
       "</table>\n",
       "<p>1534 rows × 8 columns</p>\n",
       "</div>"
      ],
      "text/plain": [
       "           prate  mrate  totpart  totelg  age  totemp  sole   ltotemp\n",
       "0      26.100000   0.21   1653.0  6322.0    8  8709.0     0  9.072112\n",
       "1     100.000000   1.42    262.0   262.0    6   315.0     1  5.752573\n",
       "2      97.599998   0.91    166.0   170.0   10   275.0     1  5.616771\n",
       "3     100.000000   0.42    257.0   257.0    7   500.0     0  6.214608\n",
       "4      82.500000   0.53    591.0   716.0   28   933.0     1  6.838405\n",
       "...          ...    ...      ...     ...  ...     ...   ...       ...\n",
       "1529   85.099998   0.33    553.0   650.0   24   907.0     0  6.810143\n",
       "1530  100.000000   2.52    142.0   142.0   17   197.0     1  5.283204\n",
       "1531  100.000000   2.27   1928.0  1928.0   35  2171.0     0  7.682943\n",
       "1532  100.000000   0.58    166.0   166.0    8   931.0     1  6.836259\n",
       "1533  100.000000   0.45   2179.0  2179.0   24  3187.0     0  8.066835\n",
       "\n",
       "[1534 rows x 8 columns]"
      ]
     },
     "execution_count": 4,
     "metadata": {},
     "output_type": "execute_result"
    }
   ],
   "source": [
    "df = wooldridge.data('401k')\n",
    "df"
   ]
  },
  {
   "cell_type": "markdown",
   "id": "72b8fb8f",
   "metadata": {},
   "source": [
    "<p id=\"average\"><b>1.A</b></p>\n",
    "Find the average participation rate and the average match rate in the sample of plans."
   ]
  },
  {
   "cell_type": "code",
   "execution_count": 5,
   "id": "05dcc41b",
   "metadata": {},
   "outputs": [
    {
     "name": "stdout",
     "output_type": "stream",
     "text": [
      "The average participation rate is 87.363\n"
     ]
    }
   ],
   "source": [
    "print(f'The average participation rate is {df.prate.mean().round(3)}')"
   ]
  },
  {
   "cell_type": "code",
   "execution_count": 6,
   "id": "305bc4c6",
   "metadata": {},
   "outputs": [
    {
     "name": "stdout",
     "output_type": "stream",
     "text": [
      "The average participation rate is 0.732\n"
     ]
    }
   ],
   "source": [
    "print(f'The average participation rate is {df.mrate.mean().round(3)}')"
   ]
  },
  {
   "cell_type": "markdown",
   "id": "6cc2633c",
   "metadata": {},
   "source": [
    "<p id=\"average\"><b>1.B</b></p>\n",
    "Now, estimate the simple regression equation $$\\widehat{prate} =\\widehat{ \\beta_0} + \\widehat{ \\beta_1}mrate ,$$ and report the results along with the sample size and $R$-squared."
   ]
  },
  {
   "cell_type": "code",
   "execution_count": 7,
   "id": "2e4d7242",
   "metadata": {},
   "outputs": [
    {
     "name": "stdout",
     "output_type": "stream",
     "text": [
      "                            OLS Regression Results                            \n",
      "==============================================================================\n",
      "Dep. Variable:                  prate   R-squared:                       0.075\n",
      "Model:                            OLS   Adj. R-squared:                  0.074\n",
      "Method:                 Least Squares   F-statistic:                     123.7\n",
      "Date:                Fri, 13 Jun 2025   Prob (F-statistic):           1.10e-27\n",
      "Time:                        12:43:59   Log-Likelihood:                -6437.0\n",
      "No. Observations:                1534   AIC:                         1.288e+04\n",
      "Df Residuals:                    1532   BIC:                         1.289e+04\n",
      "Df Model:                           1                                         \n",
      "Covariance Type:            nonrobust                                         \n",
      "==============================================================================\n",
      "                 coef    std err          t      P>|t|      [0.025      0.975]\n",
      "------------------------------------------------------------------------------\n",
      "Intercept     83.0755      0.563    147.484      0.000      81.971      84.180\n",
      "mrate          5.8611      0.527     11.121      0.000       4.827       6.895\n",
      "==============================================================================\n",
      "Omnibus:                      394.767   Durbin-Watson:                   1.908\n",
      "Prob(Omnibus):                  0.000   Jarque-Bera (JB):              870.172\n",
      "Skew:                          -1.444   Prob(JB):                    1.11e-189\n",
      "Kurtosis:                       5.296   Cond. No.                         2.32\n",
      "==============================================================================\n",
      "\n",
      "Notes:\n",
      "[1] Standard Errors assume that the covariance matrix of the errors is correctly specified.\n"
     ]
    }
   ],
   "source": [
    "import statsmodels.formula.api as smf\n",
    "mod = smf.ols(formula='prate ~ mrate', data=df)\n",
    "res = mod.fit()\n",
    "print(res.summary())"
   ]
  },
  {
   "cell_type": "markdown",
   "id": "0e146dd9",
   "metadata": {},
   "source": [
    "<p id=\"average\"><b>1.C</b></p>\n",
    "Interpret the intercept in your equation. Interpret the coefficient on mrate."
   ]
  },
  {
   "cell_type": "markdown",
   "id": "3628088c",
   "metadata": {},
   "source": [
    "<p id=\"average\"><b>1.D</b></p>\n",
    "Find the predicted *prate* when $mrate = 3.5$. Is this a reasonable prediction?\n",
    "Explain what is happening here."
   ]
  },
  {
   "cell_type": "code",
   "execution_count": 8,
   "id": "094d4f95",
   "metadata": {},
   "outputs": [
    {
     "data": {
      "text/plain": [
       "730    103.589233\n",
       "dtype: float64"
      ]
     },
     "execution_count": 8,
     "metadata": {},
     "output_type": "execute_result"
    }
   ],
   "source": [
    "res.predict(df.loc[df['mrate']==3.5])"
   ]
  },
  {
   "cell_type": "markdown",
   "id": "d121d938",
   "metadata": {},
   "source": [
    "<p id=\"average\"><b>1.E</b></p>\n",
    "How much of the variation in prate is explained by mrate? Is this a lot in your opinion?"
   ]
  },
  {
   "cell_type": "code",
   "execution_count": 9,
   "id": "cf414b7c",
   "metadata": {},
   "outputs": [
    {
     "name": "stdout",
     "output_type": "stream",
     "text": [
      "The variation in prate is explained by mrate 0.075\n"
     ]
    }
   ],
   "source": [
    "print(f'The variation in prate is explained by mrate {res.rsquared.round(3)}')"
   ]
  },
  {
   "cell_type": "markdown",
   "id": "110cdfcd",
   "metadata": {},
   "source": [
    "1. The data set in CEOSAL2.RAW contains information on chief executive officers for U.S. corporations. The variable salary is annual compensation, in thousands of dollars, and ceoten is prior number of years as company CEO.\n",
    "    1. Find the average salary and the average tenure in the sample.\n",
    "    2. How many CEOs are in their first year as CEO (that is, ceoten 5 0)? What is the longest tenure as a CEO?\n",
    "    3. Estimate the simple regression model $$\\log(salary) =  \\beta_0 + \\beta_1 ceoten + u,$$ and report your results in the usual form. What is the (approximate) predicted percentage increase in salary given one more year as a CEO?\n"
   ]
  },
  {
   "cell_type": "code",
   "execution_count": 10,
   "id": "85dc6b95",
   "metadata": {},
   "outputs": [
    {
     "name": "stdout",
     "output_type": "stream",
     "text": [
      "name of dataset: ceosal2\n",
      "no of variables: 15\n",
      "no of observations: 177\n",
      "\n",
      "+----------+--------------------------------+\n",
      "| variable | label                          |\n",
      "+----------+--------------------------------+\n",
      "| salary   | 1990 compensation, $1000s      |\n",
      "| age      | in years                       |\n",
      "| college  | =1 if attended college         |\n",
      "| grad     | =1 if attended graduate school |\n",
      "| comten   | years with company             |\n",
      "| ceoten   | years as ceo with company      |\n",
      "| sales    | 1990 firm sales, millions      |\n",
      "| profits  | 1990 profits, millions         |\n",
      "| mktval   | market value, end 1990, mills. |\n",
      "| lsalary  | log(salary)                    |\n",
      "| lsales   | log(sales)                     |\n",
      "| lmktval  | log(mktval)                    |\n",
      "| comtensq | comten^2                       |\n",
      "| ceotensq | ceoten^2                       |\n",
      "| profmarg | profits as % of sales          |\n",
      "+----------+--------------------------------+\n",
      "\n",
      "See CEOSAL1.RAW\n"
     ]
    }
   ],
   "source": [
    "wooldridge.data('ceosal2', description=True )"
   ]
  },
  {
   "cell_type": "code",
   "execution_count": 11,
   "id": "7219a1fd",
   "metadata": {},
   "outputs": [
    {
     "data": {
      "text/html": [
       "<div>\n",
       "<style scoped>\n",
       "    .dataframe tbody tr th:only-of-type {\n",
       "        vertical-align: middle;\n",
       "    }\n",
       "\n",
       "    .dataframe tbody tr th {\n",
       "        vertical-align: top;\n",
       "    }\n",
       "\n",
       "    .dataframe thead th {\n",
       "        text-align: right;\n",
       "    }\n",
       "</style>\n",
       "<table border=\"1\" class=\"dataframe\">\n",
       "  <thead>\n",
       "    <tr style=\"text-align: right;\">\n",
       "      <th></th>\n",
       "      <th>salary</th>\n",
       "      <th>age</th>\n",
       "      <th>college</th>\n",
       "      <th>grad</th>\n",
       "      <th>comten</th>\n",
       "      <th>ceoten</th>\n",
       "      <th>sales</th>\n",
       "      <th>profits</th>\n",
       "      <th>mktval</th>\n",
       "      <th>lsalary</th>\n",
       "      <th>lsales</th>\n",
       "      <th>lmktval</th>\n",
       "      <th>comtensq</th>\n",
       "      <th>ceotensq</th>\n",
       "      <th>profmarg</th>\n",
       "    </tr>\n",
       "  </thead>\n",
       "  <tbody>\n",
       "    <tr>\n",
       "      <th>0</th>\n",
       "      <td>1161</td>\n",
       "      <td>49</td>\n",
       "      <td>1</td>\n",
       "      <td>1</td>\n",
       "      <td>9</td>\n",
       "      <td>2</td>\n",
       "      <td>6200.0</td>\n",
       "      <td>966</td>\n",
       "      <td>23200.0</td>\n",
       "      <td>7.057037</td>\n",
       "      <td>8.732305</td>\n",
       "      <td>10.051908</td>\n",
       "      <td>81</td>\n",
       "      <td>4</td>\n",
       "      <td>15.580646</td>\n",
       "    </tr>\n",
       "    <tr>\n",
       "      <th>1</th>\n",
       "      <td>600</td>\n",
       "      <td>43</td>\n",
       "      <td>1</td>\n",
       "      <td>1</td>\n",
       "      <td>10</td>\n",
       "      <td>10</td>\n",
       "      <td>283.0</td>\n",
       "      <td>48</td>\n",
       "      <td>1100.0</td>\n",
       "      <td>6.396930</td>\n",
       "      <td>5.645447</td>\n",
       "      <td>7.003066</td>\n",
       "      <td>100</td>\n",
       "      <td>100</td>\n",
       "      <td>16.961130</td>\n",
       "    </tr>\n",
       "    <tr>\n",
       "      <th>2</th>\n",
       "      <td>379</td>\n",
       "      <td>51</td>\n",
       "      <td>1</td>\n",
       "      <td>1</td>\n",
       "      <td>9</td>\n",
       "      <td>3</td>\n",
       "      <td>169.0</td>\n",
       "      <td>40</td>\n",
       "      <td>1100.0</td>\n",
       "      <td>5.937536</td>\n",
       "      <td>5.129899</td>\n",
       "      <td>7.003066</td>\n",
       "      <td>81</td>\n",
       "      <td>9</td>\n",
       "      <td>23.668638</td>\n",
       "    </tr>\n",
       "    <tr>\n",
       "      <th>3</th>\n",
       "      <td>651</td>\n",
       "      <td>55</td>\n",
       "      <td>1</td>\n",
       "      <td>0</td>\n",
       "      <td>22</td>\n",
       "      <td>22</td>\n",
       "      <td>1100.0</td>\n",
       "      <td>-54</td>\n",
       "      <td>1000.0</td>\n",
       "      <td>6.478509</td>\n",
       "      <td>7.003066</td>\n",
       "      <td>6.907755</td>\n",
       "      <td>484</td>\n",
       "      <td>484</td>\n",
       "      <td>-4.909091</td>\n",
       "    </tr>\n",
       "    <tr>\n",
       "      <th>4</th>\n",
       "      <td>497</td>\n",
       "      <td>44</td>\n",
       "      <td>1</td>\n",
       "      <td>1</td>\n",
       "      <td>8</td>\n",
       "      <td>6</td>\n",
       "      <td>351.0</td>\n",
       "      <td>28</td>\n",
       "      <td>387.0</td>\n",
       "      <td>6.208590</td>\n",
       "      <td>5.860786</td>\n",
       "      <td>5.958425</td>\n",
       "      <td>64</td>\n",
       "      <td>36</td>\n",
       "      <td>7.977208</td>\n",
       "    </tr>\n",
       "    <tr>\n",
       "      <th>...</th>\n",
       "      <td>...</td>\n",
       "      <td>...</td>\n",
       "      <td>...</td>\n",
       "      <td>...</td>\n",
       "      <td>...</td>\n",
       "      <td>...</td>\n",
       "      <td>...</td>\n",
       "      <td>...</td>\n",
       "      <td>...</td>\n",
       "      <td>...</td>\n",
       "      <td>...</td>\n",
       "      <td>...</td>\n",
       "      <td>...</td>\n",
       "      <td>...</td>\n",
       "      <td>...</td>\n",
       "    </tr>\n",
       "    <tr>\n",
       "      <th>172</th>\n",
       "      <td>264</td>\n",
       "      <td>63</td>\n",
       "      <td>1</td>\n",
       "      <td>0</td>\n",
       "      <td>42</td>\n",
       "      <td>3</td>\n",
       "      <td>334.0</td>\n",
       "      <td>43</td>\n",
       "      <td>480.0</td>\n",
       "      <td>5.575949</td>\n",
       "      <td>5.811141</td>\n",
       "      <td>6.173786</td>\n",
       "      <td>1764</td>\n",
       "      <td>9</td>\n",
       "      <td>12.874251</td>\n",
       "    </tr>\n",
       "    <tr>\n",
       "      <th>173</th>\n",
       "      <td>185</td>\n",
       "      <td>58</td>\n",
       "      <td>1</td>\n",
       "      <td>0</td>\n",
       "      <td>39</td>\n",
       "      <td>1</td>\n",
       "      <td>766.0</td>\n",
       "      <td>49</td>\n",
       "      <td>560.0</td>\n",
       "      <td>5.220356</td>\n",
       "      <td>6.641182</td>\n",
       "      <td>6.327937</td>\n",
       "      <td>1521</td>\n",
       "      <td>1</td>\n",
       "      <td>6.396867</td>\n",
       "    </tr>\n",
       "    <tr>\n",
       "      <th>174</th>\n",
       "      <td>387</td>\n",
       "      <td>71</td>\n",
       "      <td>1</td>\n",
       "      <td>1</td>\n",
       "      <td>32</td>\n",
       "      <td>13</td>\n",
       "      <td>432.0</td>\n",
       "      <td>28</td>\n",
       "      <td>477.0</td>\n",
       "      <td>5.958425</td>\n",
       "      <td>6.068426</td>\n",
       "      <td>6.167517</td>\n",
       "      <td>1024</td>\n",
       "      <td>169</td>\n",
       "      <td>6.481482</td>\n",
       "    </tr>\n",
       "    <tr>\n",
       "      <th>175</th>\n",
       "      <td>2220</td>\n",
       "      <td>63</td>\n",
       "      <td>1</td>\n",
       "      <td>1</td>\n",
       "      <td>18</td>\n",
       "      <td>18</td>\n",
       "      <td>277.0</td>\n",
       "      <td>-80</td>\n",
       "      <td>540.0</td>\n",
       "      <td>7.705263</td>\n",
       "      <td>5.624018</td>\n",
       "      <td>6.291569</td>\n",
       "      <td>324</td>\n",
       "      <td>324</td>\n",
       "      <td>-28.880867</td>\n",
       "    </tr>\n",
       "    <tr>\n",
       "      <th>176</th>\n",
       "      <td>445</td>\n",
       "      <td>69</td>\n",
       "      <td>1</td>\n",
       "      <td>0</td>\n",
       "      <td>23</td>\n",
       "      <td>0</td>\n",
       "      <td>249.0</td>\n",
       "      <td>31</td>\n",
       "      <td>828.0</td>\n",
       "      <td>6.098074</td>\n",
       "      <td>5.517453</td>\n",
       "      <td>6.719013</td>\n",
       "      <td>529</td>\n",
       "      <td>0</td>\n",
       "      <td>12.449800</td>\n",
       "    </tr>\n",
       "  </tbody>\n",
       "</table>\n",
       "<p>177 rows × 15 columns</p>\n",
       "</div>"
      ],
      "text/plain": [
       "     salary  age  college  grad  comten  ceoten   sales  profits   mktval  \\\n",
       "0      1161   49        1     1       9       2  6200.0      966  23200.0   \n",
       "1       600   43        1     1      10      10   283.0       48   1100.0   \n",
       "2       379   51        1     1       9       3   169.0       40   1100.0   \n",
       "3       651   55        1     0      22      22  1100.0      -54   1000.0   \n",
       "4       497   44        1     1       8       6   351.0       28    387.0   \n",
       "..      ...  ...      ...   ...     ...     ...     ...      ...      ...   \n",
       "172     264   63        1     0      42       3   334.0       43    480.0   \n",
       "173     185   58        1     0      39       1   766.0       49    560.0   \n",
       "174     387   71        1     1      32      13   432.0       28    477.0   \n",
       "175    2220   63        1     1      18      18   277.0      -80    540.0   \n",
       "176     445   69        1     0      23       0   249.0       31    828.0   \n",
       "\n",
       "      lsalary    lsales    lmktval  comtensq  ceotensq   profmarg  \n",
       "0    7.057037  8.732305  10.051908        81         4  15.580646  \n",
       "1    6.396930  5.645447   7.003066       100       100  16.961130  \n",
       "2    5.937536  5.129899   7.003066        81         9  23.668638  \n",
       "3    6.478509  7.003066   6.907755       484       484  -4.909091  \n",
       "4    6.208590  5.860786   5.958425        64        36   7.977208  \n",
       "..        ...       ...        ...       ...       ...        ...  \n",
       "172  5.575949  5.811141   6.173786      1764         9  12.874251  \n",
       "173  5.220356  6.641182   6.327937      1521         1   6.396867  \n",
       "174  5.958425  6.068426   6.167517      1024       169   6.481482  \n",
       "175  7.705263  5.624018   6.291569       324       324 -28.880867  \n",
       "176  6.098074  5.517453   6.719013       529         0  12.449800  \n",
       "\n",
       "[177 rows x 15 columns]"
      ]
     },
     "execution_count": 11,
     "metadata": {},
     "output_type": "execute_result"
    }
   ],
   "source": [
    "df = wooldridge.data('ceosal2')\n",
    "df"
   ]
  },
  {
   "cell_type": "markdown",
   "id": "d4ba2f6d",
   "metadata": {},
   "source": [
    "<p id=\"average\"><b>1.A</b></p>\n",
    "Find the average salary and the average tenure in the sample."
   ]
  },
  {
   "cell_type": "code",
   "execution_count": 12,
   "id": "3a50ea7b",
   "metadata": {},
   "outputs": [
    {
     "name": "stdout",
     "output_type": "stream",
     "text": [
      " The average salary is 865.864\n"
     ]
    }
   ],
   "source": [
    "print(f' The average salary is { df.salary.mean().round(3)}')"
   ]
  },
  {
   "cell_type": "code",
   "execution_count": 13,
   "id": "1854cff4",
   "metadata": {},
   "outputs": [
    {
     "name": "stdout",
     "output_type": "stream",
     "text": [
      " The average tenure is 865.864\n"
     ]
    }
   ],
   "source": [
    "print(f' The average tenure is { df.salary.mean().round(3)}')"
   ]
  },
  {
   "cell_type": "markdown",
   "id": "6e147038",
   "metadata": {},
   "source": [
    "<p id=\"average\"><b>1.B</b></p>\n",
    "How many CEOs are in their first year as CEO (that is, $ceoten=0$)? What is the longest tenure as a CEO?"
   ]
  },
  {
   "cell_type": "code",
   "execution_count": 14,
   "id": "57baaaab",
   "metadata": {},
   "outputs": [
    {
     "name": "stdout",
     "output_type": "stream",
     "text": [
      "There are 5 CEOs in their first year as CEO \n"
     ]
    }
   ],
   "source": [
    "print(f\"There are {len(df.loc[df['ceoten']==0])} CEOs in their first year as CEO \")"
   ]
  },
  {
   "cell_type": "code",
   "execution_count": 15,
   "id": "7fd13ad2",
   "metadata": {},
   "outputs": [
    {
     "name": "stdout",
     "output_type": "stream",
     "text": [
      "Longest tenure as a CEO id 37\n"
     ]
    }
   ],
   "source": [
    "print(f\"Longest tenure as a CEO id {df['ceoten'].max()}\")"
   ]
  },
  {
   "cell_type": "markdown",
   "id": "e31cea63",
   "metadata": {},
   "source": [
    "<p id=\"average\"><b>1.C</b></p>\n",
    "How many CEOs are in their first year as CEO (that is, $ceoten=0$)? What is the longest tenure as a CEO?"
   ]
  },
  {
   "cell_type": "markdown",
   "id": "4d24dda0",
   "metadata": {},
   "source": [
    "Estimate the simple regression model $$\\log(salary) =  \\beta_0 + \\beta_1 ceoten + u,$$ and report your results in the usual form. What is the (approximate) predicted per- centage increase in salary given one more year as a CEO?"
   ]
  },
  {
   "cell_type": "code",
   "execution_count": 16,
   "id": "4cc01d80",
   "metadata": {},
   "outputs": [],
   "source": [
    "import statsmodels.formula.api as smf\n",
    "mod = smf.ols(formula='np.log(salary)~ceoten', data=df)\n",
    "res = mod.fit()"
   ]
  },
  {
   "cell_type": "code",
   "execution_count": 17,
   "id": "e8acc294",
   "metadata": {},
   "outputs": [
    {
     "name": "stdout",
     "output_type": "stream",
     "text": [
      "                            OLS Regression Results                            \n",
      "==============================================================================\n",
      "Dep. Variable:         np.log(salary)   R-squared:                       0.013\n",
      "Model:                            OLS   Adj. R-squared:                  0.008\n",
      "Method:                 Least Squares   F-statistic:                     2.334\n",
      "Date:                Fri, 13 Jun 2025   Prob (F-statistic):              0.128\n",
      "Time:                        12:43:59   Log-Likelihood:                -160.84\n",
      "No. Observations:                 177   AIC:                             325.7\n",
      "Df Residuals:                     175   BIC:                             332.0\n",
      "Df Model:                           1                                         \n",
      "Covariance Type:            nonrobust                                         \n",
      "==============================================================================\n",
      "                 coef    std err          t      P>|t|      [0.025      0.975]\n",
      "------------------------------------------------------------------------------\n",
      "Intercept      6.5055      0.068     95.682      0.000       6.371       6.640\n",
      "ceoten         0.0097      0.006      1.528      0.128      -0.003       0.022\n",
      "==============================================================================\n",
      "Omnibus:                        3.858   Durbin-Watson:                   2.084\n",
      "Prob(Omnibus):                  0.145   Jarque-Bera (JB):                3.907\n",
      "Skew:                          -0.189   Prob(JB):                        0.142\n",
      "Kurtosis:                       3.622   Cond. No.                         16.1\n",
      "==============================================================================\n",
      "\n",
      "Notes:\n",
      "[1] Standard Errors assume that the covariance matrix of the errors is correctly specified.\n"
     ]
    }
   ],
   "source": [
    "print(res.summary())"
   ]
  },
  {
   "cell_type": "markdown",
   "id": "ba1f4a0a",
   "metadata": {},
   "source": [
    "# C3, C4, C5, C6, C7- HW"
   ]
  },
  {
   "cell_type": "markdown",
   "id": "3b5b83bc",
   "metadata": {},
   "source": [
    "C8"
   ]
  },
  {
   "cell_type": "markdown",
   "id": "55aae160",
   "metadata": {},
   "source": [
    "8. [To complete](#complete) this exercise you need a software package that allows you to generate data from the uniform and normal distributions.\n",
    "    1. Start by generating 500 observations $x_i$ – the explanatory variable – from the [uniform](#uniform) distribution with range [0,10]. (Most statistical packages have a command for the Uniform[0,1] distribution; just multiply those observations by 10.) What are the sample mean and sample standard deviation of the $x_i$?\n",
    "    2. Randomly generate $500$ [errors](#errors), $u_i$, from the Normal[0,36] distribution. (If you generate a Normal[0,1], as is commonly available, simply multiply the outcomes by six.) Is the sample average of the $u_i$ exactly zero? Why or why not? What is the sample standard deviation of the $u_i$?\n",
    "    3. Now generate the $y_i$ as $$y_i = 1+2x_i + u_i = \\beta_0 + \\beta_1x_i + ui;$$ that is, the population intercept is one and the population slope is two. Use the data to run the [regression](#regression) of yi on xi. What are your estimates of the intercept and slope? Are they equal to the population values in the above equation? Explain.\n",
    "    4. Obtain the OLS residuals, $\\hat{u}_i$, and verify that equation (2.60) hold (subject to rounding error).\n",
    "    5. Compute the same quantities in equation (2.60) but use the errors $u_i$ in place of the residuals. Now what do you conclude?\n",
    "    6. Repeat parts (A), (B), and (C) with a new sample of data, starting with generating the $x_i$. Now what do you obtain for $\\hat{\\beta}_0$ and $\\hat{\\beta}_1$? Why are these different from what you obtained in part (C)?"
   ]
  },
  {
   "cell_type": "markdown",
   "id": "9ae47ab2",
   "metadata": {},
   "source": [
    "<p id=\"complete\"><b>8.</b></p>\n",
    "8. To complete this exercise you need a software package that allows you to generate data from the uniform and normal distributions."
   ]
  },
  {
   "cell_type": "code",
   "execution_count": 27,
   "id": "66e44d79",
   "metadata": {},
   "outputs": [],
   "source": [
    "import random"
   ]
  },
  {
   "cell_type": "markdown",
   "id": "3f70e4bf",
   "metadata": {},
   "source": [
    "<p id=\"uniform\"><b>8.A</b></p>\n",
    "\n",
    "Start by generating 500 observations $x_i$ – the explanatory variable – from the uniform distribution with range [0,10]. (Most statistical packages have a command for the Uniform[0,1] distribution; just multiply those observations by 10.) What are the sample mean and sample standard deviation of the $x_i$?"
   ]
  },
  {
   "cell_type": "code",
   "execution_count": 35,
   "id": "efb9e105",
   "metadata": {},
   "outputs": [
    {
     "name": "stdout",
     "output_type": "stream",
     "text": [
      "500 observations is \n",
      " [6.15115736 9.70598963 7.35992974 1.45512676 1.72563485 8.54078226\n",
      " 6.51626368 2.25601864 6.36900215 4.54682281 8.76385123 8.93903509\n",
      " 9.49804097 4.25413673 4.92101739 2.1003527  0.78387166 9.38111996\n",
      " 4.02665203 5.27003356 4.13880847 3.50746339 9.86465868 7.26905983\n",
      " 4.24860384 3.24184541 7.85679311 3.09168468 8.00640514 6.34326397\n",
      " 1.54967064 1.88755858 3.42522173 7.44956521 6.30509615 2.56720047\n",
      " 4.73319681 6.37810795 6.01264135 1.7043559  5.49062266 4.64991656\n",
      " 0.03269739 0.45139701 3.14180668 4.49749872 2.25812736 1.81097221\n",
      " 2.96245582 5.97299105 2.66880997 4.74408538 7.53938996 3.99665418\n",
      " 8.29395289 5.81918272 8.75141026 2.71936381 2.02149888 3.94612216\n",
      " 4.6419907  2.94685029 5.29185388 5.0727382  4.40247286 3.9430885\n",
      " 2.03300651 9.75871133 6.6517058  7.51154704 0.02941241 7.86386667\n",
      " 8.07495463 2.94363897 6.75366093 5.35759945 1.43249264 4.93667023\n",
      " 4.16871657 0.04446921 7.26344814 5.2593858  4.7980903  4.77329944\n",
      " 6.68177548 1.15719899 7.65975256 9.85965848 6.08128826 8.35650034\n",
      " 0.360646   1.25489213 0.38617208 8.69245352 8.74341625 0.94916742\n",
      " 3.43925364 8.96794907 4.4512965  1.88948316 6.44683478 1.28093147\n",
      " 5.64114345 3.46956814 7.86848046 6.649923   9.3857417  2.78370208\n",
      " 3.40482756 6.14078356 9.13831045 4.78620462 8.4646345  5.53098655\n",
      " 0.40717054 9.68636129 2.80716872 2.4766851  5.86709006 2.62939331\n",
      " 5.45120229 0.7470695  6.25488669 8.8116672  9.13688718 0.0197051\n",
      " 1.43666592 8.13640031 1.53875044 0.5067905  8.74367504 8.43344334\n",
      " 6.02922894 9.90911832 4.50389709 0.02042017 4.42472129 5.43960546\n",
      " 4.3183111  6.52252141 0.25277065 0.24544149 7.52075966 0.99634584\n",
      " 4.32875506 3.32841476 2.91604018 0.76092405 3.86550306 1.98598543\n",
      " 2.66453932 2.23475822 9.21980177 0.12606193 5.23249698 4.96171573\n",
      " 9.99543002 7.44615991 6.94798612 3.69035224 2.16426026 5.04419739\n",
      " 8.61825855 6.14786809 1.4973366  5.22312926 0.78556852 5.13952761\n",
      " 5.64356526 5.51675497 9.41094152 2.64171983 5.08751651 8.80529539\n",
      " 5.29139102 5.1557397  7.27126235 4.49361633 4.37107875 3.40506054\n",
      " 4.01914958 2.7683474  0.43928587 2.44263271 0.44700132 9.99158956\n",
      " 8.01751095 9.35235773 8.74967313 4.90035001 2.99299766 7.65053176\n",
      " 0.64471156 5.49024707 0.90314459 9.72456859 2.88471623 1.35438325\n",
      " 9.31825118 7.76184921 8.27078075 7.55159668 3.51514954 4.08957343\n",
      " 5.81963138 7.76537829 9.5087836  7.42994731 5.73340574 4.63618596\n",
      " 3.11443045 9.91015241 1.44477857 2.43216087 8.3167057  1.27167793\n",
      " 9.94142051 7.89937066 3.10023581 6.39942184 6.34563682 6.14757001\n",
      " 2.80134989 6.1660625  0.63123228 1.49092815 0.14737509 0.87176591\n",
      " 4.68143461 2.32928687 3.33482704 0.56324435 6.70993262 7.72240934\n",
      " 1.52685594 7.32608435 2.29756723 4.39179974 2.58272396 4.90414005\n",
      " 0.79041323 0.7933369  8.28115689 6.25106586 6.03120482 2.59646813\n",
      " 4.00926844 1.58745145 1.18328839 0.82725396 3.51234378 1.86878813\n",
      " 5.82142385 5.39161063 0.48550167 0.42371942 5.47346104 3.67327378\n",
      " 6.8511921  2.7798626  8.16534555 5.16699004 2.37117447 5.48617241\n",
      " 3.74055118 8.02989323 5.60319703 9.90015006 2.58231978 7.03973438\n",
      " 1.69340221 4.4661095  5.8735598  4.81603709 7.84548457 9.73658253\n",
      " 6.73381445 6.94874715 5.38786991 7.27469944 5.98409605 9.00671406\n",
      " 5.18923115 7.35286913 7.82741175 6.97547482 1.25655669 4.88216737\n",
      " 3.3307242  5.44853328 7.43509794 7.52513161 3.83790684 2.76715103\n",
      " 5.44521913 1.10633634 7.20838041 3.4579833  6.47104933 7.25744745\n",
      " 3.25226634 8.50961743 2.21580187 1.27527213 9.46297323 7.77289198\n",
      " 9.37121826 6.39289014 5.41164338 1.12482644 4.14528575 1.63318231\n",
      " 8.25795182 1.80725684 7.1369816  8.55885034 0.80636779 4.71108913\n",
      " 8.55435488 0.08703622 7.13715956 0.05631834 5.19306577 4.70943546\n",
      " 6.91888956 3.54208798 0.53188956 7.98843486 3.65545322 7.08447112\n",
      " 1.73580169 4.22405792 7.48826945 8.17187366 1.62670929 2.02484623\n",
      " 4.7983795  9.74953928 0.91105254 1.1464228  6.18991499 3.59083349\n",
      " 8.89483047 5.49317025 9.57263097 8.69824351 5.03673012 4.04996029\n",
      " 5.76921461 6.35617862 0.41763325 7.3373976  6.92670862 6.7285041\n",
      " 6.5979037  2.00319281 8.61364593 3.68522704 1.04433995 9.93308804\n",
      " 2.84225518 9.93455627 6.91573079 0.8695753  5.83709767 6.28006721\n",
      " 0.01733699 6.38742262 3.23953935 6.34571147 6.78338171 0.25235905\n",
      " 3.84699667 7.22121777 3.5301572  5.8469297  6.46725524 5.52034371\n",
      " 7.56401464 0.7380347  6.90766665 7.11256741 1.64064282 2.97705667\n",
      " 8.91736321 8.84678858 3.90027631 4.97308635 1.89931498 6.87663382\n",
      " 5.23085255 6.58231153 9.71842954 2.98565    9.43917234 3.78616354\n",
      " 0.14425604 3.19098694 5.50911405 2.18181834 7.08396174 6.21574237\n",
      " 9.05352422 8.81099386 4.26827586 4.36347991 1.87539093 9.96720556\n",
      " 2.9553423  5.68636306 5.78752198 9.16089706 8.13892806 9.22729888\n",
      " 6.37219971 2.28735187 0.8654393  2.45243456 7.6610706  0.22715932\n",
      " 6.61678695 9.85882881 4.32086147 5.01350541 3.50100935 4.96793705\n",
      " 9.36402214 3.73110123 9.64761536 1.45763301 4.28781105 7.70982782\n",
      " 7.66500577 8.69329749 6.118373   4.23783535 2.66020488 8.77588158\n",
      " 8.83111851 9.91989775 3.87059495 8.76512264 1.27543262 5.48044367\n",
      " 6.41551289 6.54506788 0.36822121 9.54669617 1.5707278  3.91749933\n",
      " 9.33420936 4.47528083 5.02515202 4.1241336  3.53347784 6.4422723\n",
      " 3.23335011 9.48887799 3.26222083 9.65687084 2.07361735 0.39567389\n",
      " 8.19947897 4.65289383 2.47267581 6.86802842 5.75721261 8.65585315\n",
      " 9.1274411  5.68548942 4.03662386 9.40774779 2.23636322 4.98441138\n",
      " 5.81276766 9.26006726 3.97372808 2.15557136 2.38255087 2.47661308\n",
      " 5.89752899 8.73462825 3.65914319 0.02283847 5.05744539 8.47993695\n",
      " 9.48905456 3.20676036 5.18388508 1.74477559 7.79757531 0.65712162\n",
      " 5.63048744 9.78062573 0.70028743 8.79665498 7.84717448 0.86396095\n",
      " 0.26150656 2.95752315]\n"
     ]
    }
   ],
   "source": [
    "X = np.array([random.uniform(0, 10) for _ in range(500)])\n",
    "print(f'500 observations is \\n {X}')"
   ]
  },
  {
   "cell_type": "code",
   "execution_count": 37,
   "id": "ad320ba5",
   "metadata": {},
   "outputs": [
    {
     "name": "stdout",
     "output_type": "stream",
     "text": [
      "Standart mean of X is 5.023\n"
     ]
    }
   ],
   "source": [
    "print(f\"Standart mean of X is {X.mean().round(3)}\")"
   ]
  },
  {
   "cell_type": "code",
   "execution_count": 39,
   "id": "d89478eb",
   "metadata": {},
   "outputs": [
    {
     "name": "stdout",
     "output_type": "stream",
     "text": [
      "Standart Variation of X is 2.846\n"
     ]
    }
   ],
   "source": [
    "print(f\"Standart Variation of X is {X.std().round(3)}\")"
   ]
  },
  {
   "cell_type": "markdown",
   "id": "9ec503b1",
   "metadata": {},
   "source": [
    "<p id=\"errors\"><b>8.B</b></p>\n",
    "2. Randomly generate $500$ errors, $u_i$, from the Normal[0,36] distribution. (If you generate a Normal[0,1], as is commonly available, simply multiply the outcomes by six.) Is the sample average of the $u_i$ exactly zero? Why or why not? What is the sample standard deviation of the $u_i$?"
   ]
  },
  {
   "cell_type": "code",
   "execution_count": 42,
   "id": "979d1aed",
   "metadata": {},
   "outputs": [
    {
     "name": "stdout",
     "output_type": "stream",
     "text": [
      "500 errors is \n",
      " [ 3.32547504e+00  1.04955608e+01 -4.47913322e-01  1.36926155e+00\n",
      "  3.21553892e+00  3.67437461e+00 -1.81638338e+00 -7.01322476e+00\n",
      " -3.87294578e+00  8.35494254e+00  5.97482366e+00 -3.56620164e-01\n",
      "  6.93025594e+00  7.74082338e+00 -1.00781729e+01 -5.24183269e+00\n",
      " -2.60243657e-01  3.40763921e+00  5.14308897e+00 -2.44444163e+00\n",
      "  9.08887420e+00 -1.00312112e+00 -9.07230273e+00  2.38297243e+00\n",
      " -3.80514994e+00  6.06125600e-01 -5.00897465e+00 -2.31120902e+00\n",
      "  1.35793133e+01 -1.02384763e+01  6.12549068e+00 -4.56172165e+00\n",
      "  3.80300888e+00 -2.66438834e+00 -1.07541627e+01 -8.38922804e+00\n",
      " -7.03635337e+00  1.80598407e+00  3.18408448e+00  2.33355547e+00\n",
      "  2.67589011e+00  3.10435751e-01  3.86145287e+00 -2.32593928e+00\n",
      "  9.51243157e-01 -3.72683480e-01 -1.22984110e+01 -1.19916466e+01\n",
      "  1.10751782e+01  4.43247278e+00 -2.50075091e+00 -4.32146741e-01\n",
      " -4.07206512e+00  3.37819142e+00 -7.11986630e-01  6.51481447e-02\n",
      "  5.68230051e+00 -7.49101617e+00  6.55502225e+00 -1.08308659e+00\n",
      "  7.15036352e+00 -2.90354734e+00  1.44217535e+00 -5.20136835e-01\n",
      "  2.64610683e-01 -7.80460919e+00  4.27310110e+00  5.41563068e-02\n",
      " -1.56417659e+00 -1.30013203e-01 -7.83813929e+00  7.69297096e+00\n",
      "  8.13907866e+00  5.81116065e+00 -3.66288496e-01  2.22290826e+00\n",
      " -5.27996980e+00  6.03533416e-04 -4.58899772e+00 -1.34187342e+00\n",
      " -1.45426931e+01  2.56301975e+00 -4.60745384e+00  4.17465931e+00\n",
      "  3.65342556e-01  7.64388768e+00 -6.95919080e+00  2.89055426e+00\n",
      " -7.71635238e+00 -1.74227912e+00 -9.07618875e-01 -3.08263595e+00\n",
      " -1.06329213e+01  5.11153123e+00 -4.64315733e+00  1.17830717e+00\n",
      " -2.39635638e+00 -6.45357279e-01 -2.90396983e+00 -4.26574942e+00\n",
      "  3.72975722e+00  1.60992638e+00 -2.29759111e+00  3.35670721e+00\n",
      "  7.78997493e+00 -1.14712135e+01  2.74275357e+00  9.03832968e+00\n",
      "  7.25939590e+00 -1.19120931e+00  2.65665491e+00 -1.72077435e+01\n",
      " -1.10668554e+01 -6.47890803e+00  4.14829402e-02 -9.41343728e-01\n",
      "  2.33412305e+00  3.98853983e+00 -1.79990160e+01 -7.02703416e+00\n",
      " -2.13466054e+00  3.57332047e+00  3.22992093e+00  6.47587779e+00\n",
      "  1.35238847e+00 -7.85916769e+00 -2.02416165e+00 -2.25978900e+00\n",
      "  2.22372625e+00  6.85308310e+00 -3.30245653e+00 -8.51675605e-01\n",
      " -2.76134527e-01 -5.82958820e+00  3.74809147e+00  1.72568412e+00\n",
      "  5.16339613e+00  2.18414278e-01  1.36145514e+00 -3.27976489e+00\n",
      " -9.20520257e+00  1.31049821e+01  2.99124715e+00 -1.15700089e+00\n",
      " -2.53170002e+00  7.88024473e+00  9.44693279e+00 -9.41303696e+00\n",
      "  3.53027933e+00  4.58464983e-01 -2.10712185e+00  8.94708192e+00\n",
      " -1.10852708e+01 -2.15744122e+00 -2.22226191e+00  4.72500107e+00\n",
      " -8.44927315e+00 -3.38007721e+00  5.11450922e+00 -5.94571972e+00\n",
      "  6.57511345e-02 -1.79773434e+01  2.20095115e+00  1.00214425e+00\n",
      "  2.93610072e-01  1.31779425e+01  9.37093557e+00 -8.99649599e+00\n",
      "  4.94515469e+00  1.04846132e+01  2.24383648e+00 -6.69925258e-01\n",
      "  7.05210997e+00  4.14252728e+00  1.15398514e+00  4.89230605e+00\n",
      " -7.57722715e+00 -3.68867879e+00 -3.59348084e-01 -1.35296515e+00\n",
      " -1.08281712e+01 -1.09653763e+00 -1.01680197e+00 -1.04324202e+01\n",
      "  3.44527185e+00 -3.05847346e+00  5.07346397e-01 -7.68120544e+00\n",
      "  2.24110682e+00 -1.06022451e+01  1.32041377e+00 -3.39105233e+00\n",
      "  9.01382034e+00  1.24406288e+01 -8.71982254e-01 -3.19916430e+00\n",
      " -5.98117155e+00  7.03508908e+00 -4.69917931e+00 -4.65133144e+00\n",
      " -4.18277244e+00 -5.25012395e+00  5.37079470e+00  2.51431687e+00\n",
      " -1.22876179e+00  4.78491792e-01  4.42834005e+00  8.46887224e-02\n",
      "  1.15141820e+01 -4.33230517e+00 -6.34706474e+00 -2.48924354e+00\n",
      "  4.32254565e+00  5.30184402e+00  2.94428921e+00  1.03549125e+01\n",
      "  7.65902803e+00 -2.08427524e+00  1.29143787e+00  6.20201788e+00\n",
      " -6.55164347e+00  8.02229518e+00 -2.00420620e+00  4.82769593e+00\n",
      " -3.85710786e+00  3.14409588e+00  6.31231063e+00  8.67688593e+00\n",
      " -5.07655170e-01 -1.02891247e+01 -5.21492139e+00  1.60591327e+00\n",
      " -3.05483993e+00 -6.99628330e+00  4.76282201e+00 -1.23925262e+01\n",
      "  6.74427302e+00  6.22131582e+00 -7.05032134e+00  4.75399191e+00\n",
      " -9.16541676e+00 -7.19496713e+00  1.15042543e+01 -6.62723112e-01\n",
      "  2.50335468e+00 -4.82938037e+00  5.84374049e+00 -5.14910629e+00\n",
      "  4.04224730e-01 -4.08201228e+00  3.14160031e+00  3.13055996e+00\n",
      "  5.75603459e+00 -6.78866339e+00 -2.19648874e+00  2.55516424e+00\n",
      " -1.25521724e+01  3.46721371e+00  1.72145739e+00 -5.42595400e+00\n",
      "  3.37994049e+00 -5.13167428e+00 -2.72492954e+00 -8.61525215e-01\n",
      "  2.56611618e+00  4.13737746e+00  1.78436009e+00  5.04012120e+00\n",
      " -5.20450473e+00  4.23405353e+00 -2.29572228e+00  8.27486077e+00\n",
      "  4.32525939e+00 -1.13053845e+00  4.40928751e+00  6.47228325e-02\n",
      "  2.14976617e+00  3.21004783e+00 -1.81665891e+00 -3.70619933e+00\n",
      " -3.98190749e+00 -9.78773293e+00 -1.09784661e+01  6.73789304e+00\n",
      "  9.30470294e-01 -5.44970593e+00  4.08200688e+00 -3.54062492e+00\n",
      "  5.50245738e+00 -2.94368499e+00 -4.35668697e+00  2.40784506e+00\n",
      " -4.06134120e+00 -4.88364960e-02 -2.59627994e+00  1.60763038e+00\n",
      " -7.37689928e+00  7.75921208e+00 -2.72774792e+00 -5.18602868e+00\n",
      "  3.03437574e+00 -1.06545161e+01  1.30834033e+01  3.56367803e+00\n",
      "  5.45589091e-01 -6.55219127e+00 -7.27220465e+00  1.08647267e+01\n",
      " -9.96381296e+00  4.75545667e-01 -1.05822721e+01 -2.65141710e+00\n",
      "  8.22717249e+00 -3.08146690e+00 -2.04014080e+00  3.01651073e+00\n",
      "  2.20424145e+00 -6.53465385e+00  5.23285715e-01  5.80965105e+00\n",
      " -1.45030094e+00 -4.55286447e+00 -6.15921313e+00  1.00116090e+01\n",
      "  1.73196537e+00  5.18533457e+00  1.50968148e+00  1.25347238e+01\n",
      "  4.43528947e+00  1.86504688e+00 -1.52273643e+00 -2.71829637e+00\n",
      " -1.01522467e+01 -3.87737901e+00  5.02257529e+00 -1.13560830e+01\n",
      "  8.33626584e+00 -6.10773308e+00 -3.85997192e+00  4.07113842e+00\n",
      " -2.42727523e+00  4.88410746e+00  2.23082101e+00  3.18001568e+00\n",
      "  1.37212403e+00  3.16060971e+00 -6.82215049e-01  9.89572368e+00\n",
      " -5.86823098e+00 -1.48644921e+00  1.64713230e+01  1.57289547e+00\n",
      "  5.28886267e+00 -7.96549628e-01 -6.88103602e+00 -1.04810696e+01\n",
      "  9.10959132e+00 -4.97411090e+00 -1.13249488e+01  2.57685992e+00\n",
      "  2.38711436e+00 -4.26903810e+00  2.88455895e+00  5.92200898e+00\n",
      " -5.27841277e+00  1.33601609e+01  4.61907315e-01  2.10540763e-01\n",
      "  7.75249740e+00 -3.94216053e-01 -2.32786401e+00  1.18429390e+01\n",
      " -8.09380516e+00  1.34647918e+01 -2.63449057e+00 -1.36774153e+00\n",
      "  2.19299556e+00  7.65188863e+00  2.31635289e+00 -5.91431044e-01\n",
      "  4.08254611e+00 -1.78790332e+00 -3.40472408e-01  1.00861670e+00\n",
      " -1.01385313e+01  3.16051532e+00  1.71116397e+00  4.94189527e+00\n",
      " -2.44370993e+00  4.93285552e+00  1.98072403e+00  3.82724503e+00\n",
      " -2.16384567e+00  7.66781243e+00  1.38732874e+00  5.13078288e+00\n",
      " -2.14594891e+00  3.95700399e-01 -6.89978765e+00  3.36450901e+00\n",
      "  1.00974779e+00  3.41702717e+00  6.06453822e+00 -4.03658423e+00\n",
      "  2.80373406e+00 -4.11426712e+00 -2.49999166e+00 -1.57722965e+01\n",
      " -2.35264124e+00 -1.46726485e+00  7.18256253e+00  5.52814303e+00\n",
      "  2.49986927e+00  2.17097842e+00 -1.45430403e+01 -5.75186041e+00\n",
      " -1.78874679e-01 -3.28602941e+00 -2.16456499e+00  1.24454618e+00\n",
      "  2.84280555e+00 -2.16956023e+00  1.19015233e+01 -4.32296604e+00\n",
      " -6.47257637e+00  8.68584841e+00 -6.33842055e+00 -9.17864005e+00\n",
      " -6.27147871e-01  9.23719716e+00 -1.39579248e+00 -1.20509928e+00\n",
      "  1.12479837e+00 -6.43803622e+00 -3.18324749e+00 -3.32294754e+00\n",
      " -7.22034574e+00  5.11720824e-01 -5.05934890e+00  9.59247051e-01\n",
      " -2.36501008e+00  4.98483494e+00 -1.87908085e+00  5.79109763e+00\n",
      "  8.56394155e-01  1.19907753e+00 -1.57226278e+00  2.44049754e-01\n",
      "  5.36412841e+00  1.00816726e+01 -1.22081453e+00  1.20546264e+00\n",
      "  1.75452311e+00 -6.41802017e+00 -8.66854939e-01  8.80625458e+00\n",
      " -2.08514653e+00  6.56026328e+00  6.73828997e+00  7.88441550e+00\n",
      "  9.78469148e+00  6.01395168e+00  4.44399001e-01  5.31668243e-03\n",
      "  6.10341426e+00  4.85630639e+00  6.52224360e+00  4.22130680e+00\n",
      "  1.07813374e+01 -4.87563056e+00  4.04262406e-01  6.13889807e+00\n",
      "  3.34100956e+00 -6.79072442e-02  1.34652382e+00  5.11208604e+00\n",
      " -8.99007959e+00  1.12337782e+00 -1.07025078e+01  4.68715456e+00\n",
      " -1.91153848e+00  2.24752678e+00 -7.30922749e+00 -8.89413884e+00\n",
      "  8.55894619e+00  5.06257752e+00  6.09636601e+00  1.01251755e+00\n",
      "  7.63635051e+00 -4.94698500e+00  4.56209643e+00  2.92935126e+00\n",
      " -2.64770087e+00 -6.76622810e+00 -1.23011303e+01  3.95180258e+00\n",
      " -1.29476675e+00 -7.44258243e+00 -1.91012243e+00  3.58903793e+00]\n"
     ]
    }
   ],
   "source": [
    "mean = 0 # mean from normal distribution\n",
    "mu = 6 # standart error of normal distribution\n",
    "U = np.array([random.normalvariate(mean,mu) for _ in  range(0,500)])\n",
    "print(f'500 errors is \\n {U}')"
   ]
  },
  {
   "cell_type": "code",
   "execution_count": 44,
   "id": "298288df",
   "metadata": {},
   "outputs": [
    {
     "name": "stdout",
     "output_type": "stream",
     "text": [
      "Mean average of U is 0.082 \n"
     ]
    }
   ],
   "source": [
    "print(f\"Mean average of U is {U.mean().round(3)} \")"
   ]
  },
  {
   "cell_type": "code",
   "execution_count": 45,
   "id": "dd3ed976",
   "metadata": {},
   "outputs": [
    {
     "name": "stdout",
     "output_type": "stream",
     "text": [
      "Standart deviation of U is 5.875\n"
     ]
    }
   ],
   "source": [
    "print(f\"Standart deviation of U is {U.std().round(3)}\")"
   ]
  },
  {
   "cell_type": "markdown",
   "id": "7491d778",
   "metadata": {},
   "source": [
    "<p id=\"uniform\"><b>8.C</b></p>\n",
    "Now generate the $y_i$ as $$y_i = 1+2x_i + u_i = \\beta_0 + \\beta_1x_i + ui;$$ that is, the population intercept is one and the population slope is two. Use the data to run the regression of yi on xi. What are your estimates of the intercept and slope? Are they equal to the population values in the above equation? Explain."
   ]
  },
  {
   "cell_type": "code",
   "execution_count": null,
   "id": "7264d9fd",
   "metadata": {},
   "outputs": [],
   "source": []
  }
 ],
 "metadata": {
  "kernelspec": {
   "display_name": "Python 3 (ipykernel)",
   "language": "python",
   "name": "python3"
  },
  "language_info": {
   "codemirror_mode": {
    "name": "ipython",
    "version": 3
   },
   "file_extension": ".py",
   "mimetype": "text/x-python",
   "name": "python",
   "nbconvert_exporter": "python",
   "pygments_lexer": "ipython3",
   "version": "3.8.8"
  }
 },
 "nbformat": 4,
 "nbformat_minor": 5
}
