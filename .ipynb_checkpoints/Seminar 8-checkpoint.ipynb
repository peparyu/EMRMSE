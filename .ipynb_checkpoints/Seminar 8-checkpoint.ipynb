{
 "cells": [
  {
   "cell_type": "markdown",
   "id": "74dbfeb8",
   "m