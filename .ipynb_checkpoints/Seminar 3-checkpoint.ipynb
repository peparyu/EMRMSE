{
 "cells": [
  {
   "cell_type": "markdown",
   "id": "4883883b",
   "metadata": {},
   "source": [
    "# Econometrics seminar № 3"
   ]
  },
  {
   "cell_type": "markdown",
   "id": "999d4b8b",
   "metadata": {},
   "source": [
    "### Wooldridge\n",
    "We are gonno need Data sets from wooldridge. [Click here](https://pypi.org/project/wooldridge/) to get manual to install"
   ]
  },
  {
   "cell_type": "code",
   "execution_count": 23,
   "id": "ab1cbce5",
   "metadata": {},
   "outputs": [],
   "source": [
    "import numpy as np # библиотека для работы со статистическиим данными\n",
    "import matplotlib.pyplot as plt # библиотека для отображения графиков\n",
    "\n",
    "\n",
    "import statsmodels.formula.api as smf # для построения регрессий\n",
    "import wooldridge # для работы с датасетами"
   ]
  },
  {
   "cell_type": "code",
   "execution_count": 3,
   "id": "94affd62",
   "metadata": {},
   "outputs": [
    {
     "name": "stdout",
     "output_type": "stream",
     "text": [
      "  J.M. Wooldridge (2019) Introductory Econometrics: A Modern Approach,\n",
      "  Cengage Learning, 6th edition.\n",
      "\n",
      "  401k       401ksubs    admnrev       affairs     airfare\n",
      "  alcohol    apple       approval      athlet1     athlet2\n",
      "  attend     audit       barium        beauty      benefits\n",
      "  beveridge  big9salary  bwght         bwght2      campus\n",
      "  card       catholic    cement        census2000  ceosal1\n",
      "  ceosal2    charity     consump       corn        countymurders\n",
      "  cps78_85   cps91       crime1        crime2      crime3\n",
      "  crime4     discrim     driving       earns       econmath\n",
      "  elem94_95  engin       expendshares  ezanders    ezunem\n",
      "  fair       fertil1     fertil2       fertil3     fish\n",
      "  fringe     gpa1        gpa2          gpa3        happiness\n",
      "  hprice1    hprice2     hprice3       hseinv      htv\n",
      "  infmrt     injury      intdef        intqrt      inven\n",
      "  jtrain     jtrain2     jtrain3       kielmc      lawsch85\n",
      "  loanapp    lowbrth     mathpnl       meap00_01   meap01\n",
      "  meap93     meapsingle  minwage       mlb1        mroz\n",
      "  murder     nbasal      nyse          okun        openness\n",
      "  pension    phillips    pntsprd       prison      prminwge\n",
      "  rdchem     rdtelec     recid         rental      return\n",
      "  saving     sleep75     slp75_81      smoke       traffic1\n",
      "  traffic2   twoyear     volat         vote1       vote2\n",
      "  voucher    wage1       wage2         wagepan     wageprc\n",
      "  wine\n"
     ]
    }
   ],
   "source": [
    "wooldridge.data()"
   ]
  },
  {
   "cell_type": "code",
   "execution_count": null,
   "id": "5489331d",
   "metadata": {},
   "outputs": [],
   "source": []
  },
  {
   "cell_type": "markdown",
   "id": "b8bcbf25",
   "metadata": {},
   "source": [
    "1. A problem of interest to health officials (and others) is to determine the effects of smoking during pregnancy on infant health. One measure of infant health is birth weight; a birth weight that is too low can put an infant at risk for contracting various illnesses. Since factors other than cigarette smoking that affect birth weight are likely to be correlated with smoking, we should take those factors into account. For example, higher income generally results in access to better prenatal care, as well as better nutrition for the mother. An equation that recognizes this is $$bwght = \\beta_0 + \\beta_1*cigs + \\beta_2*faminc + u.$$\n",
    "    1. What is the most [likely](#likely) sign for $\\beta_2 $?\n",
    "    2. Do you think *cigs* and faminc are likely to be correlated? Explain why the correlation might be positive or negative.\n",
    "    3. Now, [estimate](#faminc) the equation with and without *faminc*, using the data in BWGHT .RAW. Report the results in equation form, including the sample size and $R$-squared. Discuss your results, focusing on whether adding faminc substantially changes the estimated effect of *cigs* on *bwght*."
   ]
  },
  {
   "cell_type": "code",
   "execution_count": 5,
   "id": "ad09751d",
   "metadata": {},
   "outputs": [
    {
     "name": "stdout",
     "output_type": "stream",
     "text": [
      "name of dataset: bwght\n",
      "no of variables: 14\n",
      "no of observations: 1388\n",
      "\n",
      "+----------+--------------------------------+\n",
      "| variable | label                          |\n",
      "+----------+--------------------------------+\n",
      "| faminc   | 1988 family income, $1000s     |\n",
      "| cigtax   | cig. tax in home state, 1988   |\n",
      "| cigprice | cig. price in home state, 1988 |\n",
      "| bwght    | birth weight, ounces           |\n",
      "| fatheduc | father's yrs of educ           |\n",
      "| motheduc | mother's yrs of educ           |\n",
      "| parity   | birth order of child           |\n",
      "| male     | =1 if male child               |\n",
      "| white    | =1 if white                    |\n",
      "| cigs     | cigs smked per day while preg  |\n",
      "| lbwght   | log of bwght                   |\n",
      "| bwghtlbs | birth weight, pounds           |\n",
      "| packs    | packs smked per day while preg |\n",
      "| lfaminc  | log(faminc)                    |\n",
      "+----------+--------------------------------+\n",
      "\n",
      "J. Mullahy (1997), “Instrumental-Variable Estimation of Count Data\n",
      "Models: Applications to Models of Cigarette Smoking Behavior,” Review\n",
      "of Economics and Statistics 79, 596-593. Professor Mullahy kindly\n",
      "provided the data. He obtained them from the 1988 National Health\n",
      "Interview Survey.\n"
     ]
    }
   ],
   "source": [
    "wooldridge.data('bwght', description=True)"
   ]
  },
  {
   "cell_type": "code",
   "execution_count": 9,
   "id": "926006a8",
   "metadata": {},
   "outputs": [
    {
     "data": {
      "text/html": [
       "<div>\n",
       "<style scoped>\n",
       "    .dataframe tbody tr th:only-of-type {\n",
       "        vertical-align: middle;\n",
       "    }\n",
       "\n",
       "    .dataframe tbody tr th {\n",
       "        vertical-align: top;\n",
       "    }\n",
       "\n",
       "    .dataframe thead th {\n",
       "        text-align: right;\n",
       "    }\n",
       "</style>\n",
       "<table border=\"1\" class=\"dataframe\">\n",
       "  <thead>\n",
       "    <tr style=\"text-align: right;\">\n",
       "      <th></th>\n",
       "      <th>faminc</th>\n",
       "      <th>cigtax</th>\n",
       "      <th>cigprice</th>\n",
       "      <th>bwght</th>\n",
       "      <th>fatheduc</th>\n",
       "      <th>motheduc</th>\n",
       "      <th>parity</th>\n",
       "      <th>male</th>\n",
       "      <th>white</th>\n",
       "      <th>cigs</th>\n",
       "      <th>lbwght</th>\n",
       "      <th>bwghtlbs</th>\n",
       "      <th>packs</th>\n",
       "      <th>lfaminc</th>\n",
       "    </tr>\n",
       "  </thead>\n",
       "  <tbody>\n",
       "    <tr>\n",
       "      <th>0</th>\n",
       "      <td>13.5</td>\n",
       "      <td>16.5</td>\n",
       "      <td>122.300003</td>\n",
       "      <td>109</td>\n",
       "      <td>12.0</td>\n",
       "      <td>12.0</td>\n",
       "      <td>1</td>\n",
       "      <td>1</td>\n",
       "      <td>1</td>\n",
       "      <td>0</td>\n",
       "      <td>4.691348</td>\n",
       "      <td>6.8125</td>\n",
       "      <td>0.0</td>\n",
       "      <td>2.602690</td>\n",
       "    </tr>\n",
       "    <tr>\n",
       "      <th>1</th>\n",
       "      <td>7.5</td>\n",
       "      <td>16.5</td>\n",
       "      <td>122.300003</td>\n",
       "      <td>133</td>\n",
       "      <td>6.0</td>\n",
       "      <td>12.0</td>\n",
       "      <td>2</td>\n",
       "      <td>1</td>\n",
       "      <td>0</td>\n",
       "      <td>0</td>\n",
       "      <td>4.890349</td>\n",
       "      <td>8.3125</td>\n",
       "      <td>0.0</td>\n",
       "      <td>2.014903</td>\n",
       "    </tr>\n",
       "    <tr>\n",
       "      <th>2</th>\n",
       "      <td>0.5</td>\n",
       "      <td>16.5</td>\n",
       "      <td>122.300003</td>\n",
       "      <td>129</td>\n",
       "      <td>NaN</td>\n",
       "      <td>12.0</td>\n",
       "      <td>2</td>\n",
       "      <td>0</td>\n",
       "      <td>0</td>\n",
       "      <td>0</td>\n",
       "      <td>4.859812</td>\n",
       "      <td>8.0625</td>\n",
       "      <td>0.0</td>\n",
       "      <td>-0.693147</td>\n",
       "    </tr>\n",
       "    <tr>\n",
       "      <th>3</th>\n",
       "      <td>15.5</td>\n",
       "      <td>16.5</td>\n",
       "      <td>122.300003</td>\n",
       "      <td>126</td>\n",
       "      <td>12.0</td>\n",
       "      <td>12.0</td>\n",
       "      <td>2</td>\n",
       "      <td>1</td>\n",
       "      <td>0</td>\n",
       "      <td>0</td>\n",
       "      <td>4.836282</td>\n",
       "      <td>7.8750</td>\n",
       "      <td>0.0</td>\n",
       "      <td>2.740840</td>\n",
       "    </tr>\n",
       "    <tr>\n",
       "      <th>4</th>\n",
       "      <td>27.5</td>\n",
       "      <td>16.5</td>\n",
       "      <td>122.300003</td>\n",
       "      <td>134</td>\n",
       "      <td>14.0</td>\n",
       "      <td>12.0</td>\n",
       "      <td>2</td>\n",
       "      <td>1</td>\n",
       "      <td>1</td>\n",
       "      <td>0</td>\n",
       "      <td>4.897840</td>\n",
       "      <td>8.3750</td>\n",
       "      <td>0.0</td>\n",
       "      <td>3.314186</td>\n",
       "    </tr>\n",
       "    <tr>\n",
       "      <th>...</th>\n",
       "      <td>...</td>\n",
       "      <td>...</td>\n",
       "      <td>...</td>\n",
       "      <td>...</td>\n",
       "      <td>...</td>\n",
       "      <td>...</td>\n",
       "      <td>...</td>\n",
       "      <td>...</td>\n",
       "      <td>...</td>\n",
       "      <td>...</td>\n",
       "      <td>...</td>\n",
       "      <td>...</td>\n",
       "      <td>...</td>\n",
       "      <td>...</td>\n",
       "    </tr>\n",
       "    <tr>\n",
       "      <th>1383</th>\n",
       "      <td>27.5</td>\n",
       "      <td>30.0</td>\n",
       "      <td>138.300003</td>\n",
       "      <td>110</td>\n",
       "      <td>12.0</td>\n",
       "      <td>12.0</td>\n",
       "      <td>4</td>\n",
       "      <td>1</td>\n",
       "      <td>1</td>\n",
       "      <td>0</td>\n",
       "      <td>4.700480</td>\n",
       "      <td>6.8750</td>\n",
       "      <td>0.0</td>\n",
       "      <td>3.314186</td>\n",
       "    </tr>\n",
       "    <tr>\n",
       "      <th>1384</th>\n",
       "      <td>5.5</td>\n",
       "      <td>30.0</td>\n",
       "      <td>138.300003</td>\n",
       "      <td>146</td>\n",
       "      <td>NaN</td>\n",
       "      <td>16.0</td>\n",
       "      <td>2</td>\n",
       "      <td>1</td>\n",
       "      <td>1</td>\n",
       "      <td>0</td>\n",
       "      <td>4.983607</td>\n",
       "      <td>9.1250</td>\n",
       "      <td>0.0</td>\n",
       "      <td>1.704748</td>\n",
       "    </tr>\n",
       "    <tr>\n",
       "      <th>1385</th>\n",
       "      <td>65.0</td>\n",
       "      <td>8.0</td>\n",
       "      <td>118.599998</td>\n",
       "      <td>135</td>\n",
       "      <td>18.0</td>\n",
       "      <td>16.0</td>\n",
       "      <td>2</td>\n",
       "      <td>0</td>\n",
       "      <td>1</td>\n",
       "      <td>0</td>\n",
       "      <td>4.905275</td>\n",
       "      <td>8.4375</td>\n",
       "      <td>0.0</td>\n",
       "      <td>4.174387</td>\n",
       "    </tr>\n",
       "    <tr>\n",
       "      <th>1386</th>\n",
       "      <td>27.5</td>\n",
       "      <td>8.0</td>\n",
       "      <td>118.599998</td>\n",
       "      <td>118</td>\n",
       "      <td>NaN</td>\n",
       "      <td>14.0</td>\n",
       "      <td>2</td>\n",
       "      <td>0</td>\n",
       "      <td>1</td>\n",
       "      <td>0</td>\n",
       "      <td>4.770685</td>\n",
       "      <td>7.3750</td>\n",
       "      <td>0.0</td>\n",
       "      <td>3.314186</td>\n",
       "    </tr>\n",
       "    <tr>\n",
       "      <th>1387</th>\n",
       "      <td>37.5</td>\n",
       "      <td>8.0</td>\n",
       "      <td>118.599998</td>\n",
       "      <td>111</td>\n",
       "      <td>16.0</td>\n",
       "      <td>13.0</td>\n",
       "      <td>2</td>\n",
       "      <td>0</td>\n",
       "      <td>1</td>\n",
       "      <td>0</td>\n",
       "      <td>4.709530</td>\n",
       "      <td>6.9375</td>\n",
       "      <td>0.0</td>\n",
       "      <td>3.624341</td>\n",
       "    </tr>\n",
       "  </tbody>\n",
       "</table>\n",
       "<p>1388 rows × 14 columns</p>\n",
       "</div>"
      ],
      "text/plain": [
       "      faminc  cigtax    cigprice  bwght  fatheduc  motheduc  parity  male  \\\n",
       "0       13.5    16.5  122.300003    109      12.0      12.0       1     1   \n",
       "1        7.5    16.5  122.300003    133       6.0      12.0       2     1   \n",
       "2        0.5    16.5  122.300003    129       NaN      12.0       2     0   \n",
       "3       15.5    16.5  122.300003    126      12.0      12.0       2     1   \n",
       "4       27.5    16.5  122.300003    134      14.0      12.0       2     1   \n",
       "...      ...     ...         ...    ...       ...       ...     ...   ...   \n",
       "1383    27.5    30.0  138.300003    110      12.0      12.0       4     1   \n",
       "1384     5.5    30.0  138.300003    146       NaN      16.0       2     1   \n",
       "1385    65.0     8.0  118.599998    135      18.0      16.0       2     0   \n",
       "1386    27.5     8.0  118.599998    118       NaN      14.0       2     0   \n",
       "1387    37.5     8.0  118.599998    111      16.0      13.0       2     0   \n",
       "\n",
       "      white  cigs    lbwght  bwghtlbs  packs   lfaminc  \n",
       "0         1     0  4.691348    6.8125    0.0  2.602690  \n",
       "1         0     0  4.890349    8.3125    0.0  2.014903  \n",
       "2         0     0  4.859812    8.0625    0.0 -0.693147  \n",
       "3         0     0  4.836282    7.8750    0.0  2.740840  \n",
       "4         1     0  4.897840    8.3750    0.0  3.314186  \n",
       "...     ...   ...       ...       ...    ...       ...  \n",
       "1383      1     0  4.700480    6.8750    0.0  3.314186  \n",
       "1384      1     0  4.983607    9.1250    0.0  1.704748  \n",
       "1385      1     0  4.905275    8.4375    0.0  4.174387  \n",
       "1386      1     0  4.770685    7.3750    0.0  3.314186  \n",
       "1387      1     0  4.709530    6.9375    0.0  3.624341  \n",
       "\n",
       "[1388 rows x 14 columns]"
      ]
     },
     "execution_count": 9,
     "metadata": {},
     "output_type": "execute_result"
    }
   ],
   "source": [
    "df = wooldridge.data('bwght')\n",
    "df"
   ]
  },
  {
   "cell_type": "markdown",
   "id": "c0ccf967",
   "metadata": {},
   "source": [
    "<p id=\"likely\"><b>1.A</b></p>\n",
    "What is the most likely sign for $\\beta_2 $?"
   ]
  },
  {
   "cell_type": "code",
   "execution_count": 6,
   "id": "d8068aef",
   "metadata": {},
   "outputs": [
    {
     "name": "stdout",
     "output_type": "stream",
     "text": [
      "Most likely sign for betta2 is plus(+)\n"
     ]
    }
   ],
   "source": [
    "print(f\"Most likely sign for betta2 is plus(+)\")"
   ]
  },
  {
   "cell_type": "markdown",
   "id": "47536528",
   "metadata": {},
   "source": [
    "<p id=\"faminc\"><b>1.3</b></p>\n",
    "Now, estimate the equation with and without *faminc*, using the data in BWGHT .RAW. Report the results in equation form, including the sample size and $R$-squared. Discuss your results, focusing on whether adding faminc substantially changes the estimated effect of *cigs* on *bwght*."
   ]
  },
  {
   "cell_type": "code",
   "execution_count": 17,
   "id": "77224799",
   "metadata": {},
   "outputs": [
    {
     "name": "stdout",
     "output_type": "stream",
     "text": [
      "                            OLS Regression Results                            \n",
      "==============================================================================\n",
      "Dep. Variable:                  bwght   R-squared:                       0.030\n",
      "Model:                            OLS   Adj. R-squared:                  0.028\n",
      "Method:                 Least Squares   F-statistic:                     21.27\n",
      "Date:                Sat, 21 Jun 2025   Prob (F-statistic):           7.94e-10\n",
      "Time:                        12:05:27   Log-Likelihood:                -6130.4\n",
      "No. Observations:                1388   AIC:                         1.227e+04\n",
      "Df Residuals:                    1385   BIC:                         1.228e+04\n",
      "Df Model:                           2                                         \n",
      "Covariance Type:            nonrobust                                         \n",
      "==============================================================================\n",
      "                 coef    std err          t      P>|t|      [0.025      0.975]\n",
      "------------------------------------------------------------------------------\n",
      "Intercept    116.9741      1.049    111.512      0.000     114.916     119.032\n",
      "cigs          -0.4634      0.092     -5.060      0.000      -0.643      -0.284\n",
      "faminc         0.0928      0.029      3.178      0.002       0.036       0.150\n",
      "==============================================================================\n",
      "Omnibus:                      116.751   Durbin-Watson:                   1.922\n",
      "Prob(Omnibus):                  0.000   Jarque-Bera (JB):              619.781\n",
      "Skew:                          -0.154   Prob(JB):                    2.61e-135\n",
      "Kurtosis:                       6.259   Cond. No.                         67.4\n",
      "==============================================================================\n",
      "\n",
      "Notes:\n",
      "[1] Standard Errors assume that the covariance matrix of the errors is correctly specified.\n"
     ]
    }
   ],
   "source": [
    "model_one = smf.ols(formula=\"bwght~cigs+faminc\", data=df)\n",
    "res = model_one.fit()\n",
    "print(res.summary())"
   ]
  },
  {
   "cell_type": "code",
   "execution_count": 24,
   "id": "c66ee710",
   "metadata": {},
   "outputs": [
    {
     "name": "stdout",
     "output_type": "stream",
     "text": [
      "R-squared for the model with faminc equal 0.023\n"
     ]
    }
   ],
   "source": [
    "print(f\"R-squared for the model with faminc equal {res.rsquared.round(3)}\")"
   ]
  },
  {
   "cell_type": "code",
   "execution_count": 19,
   "id": "f6b1c60f",
   "metadata": {},
   "outputs": [
    {
     "name": "stdout",
     "output_type": "stream",
     "text": [
      "                            OLS Regression Results                            \n",
      "==============================================================================\n",
      "Dep. Variable:                  bwght   R-squared:                       0.023\n",
      "Model:                            OLS   Adj. R-squared:                  0.022\n",
      "Method:                 Least Squares   F-statistic:                     32.24\n",
      "Date:                Sat, 21 Jun 2025   Prob (F-statistic):           1.66e-08\n",
      "Time:                        12:05:49   Log-Likelihood:                -6135.5\n",
      "No. Observations:                1388   AIC:                         1.227e+04\n",
      "Df Residuals:                    1386   BIC:                         1.229e+04\n",
      "Df Model:                           1                                         \n",
      "Covariance Type:            nonrobust                                         \n",
      "==============================================================================\n",
      "                 coef    std err          t      P>|t|      [0.025      0.975]\n",
      "------------------------------------------------------------------------------\n",
      "Intercept    119.7719      0.572    209.267      0.000     118.649     120.895\n",
      "cigs          -0.5138      0.090     -5.678      0.000      -0.691      -0.336\n",
      "==============================================================================\n",
      "Omnibus:                      118.187   Durbin-Watson:                   1.924\n",
      "Prob(Omnibus):                  0.000   Jarque-Bera (JB):              635.742\n",
      "Skew:                          -0.156   Prob(JB):                    8.92e-139\n",
      "Kurtosis:                       6.301   Cond. No.                         6.72\n",
      "==============================================================================\n",
      "\n",
      "Notes:\n",
      "[1] Standard Errors assume that the covariance matrix of the errors is correctly specified.\n"
     ]
    }
   ],
   "source": [
    "model_two = smf.ols(formula=\"bwght~cigs\", data=df)\n",
    "res = model_two.fit()\n",
    "print(res.summary())"
   ]
  },
  {
   "cell_type": "code",
   "execution_count": 20,
   "id": "f4cdd5cc",
   "metadata": {},
   "outputs": [
    {
     "name": "stdout",
     "output_type": "stream",
     "text": [
      "R-squared for the model with faminc equal 0.023\n"
     ]
    }
   ],
   "source": [
    "print(f\"R-squared for the model with faminc equal {res.rsquared.round(3)}\")"
   ]
  },
  {
   "cell_type": "markdown",
   "id": "d8348089",
   "metadata": {},
   "source": [
    "# C2"
   ]
  },
  {
   "cell_type": "markdown",
   "id": "de00252a",
   "metadata": {},
   "source": [
    "2. Use the data in hprice1  to [estimate](#regression) the model $price + \\beta_0 + \\beta_1*sqrft + \\beta_2*bdrms + u$, where *price* is the house price measured in thousands of dollars.\n",
    "    1. Write out the [results](#res) in equation form.\n",
    "    2. What is the estimated [increase](#increase) in price for a house with one more bedroom, holding square footage constant?\n",
    "    3. What is the estimated increase in price for a house with an additional bedroom that is 140 square feet in size? Compare this to your answer in part (ii).\n",
    "    4. What percentage of the [variation](#var) in price is explained by square footage and number of bedrooms?\n",
    "    5. The first house in the sample has $sqrft = 2,438$ and $bdrms = 4$. Find the [predicted](#predic) selling price for this house from the OLS regression line.\n",
    "    6. The [actual](#actual) selling price of the first house in the sample was   300,000 dollar (soprice5300). Find the residual for this house. Does it suggest that the buyer underpaid or overpaid for the house?"
   ]
  },
  {
   "cell_type": "code",
   "execution_count": 31,
   "id": "244dd2df",
   "metadata": {},
   "outputs": [
    {
     "data": {
      "text/html": [
       "<div>\n",
       "<style scoped>\n",
       "    .dataframe tbody tr th:only-of-type {\n",
       "        vertical-align: middle;\n",
       "    }\n",
       "\n",
       "    .dataframe tbody tr th {\n",
       "        vertical-align: top;\n",
       "    }\n",
       "\n",
       "    .dataframe thead th {\n",
       "        text-align: right;\n",
       "    }\n",
       "</style>\n",
       "<table border=\"1\" class=\"dataframe\">\n",
       "  <thead>\n",
       "    <tr style=\"text-align: right;\">\n",
       "      <th></th>\n",
       "      <th>price</th>\n",
       "      <th>assess</th>\n",
       "      <th>bdrms</th>\n",
       "      <th>lotsize</th>\n",
       "      <th>sqrft</th>\n",
       "      <th>colonial</th>\n",
       "      <th>lprice</th>\n",
       "      <th>lassess</th>\n",
       "      <th>llotsize</th>\n",
       "      <th>lsqrft</th>\n",
       "    </tr>\n",
       "  </thead>\n",
       "  <tbody>\n",
       "    <tr>\n",
       "      <th>0</th>\n",
       "      <td>300.0</td>\n",
       "      <td>349.100006</td>\n",
       "      <td>4</td>\n",
       "      <td>6126.0</td>\n",
       "      <td>2438</td>\n",
       "      <td>1</td>\n",
       "      <td>5.703783</td>\n",
       "      <td>5.855359</td>\n",
       "      <td>8.720297</td>\n",
       "      <td>7.798934</td>\n",
       "    </tr>\n",
       "    <tr>\n",
       "      <th>1</th>\n",
       "      <td>370.0</td>\n",
       "      <td>351.500000</td>\n",
       "      <td>3</td>\n",
       "      <td>9903.0</td>\n",
       "      <td>2076</td>\n",
       "      <td>1</td>\n",
       "      <td>5.913503</td>\n",
       "      <td>5.862210</td>\n",
       "      <td>9.200593</td>\n",
       "      <td>7.638198</td>\n",
       "    </tr>\n",
       "    <tr>\n",
       "      <th>2</th>\n",
       "      <td>191.0</td>\n",
       "      <td>217.699997</td>\n",
       "      <td>3</td>\n",
       "      <td>5200.0</td>\n",
       "      <td>1374</td>\n",
       "      <td>0</td>\n",
       "      <td>5.252274</td>\n",
       "      <td>5.383118</td>\n",
       "      <td>8.556414</td>\n",
       "      <td>7.225482</td>\n",
       "    </tr>\n",
       "    <tr>\n",
       "      <th>3</th>\n",
       "      <td>195.0</td>\n",
       "      <td>231.800003</td>\n",
       "      <td>3</td>\n",
       "      <td>4600.0</td>\n",
       "      <td>1448</td>\n",
       "      <td>1</td>\n",
       "      <td>5.273000</td>\n",
       "      <td>5.445875</td>\n",
       "      <td>8.433811</td>\n",
       "      <td>7.277938</td>\n",
       "    </tr>\n",
       "    <tr>\n",
       "      <th>4</th>\n",
       "      <td>373.0</td>\n",
       "      <td>319.100006</td>\n",
       "      <td>4</td>\n",
       "      <td>6095.0</td>\n",
       "      <td>2514</td>\n",
       "      <td>1</td>\n",
       "      <td>5.921578</td>\n",
       "      <td>5.765504</td>\n",
       "      <td>8.715224</td>\n",
       "      <td>7.829630</td>\n",
       "    </tr>\n",
       "    <tr>\n",
       "      <th>...</th>\n",
       "      <td>...</td>\n",
       "      <td>...</td>\n",
       "      <td>...</td>\n",
       "      <td>...</td>\n",
       "      <td>...</td>\n",
       "      <td>...</td>\n",
       "      <td>...</td>\n",
       "      <td>...</td>\n",
       "      <td>...</td>\n",
       "      <td>...</td>\n",
       "    </tr>\n",
       "    <tr>\n",
       "      <th>83</th>\n",
       "      <td>295.0</td>\n",
       "      <td>318.299988</td>\n",
       "      <td>3</td>\n",
       "      <td>6056.0</td>\n",
       "      <td>1837</td>\n",
       "      <td>1</td>\n",
       "      <td>5.686975</td>\n",
       "      <td>5.762994</td>\n",
       "      <td>8.708805</td>\n",
       "      <td>7.515889</td>\n",
       "    </tr>\n",
       "    <tr>\n",
       "      <th>84</th>\n",
       "      <td>236.0</td>\n",
       "      <td>259.399994</td>\n",
       "      <td>3</td>\n",
       "      <td>5828.0</td>\n",
       "      <td>1715</td>\n",
       "      <td>0</td>\n",
       "      <td>5.463832</td>\n",
       "      <td>5.558371</td>\n",
       "      <td>8.670429</td>\n",
       "      <td>7.447168</td>\n",
       "    </tr>\n",
       "    <tr>\n",
       "      <th>85</th>\n",
       "      <td>202.5</td>\n",
       "      <td>258.100006</td>\n",
       "      <td>3</td>\n",
       "      <td>6341.0</td>\n",
       "      <td>1574</td>\n",
       "      <td>0</td>\n",
       "      <td>5.310740</td>\n",
       "      <td>5.553347</td>\n",
       "      <td>8.754792</td>\n",
       "      <td>7.361375</td>\n",
       "    </tr>\n",
       "    <tr>\n",
       "      <th>86</th>\n",
       "      <td>219.0</td>\n",
       "      <td>232.000000</td>\n",
       "      <td>2</td>\n",
       "      <td>6362.0</td>\n",
       "      <td>1185</td>\n",
       "      <td>0</td>\n",
       "      <td>5.389072</td>\n",
       "      <td>5.446737</td>\n",
       "      <td>8.758098</td>\n",
       "      <td>7.077498</td>\n",
       "    </tr>\n",
       "    <tr>\n",
       "      <th>87</th>\n",
       "      <td>242.0</td>\n",
       "      <td>252.000000</td>\n",
       "      <td>4</td>\n",
       "      <td>4950.0</td>\n",
       "      <td>1774</td>\n",
       "      <td>1</td>\n",
       "      <td>5.488938</td>\n",
       "      <td>5.529429</td>\n",
       "      <td>8.507143</td>\n",
       "      <td>7.480992</td>\n",
       "    </tr>\n",
       "  </tbody>\n",
       "</table>\n",
       "<p>88 rows × 10 columns</p>\n",
       "</div>"
      ],
      "text/plain": [
       "    price      assess  bdrms  lotsize  sqrft  colonial    lprice   lassess  \\\n",
       "0   300.0  349.100006      4   6126.0   2438         1  5.703783  5.855359   \n",
       "1   370.0  351.500000      3   9903.0   2076         1  5.913503  5.862210   \n",
       "2   191.0  217.699997      3   5200.0   1374         0  5.252274  5.383118   \n",
       "3   195.0  231.800003      3   4600.0   1448         1  5.273000  5.445875   \n",
       "4   373.0  319.100006      4   6095.0   2514         1  5.921578  5.765504   \n",
       "..    ...         ...    ...      ...    ...       ...       ...       ...   \n",
       "83  295.0  318.299988      3   6056.0   1837         1  5.686975  5.762994   \n",
       "84  236.0  259.399994      3   5828.0   1715         0  5.463832  5.558371   \n",
       "85  202.5  258.100006      3   6341.0   1574         0  5.310740  5.553347   \n",
       "86  219.0  232.000000      2   6362.0   1185         0  5.389072  5.446737   \n",
       "87  242.0  252.000000      4   4950.0   1774         1  5.488938  5.529429   \n",
       "\n",
       "    llotsize    lsqrft  \n",
       "0   8.720297  7.798934  \n",
       "1   9.200593  7.638198  \n",
       "2   8.556414  7.225482  \n",
       "3   8.433811  7.277938  \n",
       "4   8.715224  7.829630  \n",
       "..       ...       ...  \n",
       "83  8.708805  7.515889  \n",
       "84  8.670429  7.447168  \n",
       "85  8.754792  7.361375  \n",
       "86  8.758098  7.077498  \n",
       "87  8.507143  7.480992  \n",
       "\n",
       "[88 rows x 10 columns]"
      ]
     },
     "execution_count": 31,
     "metadata": {},
     "output_type": "execute_result"
    }
   ],
   "source": [
    "df = wooldridge.data('hprice1')\n",
    "df"
   ]
  },
  {
   "cell_type": "markdown",
   "id": "18c90df0",
   "metadata": {},
   "source": [
    "<p id=\"regression\"><b>1.A</b></p>\n",
    "Use the data in hprice1  to estimate the model $price + \\beta_0 + \\beta_1*sqrft + \\beta_2*bdrms + u$, where *price* is the house price measured in thousands of dollars.\n"
   ]
  },
  {
   "cell_type": "code",
   "execution_count": 26,
   "id": "3cf32a16",
   "metadata": {},
   "outputs": [
    {
     "name": "stdout",
     "output_type": "stream",
     "text": [
      "                            OLS Regression Results                            \n",
      "==============================================================================\n",
      "Dep. Variable:                  price   R-squared:                       0.632\n",
      "Model:                            OLS   Adj. R-squared:                  0.623\n",
      "Method:                 Least Squares   F-statistic:                     72.96\n",
      "Date:                Sat, 21 Jun 2025   Prob (F-statistic):           3.57e-19\n",
      "Time:                        12:36:58   Log-Likelihood:                -488.00\n",
      "No. Observations:                  88   AIC:                             982.0\n",
      "Df Residuals:                      85   BIC:                             989.4\n",
      "Df Model:                           2                                         \n",
      "Covariance Type:            nonrobust                                         \n",
      "==============================================================================\n",
      "                 coef    std err          t      P>|t|      [0.025      0.975]\n",
      "------------------------------------------------------------------------------\n",
      "Intercept    -19.3150     31.047     -0.622      0.536     -81.044      42.414\n",
      "sqrft          0.1284      0.014      9.291      0.000       0.101       0.156\n",
      "bdrms         15.1982      9.484      1.603      0.113      -3.658      34.054\n",
      "==============================================================================\n",
      "Omnibus:                       25.221   Durbin-Watson:                   1.858\n",
      "Prob(Omnibus):                  0.000   Jarque-Bera (JB):               44.973\n",
      "Skew:                           1.122   Prob(JB):                     1.72e-10\n",
      "Kurtosis:                       5.689   Cond. No.                     9.85e+03\n",
      "==============================================================================\n",
      "\n",
      "Notes:\n",
      "[1] Standard Errors assume that the covariance matrix of the errors is correctly specified.\n",
      "[2] The condition number is large, 9.85e+03. This might indicate that there are\n",
      "strong multicollinearity or other numerical problems.\n"
     ]
    }
   ],
   "source": [
    "model = smf.ols(formula = 'price ~ sqrft+bdrms', data = df)\n",
    "res = model.fit()\n",
    "print(res.summary())"
   ]
  },
  {
   "cell_type": "markdown",
   "id": "e59223db",
   "metadata": {},
   "source": [
    "<p id=\"res\"><b>1.B</b></p>\n",
    "Write out the results in equation form."
   ]
  },
  {
   "cell_type": "code",
   "execution_count": 30,
   "id": "061a7735",
   "metadata": {},
   "outputs": [
    {
     "name": "stdout",
     "output_type": "stream",
     "text": [
      "Coefficien for regression is \n",
      " Intercept   -19.31\n",
      "sqrft         0.13\n",
      "bdrms        15.20\n",
      "dtype: float64\n"
     ]
    }
   ],
   "source": [
    "print(f'Coefficien for regression is \\n {res.params.round(2)}')"
   ]
  },
  {
   "cell_type": "markdown",
   "id": "e20afea3",
   "metadata": {},
   "source": [
    "Equation form is \n",
    "$$\n",
    "price = -19.31 + 0.13 sqrft + 15.2 bdrms\n",
    "$$"
   ]
  },
  {
   "cell_type": "markdown",
   "id": "c91090d6",
   "metadata": {},
   "source": [
    "<p id=\"increase\"><b>1.C</b></p>\n",
    "What is the estimated increase in price for a house with one more bedroom, holding square footage constant?"
   ]
  },
  {
   "cell_type": "code",
   "execution_count": 35,
   "id": "42493e55",
   "metadata": {},
   "outputs": [
    {
     "name": "stdout",
     "output_type": "stream",
     "text": [
      "Price increase for a house about 15.2 dollars withi one more bedroom, holding squre footage constant\n"
     ]
    }
   ],
   "source": [
    "print(f\"Price increase for a house about {res.params[2].round(2)} dollars withi one more bedroom, holding squre footage constant\")"
   ]
  },
  {
   "cell_type": "markdown",
   "id": "4b769be4",
   "metadata": {},
   "source": [
    "<p id=\"var\"><b>1.D</b></p>\n",
    "What percentage of the variation in price is explained by square footage and number of bedrooms?"
   ]
  },
  {
   "cell_type": "code",
   "execution_count": 36,
   "id": "6d7bb0d1",
   "metadata": {},
   "outputs": [
    {
     "name": "stdout",
     "output_type": "stream",
     "text": [
      "Price increase for a house about 0.13 dollars with one more square footage \n"
     ]
    }
   ],
   "source": [
    "print(f\"Price increase for a house about {res.params[1].round(2)} dollars with one more square footage \")"
   ]
  },
  {
   "cell_type": "markdown",
   "id": "fc3455aa",
   "metadata": {},
   "source": [
    "<p id=\"predic\"><b>1.D</b></p>\n",
    "The first house in the sample has $sqrft = 2,438$ and $bdrms = 4$. Find the predicted selling price for this house from the OLS regression line."
   ]
  },
  {
   "cell_type": "code",
   "execution_count": null,
   "id": "a8da0195",
   "metadata": {},
   "outputs": [],
   "source": []
  },
  {
   "cell_type": "code",
   "execution_count": 48,
   "id": "203550ea",
   "metadata": {},
   "outputs": [
    {
     "name": "stdout",
     "output_type": "stream",
     "text": [
      "Predict selling price for house is 41.79089558698121\n"
     ]
    }
   ],
   "source": [
    "print(f'Predict selling price for house is {res.predict(exog=dict(sqrft=2.438,bdrms=4))[0]}')"
   ]
  },
  {
   "cell_type": "markdown",
   "id": "81c5d92b",
   "metadata": {},
   "source": [
    "<p id=\"actual\"><b>1.E</b></p>\n",
    "The actual selling price of the first house in the sample was   300,000 dollar (soprice5300). Find the residual for this house. Does it suggest that the buyer underpaid or overpaid for the house?"
   ]
  },
  {
   "cell_type": "code",
   "execution_count": 57,
   "id": "2cfe2a19",
   "metadata": {},
   "outputs": [
    {
     "name": "stdout",
     "output_type": "stream",
     "text": [
      "Predict price of the firs house is 354.6052489839994 \n"
     ]
    }
   ],
   "source": [
    "print(f\"Predict price of the firs house is {res.predict(exog=dict(sqrft=df.sqrft[0],bdrms=df.bdrms[0]))[0]} \")"
   ]
  },
  {
   "cell_type": "markdown",
   "id": "d4343584",
   "metadata": {},
   "source": [
    "# C7"
   ]
  },
  {
   "cell_type": "markdown",
   "id": "0e069b0f",
   "metadata": {},
   "source": [
    "7. Use the [data](#dt) in MEAP93.RAW to answer this question.\n",
    "    1. Estimate the [model](#model) $math10 = \\beta_0 + \\beta_1*log(expend) + \\beta_2*lnchprg + u$, and report the results in the usual form, including the sample size and R-squared. Are the signs of the slope coefficients what you expected? Explain.\n",
    "    2. What do you make of the [intercept](#intercept) you estimated in part (i)? In particular, does it make sense to set the two explanatory variables to zero? \n",
    "    3. Now run the simple regression of math10 on log(expend), and [compare](#compare) the slope coefficient with the estimate obtained in part (i). Is the estimated spending effect now larger or smaller than in part (i)?\n",
    "    4. Find the [correlation](#correlation) between $lexpend = log(expend)$ and $lnchprg$. Does its sign make sense to you?\n",
    "    5. Use part (iv) to explain your findings in part (iii)."
   ]
  },
  {
   "cell_type": "markdown",
   "id": "47c8aee6",
   "metadata": {},
   "source": [
    "<p id=\"dt\"><b>1</b></p>\n",
    "Use the data in MEAP93.RAW to answer this question."
   ]
  },
  {
   "cell_type": "code",
   "execution_count": 58,
   "id": "d48c8579",
   "metadata": {},
   "outputs": [
    {
     "data": {
      "text/html": [
       "<div>\n",
       "<style scoped>\n",
       "    .dataframe tbody tr th:only-of-type {\n",
       "        vertical-align: middle;\n",
       "    }\n",
       "\n",
       "    .dataframe tbody tr th {\n",
       "        vertical-align: top;\n",
       "    }\n",
       "\n",
       "    .dataframe thead th {\n",
       "        text-align: right;\n",
       "    }\n",
       "</style>\n",
       "<table border=\"1\" class=\"dataframe\">\n",
       "  <thead>\n",
       "    <tr style=\"text-align: right;\">\n",
       "      <th></th>\n",
       "      <th>lnchprg</th>\n",
       "      <th>enroll</th>\n",
       "      <th>staff</th>\n",
       "      <th>expend</th>\n",
       "      <th>salary</th>\n",
       "      <th>benefits</th>\n",
       "      <th>droprate</th>\n",
       "      <th>gradrate</th>\n",
       "      <th>math10</th>\n",
       "      <th>sci11</th>\n",
       "      <th>totcomp</th>\n",
       "      <th>ltotcomp</th>\n",
       "      <th>lexpend</th>\n",
       "      <th>lenroll</th>\n",
       "      <th>lstaff</th>\n",
       "      <th>bensal</th>\n",
       "      <th>lsalary</th>\n",
       "    </tr>\n",
       "  </thead>\n",
       "  <tbody>\n",
       "    <tr>\n",
       "      <th>0</th>\n",
       "      <td>1.400000</td>\n",
       "      <td>1862</td>\n",
       "      <td>112.599998</td>\n",
       "      <td>5765</td>\n",
       "      <td>37498.0</td>\n",
       "      <td>7420</td>\n",
       "      <td>2.900000</td>\n",
       "      <td>89.199997</td>\n",
       "      <td>56.400002</td>\n",
       "      <td>67.900002</td>\n",
       "      <td>44918.0</td>\n",
       "      <td>10.712594</td>\n",
       "      <td>8.659560</td>\n",
       "      <td>7.529407</td>\n",
       "      <td>4.723842</td>\n",
       "      <td>0.197877</td>\n",
       "      <td>10.532043</td>\n",
       "    </tr>\n",
       "    <tr>\n",
       "      <th>1</th>\n",
       "      <td>2.300000</td>\n",
       "      <td>11355</td>\n",
       "      <td>101.199997</td>\n",
       "      <td>6601</td>\n",
       "      <td>48722.0</td>\n",
       "      <td>10370</td>\n",
       "      <td>1.300000</td>\n",
       "      <td>91.400002</td>\n",
       "      <td>42.700001</td>\n",
       "      <td>65.300003</td>\n",
       "      <td>59092.0</td>\n",
       "      <td>10.986851</td>\n",
       "      <td>8.794976</td>\n",
       "      <td>9.337414</td>\n",
       "      <td>4.617099</td>\n",
       "      <td>0.212840</td>\n",
       "      <td>10.793886</td>\n",
       "    </tr>\n",
       "    <tr>\n",
       "      <th>2</th>\n",
       "      <td>2.700000</td>\n",
       "      <td>7685</td>\n",
       "      <td>114.000000</td>\n",
       "      <td>6834</td>\n",
       "      <td>44541.0</td>\n",
       "      <td>7313</td>\n",
       "      <td>3.500000</td>\n",
       "      <td>91.400002</td>\n",
       "      <td>43.799999</td>\n",
       "      <td>54.299999</td>\n",
       "      <td>51854.0</td>\n",
       "      <td>10.856188</td>\n",
       "      <td>8.829665</td>\n",
       "      <td>8.947025</td>\n",
       "      <td>4.736198</td>\n",
       "      <td>0.164186</td>\n",
       "      <td>10.704165</td>\n",
       "    </tr>\n",
       "    <tr>\n",
       "      <th>3</th>\n",
       "      <td>3.400000</td>\n",
       "      <td>1148</td>\n",
       "      <td>85.400002</td>\n",
       "      <td>3586</td>\n",
       "      <td>31566.0</td>\n",
       "      <td>5989</td>\n",
       "      <td>3.600000</td>\n",
       "      <td>86.599998</td>\n",
       "      <td>25.299999</td>\n",
       "      <td>60.000000</td>\n",
       "      <td>37555.0</td>\n",
       "      <td>10.533562</td>\n",
       "      <td>8.184793</td>\n",
       "      <td>7.045776</td>\n",
       "      <td>4.447346</td>\n",
       "      <td>0.189729</td>\n",
       "      <td>10.359836</td>\n",
       "    </tr>\n",
       "    <tr>\n",
       "      <th>4</th>\n",
       "      <td>3.400000</td>\n",
       "      <td>1572</td>\n",
       "      <td>96.099998</td>\n",
       "      <td>3847</td>\n",
       "      <td>29781.0</td>\n",
       "      <td>5545</td>\n",
       "      <td>0.000000</td>\n",
       "      <td>100.000000</td>\n",
       "      <td>15.300000</td>\n",
       "      <td>65.800003</td>\n",
       "      <td>35326.0</td>\n",
       "      <td>10.472375</td>\n",
       "      <td>8.255049</td>\n",
       "      <td>7.360104</td>\n",
       "      <td>4.565389</td>\n",
       "      <td>0.186193</td>\n",
       "      <td>10.301626</td>\n",
       "    </tr>\n",
       "    <tr>\n",
       "      <th>...</th>\n",
       "      <td>...</td>\n",
       "      <td>...</td>\n",
       "      <td>...</td>\n",
       "      <td>...</td>\n",
       "      <td>...</td>\n",
       "      <td>...</td>\n",
       "      <td>...</td>\n",
       "      <td>...</td>\n",
       "      <td>...</td>\n",
       "      <td>...</td>\n",
       "      <td>...</td>\n",
       "      <td>...</td>\n",
       "      <td>...</td>\n",
       "      <td>...</td>\n",
       "      <td>...</td>\n",
       "      <td>...</td>\n",
       "      <td>...</td>\n",
       "    </tr>\n",
       "    <tr>\n",
       "      <th>403</th>\n",
       "      <td>60.900002</td>\n",
       "      <td>1689</td>\n",
       "      <td>78.400002</td>\n",
       "      <td>5380</td>\n",
       "      <td>41856.0</td>\n",
       "      <td>9468</td>\n",
       "      <td>35.799999</td>\n",
       "      <td>23.500000</td>\n",
       "      <td>7.000000</td>\n",
       "      <td>11.200000</td>\n",
       "      <td>51324.0</td>\n",
       "      <td>10.845914</td>\n",
       "      <td>8.590444</td>\n",
       "      <td>7.431892</td>\n",
       "      <td>4.361824</td>\n",
       "      <td>0.226204</td>\n",
       "      <td>10.641991</td>\n",
       "    </tr>\n",
       "    <tr>\n",
       "      <th>404</th>\n",
       "      <td>61.099998</td>\n",
       "      <td>2631</td>\n",
       "      <td>100.699997</td>\n",
       "      <td>5088</td>\n",
       "      <td>35020.0</td>\n",
       "      <td>7655</td>\n",
       "      <td>17.500000</td>\n",
       "      <td>61.099998</td>\n",
       "      <td>8.100000</td>\n",
       "      <td>22.700001</td>\n",
       "      <td>42675.0</td>\n",
       "      <td>10.661368</td>\n",
       "      <td>8.534640</td>\n",
       "      <td>7.875119</td>\n",
       "      <td>4.612146</td>\n",
       "      <td>0.218589</td>\n",
       "      <td>10.463675</td>\n",
       "    </tr>\n",
       "    <tr>\n",
       "      <th>405</th>\n",
       "      <td>73.800003</td>\n",
       "      <td>4024</td>\n",
       "      <td>85.199997</td>\n",
       "      <td>3942</td>\n",
       "      <td>32678.0</td>\n",
       "      <td>6220</td>\n",
       "      <td>8.700000</td>\n",
       "      <td>83.300003</td>\n",
       "      <td>11.500000</td>\n",
       "      <td>26.799999</td>\n",
       "      <td>38898.0</td>\n",
       "      <td>10.568698</td>\n",
       "      <td>8.279444</td>\n",
       "      <td>8.300032</td>\n",
       "      <td>4.445002</td>\n",
       "      <td>0.190342</td>\n",
       "      <td>10.394458</td>\n",
       "    </tr>\n",
       "    <tr>\n",
       "      <th>406</th>\n",
       "      <td>74.400002</td>\n",
       "      <td>850</td>\n",
       "      <td>122.400002</td>\n",
       "      <td>5029</td>\n",
       "      <td>29210.0</td>\n",
       "      <td>6513</td>\n",
       "      <td>1.600000</td>\n",
       "      <td>91.900002</td>\n",
       "      <td>9.500000</td>\n",
       "      <td>9.700000</td>\n",
       "      <td>35723.0</td>\n",
       "      <td>10.483550</td>\n",
       "      <td>8.522977</td>\n",
       "      <td>6.745236</td>\n",
       "      <td>4.807294</td>\n",
       "      <td>0.222972</td>\n",
       "      <td>10.282267</td>\n",
       "    </tr>\n",
       "    <tr>\n",
       "      <th>407</th>\n",
       "      <td>79.500000</td>\n",
       "      <td>7585</td>\n",
       "      <td>93.300003</td>\n",
       "      <td>4529</td>\n",
       "      <td>33645.0</td>\n",
       "      <td>7682</td>\n",
       "      <td>22.000000</td>\n",
       "      <td>40.599998</td>\n",
       "      <td>2.700000</td>\n",
       "      <td>7.200000</td>\n",
       "      <td>41327.0</td>\n",
       "      <td>10.629272</td>\n",
       "      <td>8.418257</td>\n",
       "      <td>8.933928</td>\n",
       "      <td>4.535820</td>\n",
       "      <td>0.228325</td>\n",
       "      <td>10.423619</td>\n",
       "    </tr>\n",
       "  </tbody>\n",
       "</table>\n",
       "<p>408 rows × 17 columns</p>\n",
       "</div>"
      ],
      "text/plain": [
       "       lnchprg  enroll       staff  expend   salary  benefits   droprate  \\\n",
       "0     1.400000    1862  112.599998    5765  37498.0      7420   2.900000   \n",
       "1     2.300000   11355  101.199997    6601  48722.0     10370   1.300000   \n",
       "2     2.700000    7685  114.000000    6834  44541.0      7313   3.500000   \n",
       "3     3.400000    1148   85.400002    3586  31566.0      5989   3.600000   \n",
       "4     3.400000    1572   96.099998    3847  29781.0      5545   0.000000   \n",
       "..         ...     ...         ...     ...      ...       ...        ...   \n",
       "403  60.900002    1689   78.400002    5380  41856.0      9468  35.799999   \n",
       "404  61.099998    2631  100.699997    5088  35020.0      7655  17.500000   \n",
       "405  73.800003    4024   85.199997    3942  32678.0      6220   8.700000   \n",
       "406  74.400002     850  122.400002    5029  29210.0      6513   1.600000   \n",
       "407  79.500000    7585   93.300003    4529  33645.0      7682  22.000000   \n",
       "\n",
       "       gradrate     math10      sci11  totcomp   ltotcomp   lexpend   lenroll  \\\n",
       "0     89.199997  56.400002  67.900002  44918.0  10.712594  8.659560  7.529407   \n",
       "1     91.400002  42.700001  65.300003  59092.0  10.986851  8.794976  9.337414   \n",
       "2     91.400002  43.799999  54.299999  51854.0  10.856188  8.829665  8.947025   \n",
       "3     86.599998  25.299999  60.000000  37555.0  10.533562  8.184793  7.045776   \n",
       "4    100.000000  15.300000  65.800003  35326.0  10.472375  8.255049  7.360104   \n",
       "..          ...        ...        ...      ...        ...       ...       ...   \n",
       "403   23.500000   7.000000  11.200000  51324.0  10.845914  8.590444  7.431892   \n",
       "404   61.099998   8.100000  22.700001  42675.0  10.661368  8.534640  7.875119   \n",
       "405   83.300003  11.500000  26.799999  38898.0  10.568698  8.279444  8.300032   \n",
       "406   91.900002   9.500000   9.700000  35723.0  10.483550  8.522977  6.745236   \n",
       "407   40.599998   2.700000   7.200000  41327.0  10.629272  8.418257  8.933928   \n",
       "\n",
       "       lstaff    bensal    lsalary  \n",
       "0    4.723842  0.197877  10.532043  \n",
       "1    4.617099  0.212840  10.793886  \n",
       "2    4.736198  0.164186  10.704165  \n",
       "3    4.447346  0.189729  10.359836  \n",
       "4    4.565389  0.186193  10.301626  \n",
       "..        ...       ...        ...  \n",
       "403  4.361824  0.226204  10.641991  \n",
       "404  4.612146  0.218589  10.463675  \n",
       "405  4.445002  0.190342  10.394458  \n",
       "406  4.807294  0.222972  10.282267  \n",
       "407  4.535820  0.228325  10.423619  \n",
       "\n",
       "[408 rows x 17 columns]"
      ]
     },
     "execution_count": 58,
     "metadata": {},
     "output_type": "execute_result"
    }
   ],
   "source": [
    "df = wooldridge.data('meap93')\n",
    "df"
   ]
  },
  {
   "cell_type": "markdown",
   "id": "fd8aba67",
   "metadata": {},
   "source": [
    "<p id=\"model\"><b>1.A</b></p>\n",
    "Estimate the model $math10 = \\beta_0 + \\beta_1*log(expend) + \\beta_2*lnchprg + u$, and report the results in the usual form, including the sample size and $\\bf{R}$-squared. Are the signs of the slope coefficients what you expected? Explain."
   ]
  },
  {
   "cell_type": "code",
   "execution_count": 73,
   "id": "d2890fec",
   "metadata": {},
   "outputs": [],
   "source": [
    "model = smf.ols(formula=\"math10~np.log(expend)+lnchprg\",data=df)"
   ]
  },
  {
   "cell_type": "code",
   "execution_count": 74,
   "id": "dc374601",
   "metadata": {},
   "outputs": [],
   "source": [
    "res=model.fit()"
   ]
  },
  {
   "cell_type": "code",
   "execution_count": 75,
   "id": "630e38ef",
   "metadata": {},
   "outputs": [
    {
     "name": "stdout",
     "output_type": "stream",
     "text": [
      "                            OLS Regression Results                            \n",
      "==============================================================================\n",
      "Dep. Variable:                 math10   R-squared:                       0.180\n",
      "Model:                            OLS   Adj. R-squared:                  0.176\n",
      "Method:                 Least Squares   F-statistic:                     44.43\n",
      "Date:                Sat, 21 Jun 2025   Prob (F-statistic):           3.59e-18\n",
      "Time:                        16:39:57   Log-Likelihood:                -1497.1\n",
      "No. Observations:                 408   AIC:                             3000.\n",
      "Df Residuals:                     405   BIC:                             3012.\n",
      "Df Model:                           2                                         \n",
      "Covariance Type:            nonrobust                                         \n",
      "==================================================================================\n",
      "                     coef    std err          t      P>|t|      [0.025      0.975]\n",
      "----------------------------------------------------------------------------------\n",
      "Intercept        -20.3608     25.073     -0.812      0.417     -69.650      28.928\n",
      "np.log(expend)     6.2297      2.973      2.096      0.037       0.386      12.073\n",
      "lnchprg           -0.3046      0.035     -8.614      0.000      -0.374      -0.235\n",
      "==============================================================================\n",
      "Omnibus:                       52.915   Durbin-Watson:                   1.903\n",
      "Prob(Omnibus):                  0.000   Jarque-Bera (JB):               83.720\n",
      "Skew:                           0.816   Prob(JB):                     6.61e-19\n",
      "Kurtosis:                       4.504   Cond. No.                     1.58e+03\n",
      "==============================================================================\n",
      "\n",
      "Notes:\n",
      "[1] Standard Errors assume that the covariance matrix of the errors is correctly specified.\n",
      "[2] The condition number is large, 1.58e+03. This might indicate that there are\n",
      "strong multicollinearity or other numerical problems.\n"
     ]
    }
   ],
   "source": [
    "print(res.summary())"
   ]
  },
  {
   "cell_type": "markdown",
   "id": "427e9d80",
   "metadata": {},
   "source": [
    "<p id=\"intercept\"><b>1.B</b></p>\n",
    "What do you make of the intercept you estimated in part (i)? In particular, does it make sense to set the two explanatory variables to zero?"
   ]
  },
  {
   "cell_type": "code",
   "execution_count": 69,
   "id": "3b30041e",
   "metadata": {},
   "outputs": [
    {
     "name": "stdout",
     "output_type": "stream",
     "text": [
      " Intercept of model is -20.361\n"
     ]
    }
   ],
   "source": [
    "print(f\" Intercept of model is {res.params[0].round(3)}\")"
   ]
  },
  {
   "cell_type": "markdown",
   "id": "ba326a93",
   "metadata": {},
   "source": [
    "<p id=\"compare\"><b>1.c</b></p>\n",
    "Now run the simple regression of $math10$ on $log(expend)$, and compare the slope coefficient with the estimate obtained in part (i). Is the estimated spending effect now larger or smaller than in part (i)?"
   ]
  },
  {
   "cell_type": "code",
   "execution_count": 76,
   "id": "1689fe8b",
   "metadata": {},
   "outputs": [],
   "source": [
    "model_two = smf.ols(formula=\"math10~np.log(expend)\",data=df)\n",
    "res_two = model_two.fit()"
   ]
  },
  {
   "cell_type": "code",
   "execution_count": 77,
   "id": "3d7fbb63",
   "metadata": {},
   "outputs": [
    {
     "name": "stdout",
     "output_type": "stream",
     "text": [
      "Slope coefficient in second model is 11.164\n"
     ]
    }
   ],
   "source": [
    "print(f\"Slope coefficient in second model is {res_two.params[1].round(3)}\")"
   ]
  },
  {
   "cell_type": "code",
   "execution_count": 78,
   "id": "f668f54f",
   "metadata": {},
   "outputs": [
    {
     "name": "stdout",
     "output_type": "stream",
     "text": [
      "Slope coefficient in first model is 6.23\n"
     ]
    }
   ],
   "source": [
    "print(f\"Slope coefficient in first model is {res.params[1].round(3)}\")"
   ]
  },
  {
   "cell_type": "markdown",
   "id": "3941275e",
   "metadata": {},
   "source": [
    "<p id=\"correlation\"><b>1.D</b></p>\n",
    "Find the correlation between $lexpend = log(expend)$ and $lnchprg$. Does its sign make sense to you?"
   ]
  },
  {
   "cell_type": "code",
   "execution_count": 81,
   "id": "ffa4d20b",
   "metadata": {},
   "outputs": [],
   "source": [
    "lexpend = np.array(np.log(df.expend)) # Получим массив логарифма от expend\n",
    "lnchprg = np.array(df.lnchprg)"
   ]
  },
  {
   "cell_type": "code",
   "execution_count": 86,
   "id": "596dae19",
   "metadata": {},
   "outputs": [
    {
     "name": "stdout",
     "output_type": "stream",
     "text": [
      "the correlation between lexpend and lnchprg is \n",
      " [[ 1.         -0.19270422]\n",
      " [-0.19270422  1.        ]]\n"
     ]
    }
   ],
   "source": [
    "print(f\"the correlation between lexpend and lnchprg is \\n {np.corrcoef(lexpend,lnchprg)}\")"
   ]
  },
  {
   "cell_type": "code",
   "execution_count": null,
   "id": "c9aeec54",
   "metadata": {},
   "outputs": [],
   "source": []
  }
 ],
 "metadata": {
  "kernelspec": {
   "display_name": "Python 3 (ipykernel)",
   "language": "python",
   "name": "python3"
  },
  "language_info": {
   "codemirror_mode": {
    "name": "ipython",
    "version": 3
   },
   "file_extension": ".py",
   "mimetype": "text/x-python",
   "name": "python",
   "nbconvert_exporter": "python",
   "pygments_lexer": "ipython3",
   "version": "3.8.8"
  }
 },
 "nbformat": 4,
 "nbformat_minor": 5
}
