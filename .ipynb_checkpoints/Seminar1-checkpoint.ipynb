{
 "cells": [
  {
   "cell_type": "markdown",
   "id": "ded2b1d5",
   "metadata": {},
   "source": [
    "# Econometrics seminar"
   ]
  },
  {
   "cell_type": "markdown",
   "id": "a028dc39",
   "metadata": {},
   "source": [
    "### Wooldridge\n",
    "We are gonno need Data sets from wooldridge. [Click here](https://pypi.org/project/wooldridge/) to get manual to install"
   ]
  },
  {
   "cell_type": "code",
   "execution_count": 10,
   "id": "1dcfef35",
   "metadata": {},
   "outputs": [],
   "source": [
    "import numpy as np\n",
    "import matplotlib.pyplot as plt"
   ]
  },
  {
   "cell_type": "code",
   "execution_count": 13,
   "id": "4e8945b6",
   "metadata": {},
   "outputs": [
    {
     "name": "stdout",
     "output_type": "stream",
     "text": [
      "  J.M. Wooldridge (2019) Introductory Econometrics: A Modern Approach,\n",
      "  Cengage Learning, 6th edition.\n",
      "\n",
      "  401k       401ksubs    admnrev       affairs     airfare\n",
      "  alcohol    apple       approval      athlet1     athlet2\n",
      "  attend     audit       barium        beauty      benefits\n",
      "  beveridge  big9salary  bwght         bwght2      campus\n",
      "  card       catholic    cement        census2000  ceosal1\n",
      "  ceosal2    charity     consump       corn        countymurders\n",
      "  cps78_85   cps91       crime1        crime2      crime3\n",
      "  crime4     discrim     driving       earns       econmath\n",
      "  elem94_95  engin       expendshares  ezanders    ezunem\n",
      "  fair       fertil1     fertil2       fertil3     fish\n",
      "  fringe     gpa1        gpa2          gpa3        happiness\n",
      "  hprice1    hprice2     hprice3       hseinv      htv\n",
      "  infmrt     injury      intdef        intqrt      inven\n",
      "  jtrain     jtrain2     jtrain3       kielmc      lawsch85\n",
      "  loanapp    lowbrth     mathpnl       meap00_01   meap01\n",
      "  meap93     meapsingle  minwage       mlb1        mroz\n",
      "  murder     nbasal      nyse          okun        openness\n",
      "  pension    phillips    pntsprd       prison      prminwge\n",
      "  rdchem     rdtelec     recid         rental      return\n",
      "  saving     sleep75     slp75_81      smoke       traffic1\n",
      "  traffic2   twoyear     volat         vote1       vote2\n",
      "  voucher    wage1       wage2         wagepan     wageprc\n",
      "  wine\n"
     ]
    }
   ],
   "source": [
    "wooldridge.data()"
   ]
  },
  {
   "cell_type": "code",
   "execution_count": 11,
   "id": "e1021b40",
   "metadata": {},
   "outputs": [],
   "source": [
    "import wooldridge"
   ]
  },
  {
   "cell_type": "markdown",
   "id": "fb26621a",
   "metadata": {},
   "source": [
    "1. Use the data in [WAGE1.RAW](#get_wage1) for this exercise.\n",
    "\n",
    "    1. Find the [average education](#average) level in the sample. [What are the lowest and highest years of education?](#max_min)\n",
    "    2. [Find the average hourly wage in the sample](#av_hour_wage). Does it seem high or low?\n",
    "    3. The wage data are reported in 1976 dollars. Using the Economic Report of the President (2011 or later), obtain and report the Consumer Price Index (CPI) for the years 1976 and 2010.\n",
    "    4. Use the CPI values from part (iii) to find the average hourly wage in 2010 dollars. Now does the average hourly wage seem reasonable? How many women are in the sample? How many men?\n"
   ]
  },
  {
   "cell_type": "markdown",
   "id": "4b7d19e8",
   "metadata": {},
   "source": [
    "<p id=\"get_wage1\">Downloadin WAGE1 data.</p>"
   ]
  },
  {
   "cell_type": "code",
   "execution_count": 41,
   "id": "8f54178b",
   "metadata": {},
   "outputs": [
    {
     "name": "stdout",
     "output_type": "stream",
     "text": [
      "<class 'pandas.core.frame.DataFrame'>\n",
      "RangeIndex: 753 entries, 0 to 752\n",
      "Data columns (total 22 columns):\n",
      " #   Column    Non-Null Count  Dtype  \n",
      "---  ------    --------------  -----  \n",
      " 0   inlf      753 non-null    int64  \n",
      " 1   hours     753 non-null    int64  \n",
      " 2   kidslt6   753 non-null    int64  \n",
      " 3   kidsge6   753 non-null    int64  \n",
      " 4   age       753 non-null    int64  \n",
      " 5   educ      753 non-null    int64  \n",
      " 6   wage      428 non-null    float64\n",
      " 7   repwage   753 non-null    float64\n",
      " 8   hushrs    753 non-null    int64  \n",
      " 9   husage    753 non-null    int64  \n",
      " 10  huseduc   753 non-null    int64  \n",
      " 11  huswage   753 non-null    float64\n",
      " 12  faminc    753 non-null    float64\n",
      " 13  mtr       753 non-null    float64\n",
      " 14  motheduc  753 non-null    int64  \n",
      " 15  fatheduc  753 non-null    int64  \n",
      " 16  unem      753 non-null    float64\n",
      " 17  city      753 non-null    int64  \n",
      " 18  exper     753 non-null    int64  \n",
      " 19  nwifeinc  753 non-null    float64\n",
      " 20  lwage     428 non-null    float64\n",
      " 21  expersq   753 non-null    int64  \n",
      "dtypes: float64(8), int64(14)\n",
      "memory usage: 129.5 KB\n"
     ]
    }
   ],
   "source": [
    "df = wooldridge.data('mroz')\n",
    "df.info()"
   ]
  },
  {
   "cell_type": "code",
   "execution_count": 59,
   "id": "d8ce667d",
   "metadata": {},
   "outputs": [
    {
     "data": {
      "text/html": [
       "<div>\n",
       "<style scoped>\n",
       "    .dataframe tbody tr th:only-of-type {\n",
       "        vertical-align: middle;\n",
       "    }\n",
       "\n",
       "    .dataframe tbody tr th {\n",
       "        vertical-align: top;\n",
       "    }\n",
       "\n",
       "    .dataframe thead th {\n",
       "        text-align: right;\n",
       "    }\n",
       "</style>\n",
       "<table border=\"1\" class=\"dataframe\">\n",
       "  <thead>\n",
       "    <tr style=\"text-align: right;\">\n",
       "      <th></th>\n",
       "      <th>inlf</th>\n",
       "      <th>hours</th>\n",
       "      <th>kidslt6</th>\n",
       "      <th>kidsge6</th>\n",
       "      <th>age</th>\n",
       "      <th>educ</th>\n",
       "      <th>wage</th>\n",
       "      <th>repwage</th>\n",
       "      <th>hushrs</th>\n",
       "      <th>husage</th>\n",
       "      <th>...</th>\n",
       "      <th>faminc</th>\n",
       "      <th>mtr</th>\n",
       "      <th>motheduc</th>\n",
       "      <th>fatheduc</th>\n",
       "      <th>unem</th>\n",
       "      <th>city</th>\n",
       "      <th>exper</th>\n",
       "      <th>nwifeinc</th>\n",
       "      <th>lwage</th>\n",
       "      <th>expersq</th>\n",
       "    </tr>\n",
       "  </thead>\n",
       "  <tbody>\n",
       "    <tr>\n",
       "      <th>0</th>\n",
       "      <td>1</td>\n",
       "      <td>1610</td>\n",
       "      <td>1</td>\n",
       "      <td>0</td>\n",
       "      <td>32</td>\n",
       "      <td>12</td>\n",
       "      <td>3.3540</td>\n",
       "      <td>2.65</td>\n",
       "      <td>2708</td>\n",
       "      <td>34</td>\n",
       "      <td>...</td>\n",
       "      <td>16310.0</td>\n",
       "      <td>0.7215</td>\n",
       "      <td>12</td>\n",
       "      <td>7</td>\n",
       "      <td>5.0</td>\n",
       "      <td>0</td>\n",
       "      <td>14</td>\n",
       "      <td>10.910060</td>\n",
       "      <td>1.210154</td>\n",
       "      <td>196</td>\n",
       "    </tr>\n",
       "    <tr>\n",
       "      <th>1</th>\n",
       "      <td>1</td>\n",
       "      <td>1656</td>\n",
       "      <td>0</td>\n",
       "      <td>2</td>\n",
       "      <td>30</td>\n",
       "      <td>12</td>\n",
       "      <td>1.3889</td>\n",
       "      <td>2.65</td>\n",
       "      <td>2310</td>\n",
       "      <td>30</td>\n",
       "      <td>...</td>\n",
       "      <td>21800.0</td>\n",
       "      <td>0.6615</td>\n",
       "      <td>7</td>\n",
       "      <td>7</td>\n",
       "      <td>11.0</td>\n",
       "      <td>1</td>\n",
       "      <td>5</td>\n",
       "      <td>19.499981</td>\n",
       "      <td>0.328512</td>\n",
       "      <td>25</td>\n",
       "    </tr>\n",
       "    <tr>\n",
       "      <th>2</th>\n",
       "      <td>1</td>\n",
       "      <td>1980</td>\n",
       "      <td>1</td>\n",
       "      <td>3</td>\n",
       "      <td>35</td>\n",
       "      <td>12</td>\n",
       "      <td>4.5455</td>\n",
       "      <td>4.04</td>\n",
       "      <td>3072</td>\n",
       "      <td>40</td>\n",
       "      <td>...</td>\n",
       "      <td>21040.0</td>\n",
       "      <td>0.6915</td>\n",
       "      <td>12</td>\n",
       "      <td>7</td>\n",
       "      <td>5.0</td>\n",
       "      <td>0</td>\n",
       "      <td>15</td>\n",
       "      <td>12.039910</td>\n",
       "      <td>1.514138</td>\n",
       "      <td>225</td>\n",
       "    </tr>\n",
       "    <tr>\n",
       "      <th>3</th>\n",
       "      <td>1</td>\n",
       "      <td>456</td>\n",
       "      <td>0</td>\n",
       "      <td>3</td>\n",
       "      <td>34</td>\n",
       "      <td>12</td>\n",
       "      <td>1.0965</td>\n",
       "      <td>3.25</td>\n",
       "      <td>1920</td>\n",
       "      <td>53</td>\n",
       "      <td>...</td>\n",
       "      <td>7300.0</td>\n",
       "      <td>0.7815</td>\n",
       "      <td>7</td>\n",
       "      <td>7</td>\n",
       "      <td>5.0</td>\n",
       "      <td>0</td>\n",
       "      <td>6</td>\n",
       "      <td>6.799996</td>\n",
       "      <td>0.092123</td>\n",
       "      <td>36</td>\n",
       "    </tr>\n",
       "    <tr>\n",
       "      <th>4</th>\n",
       "      <td>1</td>\n",
       "      <td>1568</td>\n",
       "      <td>1</td>\n",
       "      <td>2</td>\n",
       "      <td>31</td>\n",
       "      <td>14</td>\n",
       "      <td>4.5918</td>\n",
       "      <td>3.60</td>\n",
       "      <td>2000</td>\n",
       "      <td>32</td>\n",
       "      <td>...</td>\n",
       "      <td>27300.0</td>\n",
       "      <td>0.6215</td>\n",
       "      <td>12</td>\n",
       "      <td>14</td>\n",
       "      <td>9.5</td>\n",
       "      <td>1</td>\n",
       "      <td>7</td>\n",
       "      <td>20.100058</td>\n",
       "      <td>1.524272</td>\n",
       "      <td>49</td>\n",
       "    </tr>\n",
       "    <tr>\n",
       "      <th>...</th>\n",
       "      <td>...</td>\n",
       "      <td>...</td>\n",
       "      <td>...</td>\n",
       "      <td>...</td>\n",
       "      <td>...</td>\n",
       "      <td>...</td>\n",
       "      <td>...</td>\n",
       "      <td>...</td>\n",
       "      <td>...</td>\n",
       "      <td>...</td>\n",
       "      <td>...</td>\n",
       "      <td>...</td>\n",
       "      <td>...</td>\n",
       "      <td>...</td>\n",
       "      <td>...</td>\n",
       "      <td>...</td>\n",
       "      <td>...</td>\n",
       "      <td>...</td>\n",
       "      <td>...</td>\n",
       "      <td>...</td>\n",
       "      <td>...</td>\n",
       "    </tr>\n",
       "    <tr>\n",
       "      <th>748</th>\n",
       "      <td>0</td>\n",
       "      <td>0</td>\n",
       "      <td>0</td>\n",
       "      <td>2</td>\n",
       "      <td>40</td>\n",
       "      <td>13</td>\n",
       "      <td>NaN</td>\n",
       "      <td>0.00</td>\n",
       "      <td>3020</td>\n",
       "      <td>43</td>\n",
       "      <td>...</td>\n",
       "      <td>28200.0</td>\n",
       "      <td>0.6215</td>\n",
       "      <td>10</td>\n",
       "      <td>10</td>\n",
       "      <td>9.5</td>\n",
       "      <td>1</td>\n",
       "      <td>5</td>\n",
       "      <td>28.200001</td>\n",
       "      <td>NaN</td>\n",
       "      <td>25</td>\n",
       "    </tr>\n",
       "    <tr>\n",
       "      <th>749</th>\n",
       "      <td>0</td>\n",
       "      <td>0</td>\n",
       "      <td>2</td>\n",
       "      <td>3</td>\n",
       "      <td>31</td>\n",
       "      <td>12</td>\n",
       "      <td>NaN</td>\n",
       "      <td>0.00</td>\n",
       "      <td>2056</td>\n",
       "      <td>33</td>\n",
       "      <td>...</td>\n",
       "      <td>10000.0</td>\n",
       "      <td>0.7715</td>\n",
       "      <td>12</td>\n",
       "      <td>12</td>\n",
       "      <td>7.5</td>\n",
       "      <td>0</td>\n",
       "      <td>14</td>\n",
       "      <td>10.000000</td>\n",
       "      <td>NaN</td>\n",
       "      <td>196</td>\n",
       "    </tr>\n",
       "    <tr>\n",
       "      <th>750</th>\n",
       "      <td>0</td>\n",
       "      <td>0</td>\n",
       "      <td>0</td>\n",
       "      <td>0</td>\n",
       "      <td>43</td>\n",
       "      <td>12</td>\n",
       "      <td>NaN</td>\n",
       "      <td>0.00</td>\n",
       "      <td>2383</td>\n",
       "      <td>43</td>\n",
       "      <td>...</td>\n",
       "      <td>9952.0</td>\n",
       "      <td>0.7515</td>\n",
       "      <td>10</td>\n",
       "      <td>3</td>\n",
       "      <td>7.5</td>\n",
       "      <td>0</td>\n",
       "      <td>4</td>\n",
       "      <td>9.952000</td>\n",
       "      <td>NaN</td>\n",
       "      <td>16</td>\n",
       "    </tr>\n",
       "    <tr>\n",
       "      <th>751</th>\n",
       "      <td>0</td>\n",
       "      <td>0</td>\n",
       "      <td>0</td>\n",
       "      <td>0</td>\n",
       "      <td>60</td>\n",
       "      <td>12</td>\n",
       "      <td>NaN</td>\n",
       "      <td>0.00</td>\n",
       "      <td>1705</td>\n",
       "      <td>55</td>\n",
       "      <td>...</td>\n",
       "      <td>24984.0</td>\n",
       "      <td>0.6215</td>\n",
       "      <td>12</td>\n",
       "      <td>12</td>\n",
       "      <td>14.0</td>\n",
       "      <td>1</td>\n",
       "      <td>15</td>\n",
       "      <td>24.983999</td>\n",
       "      <td>NaN</td>\n",
       "      <td>225</td>\n",
       "    </tr>\n",
       "    <tr>\n",
       "      <th>752</th>\n",
       "      <td>0</td>\n",
       "      <td>0</td>\n",
       "      <td>0</td>\n",
       "      <td>3</td>\n",
       "      <td>39</td>\n",
       "      <td>9</td>\n",
       "      <td>NaN</td>\n",
       "      <td>0.00</td>\n",
       "      <td>3120</td>\n",
       "      <td>48</td>\n",
       "      <td>...</td>\n",
       "      <td>28363.0</td>\n",
       "      <td>0.6915</td>\n",
       "      <td>7</td>\n",
       "      <td>7</td>\n",
       "      <td>11.0</td>\n",
       "      <td>1</td>\n",
       "      <td>12</td>\n",
       "      <td>28.363001</td>\n",
       "      <td>NaN</td>\n",
       "      <td>144</td>\n",
       "    </tr>\n",
       "  </tbody>\n",
       "</table>\n",
       "<p>753 rows × 22 columns</p>\n",
       "</div>"
      ],
      "text/plain": [
       "     inlf  hours  kidslt6  kidsge6  age  educ    wage  repwage  hushrs  \\\n",
       "0       1   1610        1        0   32    12  3.3540     2.65    2708   \n",
       "1       1   1656        0        2   30    12  1.3889     2.65    2310   \n",
       "2       1   1980        1        3   35    12  4.5455     4.04    3072   \n",
       "3       1    456        0        3   34    12  1.0965     3.25    1920   \n",
       "4       1   1568        1        2   31    14  4.5918     3.60    2000   \n",
       "..    ...    ...      ...      ...  ...   ...     ...      ...     ...   \n",
       "748     0      0        0        2   40    13     NaN     0.00    3020   \n",
       "749     0      0        2        3   31    12     NaN     0.00    2056   \n",
       "750     0      0        0        0   43    12     NaN     0.00    2383   \n",
       "751     0      0        0        0   60    12     NaN     0.00    1705   \n",
       "752     0      0        0        3   39     9     NaN     0.00    3120   \n",
       "\n",
       "     husage  ...   faminc     mtr  motheduc  fatheduc  unem  city  exper  \\\n",
       "0        34  ...  16310.0  0.7215        12         7   5.0     0     14   \n",
       "1        30  ...  21800.0  0.6615         7         7  11.0     1      5   \n",
       "2        40  ...  21040.0  0.6915        12         7   5.0     0     15   \n",
       "3        53  ...   7300.0  0.7815         7         7   5.0     0      6   \n",
       "4        32  ...  27300.0  0.6215        12        14   9.5     1      7   \n",
       "..      ...  ...      ...     ...       ...       ...   ...   ...    ...   \n",
       "748      43  ...  28200.0  0.6215        10        10   9.5     1      5   \n",
       "749      33  ...  10000.0  0.7715        12        12   7.5     0     14   \n",
       "750      43  ...   9952.0  0.7515        10         3   7.5     0      4   \n",
       "751      55  ...  24984.0  0.6215        12        12  14.0     1     15   \n",
       "752      48  ...  28363.0  0.6915         7         7  11.0     1     12   \n",
       "\n",
       "      nwifeinc     lwage  expersq  \n",
       "0    10.910060  1.210154      196  \n",
       "1    19.499981  0.328512       25  \n",
       "2    12.039910  1.514138      225  \n",
       "3     6.799996  0.092123       36  \n",
       "4    20.100058  1.524272       49  \n",
       "..         ...       ...      ...  \n",
       "748  28.200001       NaN       25  \n",
       "749  10.000000       NaN      196  \n",
       "750   9.952000       NaN       16  \n",
       "751  24.983999       NaN      225  \n",
       "752  28.363001       NaN      144  \n",
       "\n",
       "[753 rows x 22 columns]"
      ]
     },
     "execution_count": 59,
     "metadata": {},
     "output_type": "execute_result"
    }
   ],
   "source": [
    "df"
   ]
  },
  {
   "cell_type": "markdown",
   "id": "f91f193f",
   "metadata": {},
   "source": [
    "<p id=\"average\"><b>1.A</b></p>"
   ]
  },
  {
   "cell_type": "code",
   "execution_count": 40,
   "id": "d45ea21a",
   "metadata": {},
   "outputs": [
    {
     "data": {
      "text/plain": [
       "count    753.000000\n",
       "mean      12.286853\n",
       "std        2.280246\n",
       "min        5.000000\n",
       "25%       12.000000\n",
       "50%       12.000000\n",
       "75%       13.000000\n",
       "max       17.000000\n",
       "Name: educ, dtype: float64"
      ]
     },
     "execution_count": 40,
     "metadata": {},
     "output_type": "execute_result"
    }
   ],
   "source": [
    "df.educ.describe()"
   ]
  },
  {
   "cell_type": "code",
   "execution_count": 60,
   "id": "0d185561",
   "metadata": {},
   "outputs": [
    {
     "name": "stdout",
     "output_type": "stream",
     "text": [
      "Lowest year of education:5\n"
     ]
    }
   ],
   "source": [
    "print(f\"Lowest year of education:{df.educ.min()}\")"
   ]
  },
  {
   "cell_type": "code",
   "execution_count": 61,
   "id": "7ad68bb9",
   "metadata": {},
   "outputs": [
    {
     "name": "stdout",
     "output_type": "stream",
     "text": [
      "Highest year of education:17\n"
     ]
    }
   ],
   "source": [
    "print(f\"Highest year of education:{df.educ.max()}\")"
   ]
  },
  {
   "cell_type": "markdown",
   "id": "91abdbbf",
   "metadata": {},
   "source": [
    "<p id=\"\"av_hour_wage\"\"><b>1.B</b></p>"
   ]
  },
  {
   "cell_type": "code",
   "execution_count": 62,
   "id": "3361f81e",
   "metadata": {},
   "outputs": [
    {
     "name": "stdout",
     "output_type": "stream",
     "text": [
      "The average hourly wage in the sample.: 4.18\n"
     ]
    }
   ],
   "source": [
    "print(f\"The average hourly wage in the sample.: {df.wage.mean().round(2)}\")"
   ]
  },
  {
   "cell_type": "markdown",
   "id": "ac404700",
   "metadata": {},
   "source": [
    "2. Use the data in BWGHT.RAW to answer this question\n",
    "    1. How many women are in the sample, and how many report smoking during pregnancy?\n",
    "    2. What is the average number of cigarettes smoked per day? Is the average a good measure of the “typical” woman in this case? Explain.\n",
    "    3. Among women who smoked during pregnancy, what is the average numberof cigarettes smoked per day? How does this compare with your answer frompart (ii), and why?\n",
    "    4. Find the average of fatheduc in the sample. Why are only 1,192 observations used to compute this average?\n",
    "    5. Report the average family income and its standard deviation in dollars. \n",
    "\n"
   ]
  },
  {
   "cell_type": "code",
   "execution_count": null,
   "id": "494ad98f",
   "metadata": {},
   "outputs": [],
   "source": []
  },
  {
   "cell_type": "markdown",
   "id": "648e1f36",
   "metadata": {},
   "source": [
    "3. The data in MEAP01.RAW are for the state of Michigan in the year 2001. Use these data data to answer the following questions.\n",
    "    1. Find the largest and smallest values of math4. Does the range make sense? Explain.\n",
    "    2. How many schools have a perfect pass rate on the math test? What percentage is this of the total sample?\n",
    "    3. How many schools have math pass rates of exactly 50%?\n",
    "    4. Compare the average pass rates for the math and reading scores. Which test is harder to pass?\n",
    "    5. Find the correlation between math4 and read4. What do you conclude?\n",
    "    6. The variable exppp is expenditure per pupil. Find the average of exppp alongwith its standard deviation. Would you say there is wide variation in per pupil spending?\n",
    "    7. Suppose School A spends $\\$6,000$ per student and School B spends $\\$5,500$ per student. By what percentage does School A’s spending exceed School B’s? Com- pare this to $100\\cdot [\\log(6,000) – \\log(5,500)]$, which is the approximation percent- age difference based on the difference in the natural logs. (See Section A.4 in Appendix A.)\n"
   ]
  },
  {
   "cell_type": "markdown",
   "id": "1ca7ae7d",
   "metadata": {},
   "source": [
    "4. The data in JTRAIN2.RAW come from a job training experiment conducted for low- income men during $1976–1977$; see Lalonde $(1986)$.\n",
    "    1. Use the indicator variable train to determine the fraction of men receiving job training.\n",
    "    2. The variable re78 is earnings from $1978$, measured in thousands of $1982$ dollars. Find the averages of re78 for the sample of men receiving job training and the sample not receiving job training. Is the difference economically large?\n",
    "    3. The variable unem78 is an indicator of whether a man is unemployed or not in $1978$. What fraction of the men who received job training are unemployed? What about for men who did not receive job training? Comment on the difference.\n",
    "    4. From parts (ii) and (iii), does it appear that the job training program was effective? What would make our conclusions more convincing?\n",
    "\n"
   ]
  },
  {
   "cell_type": "markdown",
   "id": "760f5cf0",
   "metadata": {},
   "source": [
    "5. The data in FERTIL2.DTA were collected on women living in the Republic of Botswana in $1988$. The variable children refers to the number of living children. The variable electric is a binary indicator equal to one if the woman’s home has electricity, and zero if not.\n",
    "    1. Find the smallest and largest values of children in the sample. What is the average of children?\n",
    "    2. What percentage of women have electricity in the home?\n",
    "    3. Compute the average of children for those without electricity and do the same for those with electricity. Comment on what you find.\n",
    "    4. From part (iii), can you infer that having electricity “causes” women to have fewer children? Explain."
   ]
  },
  {
   "cell_type": "markdown",
   "id": "115f85a2",
   "metadata": {},
   "source": [
    "<p id=\"detailed-explanation\">Обратите внимание, это важно.</p>\n"
   ]
  },
  {
   "cell_type": "code",
   "execution_count": null,
   "id": "04ac8771",
   "metadata": {},
   "outputs": [],
   "source": []
  }
 ],
 "metadata": {
  "kernelspec": {
   "display_name": "Python 3 (ipykernel)",
   "language": "python",
   "name": "python3"
  },
  "language_info": {
   "codemirror_mode": {
    "name": "ipython",
    "version": 3
   },
   "file_extension": ".py",
   "mimetype": "text/x-python",
   "name": "python",
   "nbconvert_exporter": "python",
   "pygments_lexer": "ipython3",
   "version": "3.8.8"
  }
 },
 "nbformat": 4,
 "nbformat_minor": 5
}
