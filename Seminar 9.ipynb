{
 "cells": [
  {
   "cell_type": "markdown",
   "id": "d3c5d46d",
   "metadata": {},
   "source": [
    "# Econometrics seminar № 9"
   ]
  },
  {
   "cell_type": "code",
   "execution_count": 2,
   "id": "d559e79b",
   "metadata": {},
   "outputs": [],
   "source": [
    "import numpy as np # библиотека для работы со статистическиим данными\n",
    "import matplotlib.pyplot as plt # библиотека для отображения графиков\n",
    "\n",
    "\n",
    "import statsmodels.formula.api as smf # для построения регрессий\n",
    "import wooldridge # для работы с датасетами\n",
    "\n",
    "from scipy import stats as st # для работы с статистическими таблицами"
   ]
  },
  {
   "cell_type": "code",
   "execution_count": 3,
   "id": "f085479b",
   "metadata": {},
   "outputs": [
    {
     "name": "stdout",
     "output_type": "stream",
     "text": [
      "  J.M. Wooldridge (2019) Introductory Econometrics: A Modern Approach,\n",
      "  Cengage Learning, 6th edition.\n",
      "\n",
      "  401k       401ksubs    admnrev       affairs     airfare\n",
      "  alcohol    apple       approval      athlet1     athlet2\n",
      "  attend     audit       barium        beauty      benefits\n",
      "  beveridge  big9salary  bwght         bwght2      campus\n",
      "  card       catholic    cement        census2000  ceosal1\n",
      "  ceosal2    charity     consump       corn        countymurders\n",
      "  cps78_85   cps91       crime1        crime2      crime3\n",
      "  crime4     discrim     driving       earns       econmath\n",
      "  elem94_95  engin       expendshares  ezanders    ezunem\n",
      "  fair       fertil1     fertil2       fertil3     fish\n",
      "  fringe     gpa1        gpa2          gpa3        happiness\n",
      "  hprice1    hprice2     hprice3       hseinv      htv\n",
      "  infmrt     injury      intdef        intqrt      inven\n",
      "  jtrain     jtrain2     jtrain3       kielmc      lawsch85\n",
      "  loanapp    lowbrth     mathpnl       meap00_01   meap01\n",
      "  meap93     meapsingle  minwage       mlb1        mroz\n",
      "  murder     nbasal      nyse          okun        openness\n",
      "  pension    phillips    pntsprd       prison      prminwge\n",
      "  rdchem     rdtelec     recid         rental      return\n",
      "  saving     sleep75     slp75_81      smoke       traffic1\n",
      "  traffic2   twoyear     volat         vote1       vote2\n",
      "  voucher    wage1       wage2         wagepan     wageprc\n",
      "  wine\n"
     ]
    }
   ],
   "source": [
    "wooldridge.data()"
   ]
  },
  {
   "cell_type": "markdown",
   "id": "c7f4d59c",
   "metadata": {},
   "source": [
    "# C3"
   ]
  },
  {
   "cell_type": "markdown",
   "id": "b59e70d2",
   "metadata": {},
   "source": [
    "Use the data from JTRAIN.RWA for this exercise.\n",
    "1. Consider the simple regression model\n",
    "$log(scrap) = \\beta_0 + \\beta_1*grant + u$,\n",
    "where scrap is the firm scrap rate and grant is a dummy variable indicating whether a firm received a job training grant. Can you think of some reasons why the unobserved factors in u might be correlated with grant?\n",
    "(ii) Estimate the simple regression model using the data for 1988. (You should have 54 observati