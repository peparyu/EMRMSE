{
 "cells": [
  {
   "cell_type": "markdown",
   "id": "7ed0de9c",
   "metadata": {},
   "source": [
    "# Econometrics seminar"
   ]
  },
  {
   "cell_type": "markdown",
   "id": "2f62394e",
   "metadata": {},
   "source": [
    "### Wooldridge\n",
    "We are gonno need Data sets from wooldridge. [Click here](https://pypi.org/project/wooldridge/) to get manual to install"
   ]
  },
  {
   "cell_type": "code",
   "execution_count": 181,
   "id": "1dcfef35",
   "metadata": {},
   "outputs": [],
   "source": [
    "import numpy as np\n",
    "import matplotlib.pyplot as plt"
   ]
  },
  {
   "cell_type": "code",
   "execution_count": 182,
   "id": "f084c3f0",
   "metadata": {},
   "outputs": [
    {
     "name": "stdout",
     "output_type": "stream",
     "text": [
      "  J.M. Wooldridge (2019) Introductory Econometrics: A Modern Approach,\n",
      "  Cengage Learning, 6th edition.\n",
      "\n",
      "  401k       401ksubs    admnrev       affairs     airfare\n",
      "  alcohol    apple       approval      athlet1     athlet2\n",
      "  attend     audit       barium        beauty      benefits\n",
      "  beveridge  big9salary  bwght         bwght2      campus\n",
      "  card       catholic    cement        census2000  ceosal1\n",
      "  ceosal2    charity     consump       corn        countymurders\n",
      "  cps78_85   cps91       crime1        crime2      crime3\n",
      "  crime4     discrim     driving       earns       econmath\n",
      "  elem94_95  engin       expendshares  ezanders    ezunem\n",
      "  fair       fertil1     fertil2       fertil3     fish\n",
      "  fringe     gpa1        gpa2          gpa3        happiness\n",
      "  hprice1    hprice2     hprice3       hseinv      htv\n",
      "  infmrt     injury      intdef        intqrt      inven\n",
      "  jtrain     jtrain2     jtrain3       kielmc      lawsch85\n",
      "  loanapp    lowbrth     mathpnl       meap00_01   meap01\n",
      "  meap93     meapsingle  minwage       mlb1        mroz\n",
      "  murder     nbasal      nyse          okun        openness\n",
      "  pension    phillips    pntsprd       prison      prminwge\n",
      "  rdchem     rdtelec     recid         rental      return\n",
      "  saving     sleep75     slp75_81      smoke       traffic1\n",
      "  traffic2   twoyear     volat         vote1       vote2\n",
      "  voucher    wage1       wage2         wagepan     wageprc\n",
      "  wine\n"
     ]
    }
   ],
   "source": [
    "wooldridge.data()"
   ]
  },
  {
   "cell_type": "code",
   "execution_count": 183,
   "id": "e1021b40",
   "metadata": {},
   "outputs": [],
   "source": [
    "import wooldridge"
   ]
  },
  {
   "cell_type": "markdown",
   "id": "9ae0b700",
   "metadata": {},
   "source": [
    "1. Use the data in [WAGE1.RAW](#get_wage1) for this exercise.\n",
    "\n",
    "    1. Find the [average education](#average) level in the sample. [What are the lowest and highest years of education?](#max_min)\n",
    "    2. [Find the average hourly wage in the sample](#av_hour_wage). Does it seem high or low?\n",
    "    3. The wage data are reported in 1976 dollars. Using the Economic Report of the President (2011 or later), obtain and report the Consumer Price Index (CPI) for the years 1976 and 2010.\n",
    "    4. Use the CPI values from part (iii) to find the average hourly wage in 2010 dollars. Now does the average hourly wage seem reasonable? How many women are in the sample? How many men?\n",
    "\n",
    "\n",
    "<p id=\"get_wage1\">Downloadin WAGE1 data.</p>"
   ]
  },
  {
   "cell_type": "code",
   "execution_count": 184,
   "id": "ee903af0",
   "metadata": {},
   "outputs": [
    {
     "name": "stdout",
     "output_type": "stream",
     "text": [
      "name of dataset: mroz\n",
      "no of variables: 22\n",
      "no of observations: 753\n",
      "\n",
      "+----------+---------------------------------+\n",
      "| variable | label                           |\n",
      "+----------+---------------------------------+\n",
      "| inlf     | =1 if in lab frce, 1975         |\n",
      "| hours    | hours worked, 1975              |\n",
      "| kidslt6  | # kids < 6 years                |\n",
      "| kidsge6  | # kids 6-18                     |\n",
      "| age      | woman's age in yrs              |\n",
      "| educ     | years of schooling              |\n",
      "| wage     | est. wage from earn, hrs        |\n",
      "| repwage  | rep. wage at interview in 1976  |\n",
      "| hushrs   | hours worked by husband, 1975   |\n",
      "| husage   | husband's age                   |\n",
      "| huseduc  | husband's years of schooling    |\n",
      "| huswage  | husband's hourly wage, 1975     |\n",
      "| faminc   | family income, 1975             |\n",
      "| mtr      | fed. marg. tax rte facing woman |\n",
      "| motheduc | mother's years of schooling     |\n",
      "| fatheduc | father's years of schooling     |\n",
      "| unem     | unem. rate in county of resid.  |\n",
      "| city     | =1 if live in SMSA              |\n",
      "| exper    | actual labor mkt exper          |\n",
      "| nwifeinc | (faminc - wage*hours)/1000      |\n",
      "| lwage    | log(wage)                       |\n",
      "| expersq  | exper^2                         |\n",
      "+----------+---------------------------------+\n",
      "\n",
      "T.A. Mroz (1987), “The Sensitivity of an Empirical Model of Married\n",
      "Women’s Hours of Work to Economic and Statistical Assumptions,”\n",
      "Econometrica 55, 765-799. Professor Ernst R. Berndt, of MIT, kindly\n",
      "provided the data, which he obtained from Professor Mroz.\n"
     ]
    }
   ],
   "source": [
    "wooldridge.data('mroz', description=True)"
   ]
  },
  {
   "cell_type": "code",
   "execution_count": 185,
   "id": "850ac21b",
   "metadata": {},
   "outputs": [
    {
     "name": "stdout",
     "output_type": "stream",
     "text": [
      "<class 'pandas.core.frame.DataFrame'>\n",
      "RangeIndex: 753 entries, 0 to 752\n",
      "Data columns (total 22 columns):\n",
      " #   Column    Non-Null Count  Dtype  \n",
      "---  ------    --------------  -----  \n",
      " 0   inlf      753 non-null    int64  \n",
      " 1   hours     753 non-null    int64  \n",
      " 2   kidslt6   753 non-null    int64  \n",
      " 3   kidsge6   753 non-null    int64  \n",
      " 4   age       753 non-null    int64  \n",
      " 5   educ      753 non-null    int64  \n",
      " 6   wage      428 non-null    float64\n",
      " 7   repwage   753 non-null    float64\n",
      " 8   hushrs    753 non-null    int64  \n",
      " 9   husage    753 non-null    int64  \n",
      " 10  huseduc   753 non-null    int64  \n",
      " 11  huswage   753 non-null    float64\n",
      " 12  faminc    753 non-null    float64\n",
      " 13  mtr       753 non-null    float64\n",
      " 14  motheduc  753 non-null    int64  \n",
      " 15  fatheduc  753 non-null    int64  \n",
      " 16  unem      753 non-null    float64\n",
      " 17  city      753 non-null    int64  \n",
      " 18  exper     753 non-null    int64  \n",
      " 19  nwifeinc  753 non-null    float64\n",
      " 20  lwage     428 non-null    float64\n",
      " 21  expersq   753 non-null    int64  \n",
      "dtypes: float64(8), int64(14)\n",
      "memory usage: 129.5 KB\n"
     ]
    }
   ],
   "source": [
    "df = wooldridge.data('mroz')\n",
    "df.info()"
   ]
  },
  {
   "cell_type": "code",
   "execution_count": 186,
   "id": "a63b5b6c",
   "metadata": {},
   "outputs": [
    {
     "data": {
      "text/html": [
       "<div>\n",
       "<style scoped>\n",
       "    .dataframe tbody tr th:only-of-type {\n",
       "        vertical-align: middle;\n",
       "    }\n",
       "\n",
       "    .dataframe tbody tr th {\n",
       "        vertical-align: top;\n",
       "    }\n",
       "\n",
       "    .dataframe thead th {\n",
       "        text-align: right;\n",
       "    }\n",
       "</style>\n",
       "<table border=\"1\" class=\"dataframe\">\n",
       "  <thead>\n",
       "    <tr style=\"text-align: right;\">\n",
       "      <th></th>\n",
       "      <th>inlf</th>\n",
       "      <th>hours</th>\n",
       "      <th>kidslt6</th>\n",
       "      <th>kidsge6</th>\n",
       "      <th>age</th>\n",
       "      <th>educ</th>\n",
       "      <th>wage</th>\n",
       "      <th>repwage</th>\n",
       "      <th>hushrs</th>\n",
       "      <th>husage</th>\n",
       "      <th>...</th>\n",
       "      <th>faminc</th>\n",
       "      <th>mtr</th>\n",
       "      <th>motheduc</th>\n",
       "      <th>fatheduc</th>\n",
       "      <th>unem</th>\n",
       "      <th>city</th>\n",
       "      <th>exper</th>\n",
       "      <th>nwifeinc</th>\n",
       "      <th>lwage</th>\n",
       "      <th>expersq</th>\n",
       "    </tr>\n",
       "  </thead>\n",
       "  <tbody>\n",
       "    <tr>\n",
       "      <th>0</th>\n",
       "      <td>1</td>\n",
       "      <td>1610</td>\n",
       "      <td>1</td>\n",
       "      <td>0</td>\n",
       "      <td>32</td>\n",
       "      <td>12</td>\n",
       "      <td>3.3540</td>\n",
       "      <td>2.65</td>\n",
       "      <td>2708</td>\n",
       "      <td>34</td>\n",
       "      <td>...</td>\n",
       "      <td>16310.0</td>\n",
       "      <td>0.7215</td>\n",
       "      <td>12</td>\n",
       "      <td>7</td>\n",
       "      <td>5.0</td>\n",
       "      <td>0</td>\n",
       "      <td>14</td>\n",
       "      <td>10.910060</td>\n",
       "      <td>1.210154</td>\n",
       "      <td>196</td>\n",
       "    </tr>\n",
       "    <tr>\n",
       "      <th>1</th>\n",
       "      <td>1</td>\n",
       "      <td>1656</td>\n",
       "      <td>0</td>\n",
       "      <td>2</td>\n",
       "      <td>30</td>\n",
       "      <td>12</td>\n",
       "      <td>1.3889</td>\n",
       "      <td>2.65</td>\n",
       "      <td>2310</td>\n",
       "      <td>30</td>\n",
       "      <td>...</td>\n",
       "      <td>21800.0</td>\n",
       "      <td>0.6615</td>\n",
       "      <td>7</td>\n",
       "      <td>7</td>\n",
       "      <td>11.0</td>\n",
       "      <td>1</td>\n",
       "      <td>5</td>\n",
       "      <td>19.499981</td>\n",
       "      <td>0.328512</td>\n",
       "      <td>25</td>\n",
       "    </tr>\n",
       "    <tr>\n",
       "      <th>2</th>\n",
       "      <td>1</td>\n",
       "      <td>1980</td>\n",
       "      <td>1</td>\n",
       "      <td>3</td>\n",
       "      <td>35</td>\n",
       "      <td>12</td>\n",
       "      <td>4.5455</td>\n",
       "      <td>4.04</td>\n",
       "      <td>3072</td>\n",
       "      <td>40</td>\n",
       "      <td>...</td>\n",
       "      <td>21040.0</td>\n",
       "      <td>0.6915</td>\n",
       "      <td>12</td>\n",
       "      <td>7</td>\n",
       "      <td>5.0</td>\n",
       "      <td>0</td>\n",
       "      <td>15</td>\n",
       "      <td>12.039910</td>\n",
       "      <td>1.514138</td>\n",
       "      <td>225</td>\n",
       "    </tr>\n",
       "    <tr>\n",
       "      <th>3</th>\n",
       "      <td>1</td>\n",
       "      <td>456</td>\n",
       "      <td>0</td>\n",
       "      <td>3</td>\n",
       "      <td>34</td>\n",
       "      <td>12</td>\n",
       "      <td>1.0965</td>\n",
       "      <td>3.25</td>\n",
       "      <td>1920</td>\n",
       "      <td>53</td>\n",
       "      <td>...</td>\n",
       "      <td>7300.0</td>\n",
       "      <td>0.7815</td>\n",
       "      <td>7</td>\n",
       "      <td>7</td>\n",
       "      <td>5.0</td>\n",
       "      <td>0</td>\n",
       "      <td>6</td>\n",
       "      <td>6.799996</td>\n",
       "      <td>0.092123</td>\n",
       "      <td>36</td>\n",
       "    </tr>\n",
       "    <tr>\n",
       "      <th>4</th>\n",
       "      <td>1</td>\n",
       "      <td>1568</td>\n",
       "      <td>1</td>\n",
       "      <td>2</td>\n",
       "      <td>31</td>\n",
       "      <td>14</td>\n",
       "      <td>4.5918</td>\n",
       "      <td>3.60</td>\n",
       "      <td>2000</td>\n",
       "      <td>32</td>\n",
       "      <td>...</td>\n",
       "      <td>27300.0</td>\n",
       "      <td>0.6215</td>\n",
       "      <td>12</td>\n",
       "      <td>14</td>\n",
       "      <td>9.5</td>\n",
       "      <td>1</td>\n",
       "      <td>7</td>\n",
       "      <td>20.100058</td>\n",
       "      <td>1.524272</td>\n",
       "      <td>49</td>\n",
       "    </tr>\n",
       "    <tr>\n",
       "      <th>...</th>\n",
       "      <td>...</td>\n",
       "      <td>...</td>\n",
       "      <td>...</td>\n",
       "      <td>...</td>\n",
       "      <td>...</td>\n",
       "      <td>...</td>\n",
       "      <td>...</td>\n",
       "      <td>...</td>\n",
       "      <td>...</td>\n",
       "      <td>...</td>\n",
       "      <td>...</td>\n",
       "      <td>...</td>\n",
       "      <td>...</td>\n",
       "      <td>...</td>\n",
       "      <td>...</td>\n",
       "      <td>...</td>\n",
       "      <td>...</td>\n",
       "      <td>...</td>\n",
       "      <td>...</td>\n",
       "      <td>...</td>\n",
       "      <td>...</td>\n",
       "    </tr>\n",
       "    <tr>\n",
       "      <th>748</th>\n",
       "      <td>0</td>\n",
       "      <td>0</td>\n",
       "      <td>0</td>\n",
       "      <td>2</td>\n",
       "      <td>40</td>\n",
       "      <td>13</td>\n",
       "      <td>NaN</td>\n",
       "      <td>0.00</td>\n",
       "      <td>3020</td>\n",
       "      <td>43</td>\n",
       "      <td>...</td>\n",
       "      <td>28200.0</td>\n",
       "      <td>0.6215</td>\n",
       "      <td>10</td>\n",
       "      <td>10</td>\n",
       "      <td>9.5</td>\n",
       "      <td>1</td>\n",
       "      <td>5</td>\n",
       "      <td>28.200001</td>\n",
       "      <td>NaN</td>\n",
       "      <td>25</td>\n",
       "    </tr>\n",
       "    <tr>\n",
       "      <th>749</th>\n",
       "      <td>0</td>\n",
       "      <td>0</td>\n",
       "      <td>2</td>\n",
       "      <td>3</td>\n",
       "      <td>31</td>\n",
       "      <td>12</td>\n",
       "      <td>NaN</td>\n",
       "      <td>0.00</td>\n",
       "      <td>2056</td>\n",
       "      <td>33</td>\n",
       "      <td>...</td>\n",
       "      <td>10000.0</td>\n",
       "      <td>0.7715</td>\n",
       "      <td>12</td>\n",
       "      <td>12</td>\n",
       "      <td>7.5</td>\n",
       "      <td>0</td>\n",
       "      <td>14</td>\n",
       "      <td>10.000000</td>\n",
       "      <td>NaN</td>\n",
       "      <td>196</td>\n",
       "    </tr>\n",
       "    <tr>\n",
       "      <th>750</th>\n",
       "      <td>0</td>\n",
       "      <td>0</td>\n",
       "      <td>0</td>\n",
       "      <td>0</td>\n",
       "      <td>43</td>\n",
       "      <td>12</td>\n",
       "      <td>NaN</td>\n",
       "      <td>0.00</td>\n",
       "      <td>2383</td>\n",
       "      <td>43</td>\n",
       "      <td>...</td>\n",
       "      <td>9952.0</td>\n",
       "      <td>0.7515</td>\n",
       "      <td>10</td>\n",
       "      <td>3</td>\n",
       "      <td>7.5</td>\n",
       "      <td>0</td>\n",
       "      <td>4</td>\n",
       "      <td>9.952000</td>\n",
       "      <td>NaN</td>\n",
       "      <td>16</td>\n",
       "    </tr>\n",
       "    <tr>\n",
       "      <th>751</th>\n",
       "      <td>0</td>\n",
       "      <td>0</td>\n",
       "      <td>0</td>\n",
       "      <td>0</td>\n",
       "      <td>60</td>\n",
       "      <td>12</td>\n",
       "      <td>NaN</td>\n",
       "      <td>0.00</td>\n",
       "      <td>1705</td>\n",
       "      <td>55</td>\n",
       "      <td>...</td>\n",
       "      <td>24984.0</td>\n",
       "      <td>0.6215</td>\n",
       "      <td>12</td>\n",
       "      <td>12</td>\n",
       "      <td>14.0</td>\n",
       "      <td>1</td>\n",
       "      <td>15</td>\n",
       "      <td>24.983999</td>\n",
       "      <td>NaN</td>\n",
       "      <td>225</td>\n",
       "    </tr>\n",
       "    <tr>\n",
       "      <th>752</th>\n",
       "      <td>0</td>\n",
       "      <td>0</td>\n",
       "      <td>0</td>\n",
       "      <td>3</td>\n",
       "      <td>39</td>\n",
       "      <td>9</td>\n",
       "      <td>NaN</td>\n",
       "      <td>0.00</td>\n",
       "      <td>3120</td>\n",
       "      <td>48</td>\n",
       "      <td>...</td>\n",
       "      <td>28363.0</td>\n",
       "      <td>0.6915</td>\n",
       "      <td>7</td>\n",
       "      <td>7</td>\n",
       "      <td>11.0</td>\n",
       "      <td>1</td>\n",
       "      <td>12</td>\n",
       "      <td>28.363001</td>\n",
       "      <td>NaN</td>\n",
       "      <td>144</td>\n",
       "    </tr>\n",
       "  </tbody>\n",
       "</table>\n",
       "<p>753 rows × 22 columns</p>\n",
       "</div>"
      ],
      "text/plain": [
       "     inlf  hours  kidslt6  kidsge6  age  educ    wage  repwage  hushrs  \\\n",
       "0       1   1610        1        0   32    12  3.3540     2.65    2708   \n",
       "1       1   1656        0        2   30    12  1.3889     2.65    2310   \n",
       "2       1   1980        1        3   35    12  4.5455     4.04    3072   \n",
       "3       1    456        0        3   34    12  1.0965     3.25    1920   \n",
       "4       1   1568        1        2   31    14  4.5918     3.60    2000   \n",
       "..    ...    ...      ...      ...  ...   ...     ...      ...     ...   \n",
       "748     0      0        0        2   40    13     NaN     0.00    3020   \n",
       "749     0      0        2        3   31    12     NaN     0.00    2056   \n",
       "750     0      0        0        0   43    12     NaN     0.00    2383   \n",
       "751     0      0        0        0   60    12     NaN     0.00    1705   \n",
       "752     0      0        0        3   39     9     NaN     0.00    3120   \n",
       "\n",
       "     husage  ...   faminc     mtr  motheduc  fatheduc  unem  city  exper  \\\n",
       "0        34  ...  16310.0  0.7215        12         7   5.0     0     14   \n",
       "1        30  ...  21800.0  0.6615         7         7  11.0     1      5   \n",
       "2        40  ...  21040.0  0.6915        12         7   5.0     0     15   \n",
       "3        53  ...   7300.0  0.7815         7         7   5.0     0      6   \n",
       "4        32  ...  27300.0  0.6215        12        14   9.5     1      7   \n",
       "..      ...  ...      ...     ...       ...       ...   ...   ...    ...   \n",
       "748      43  ...  28200.0  0.6215        10        10   9.5     1      5   \n",
       "749      33  ...  10000.0  0.7715        12        12   7.5     0     14   \n",
       "750      43  ...   9952.0  0.7515        10         3   7.5     0      4   \n",
       "751      55  ...  24984.0  0.6215        12        12  14.0     1     15   \n",
       "752      48  ...  28363.0  0.6915         7         7  11.0     1     12   \n",
       "\n",
       "      nwifeinc     lwage  expersq  \n",
       "0    10.910060  1.210154      196  \n",
       "1    19.499981  0.328512       25  \n",
       "2    12.039910  1.514138      225  \n",
       "3     6.799996  0.092123       36  \n",
       "4    20.100058  1.524272       49  \n",
       "..         ...       ...      ...  \n",
       "748  28.200001       NaN       25  \n",
       "749  10.000000       NaN      196  \n",
       "750   9.952000       NaN       16  \n",
       "751  24.983999       NaN      225  \n",
       "752  28.363001       NaN      144  \n",
       "\n",
       "[753 rows x 22 columns]"
      ]
     },
     "execution_count": 186,
     "metadata": {},
     "output_type": "execute_result"
    }
   ],
   "source": [
    "df"
   ]
  },
  {
   "cell_type": "markdown",
   "id": "b898f8cb",
   "metadata": {},
   "source": [
    "<p id=\"average\"><b>1.A</b></p> Use the data in WAGE1.RAW for this exercise"
   ]
  },
  {
   "cell_type": "code",
   "execution_count": 187,
   "id": "e60e8be2",
   "metadata": {},
   "outputs": [
    {
     "data": {
      "text/plain": [
       "count    753.000000\n",
       "mean      12.286853\n",
       "std        2.280246\n",
       "min        5.000000\n",
       "25%       12.000000\n",
       "50%       12.000000\n",
       "75%       13.000000\n",
       "max       17.000000\n",
       "Name: educ, dtype: float64"
      ]
     },
     "execution_count": 187,
     "metadata": {},
     "output_type": "execute_result"
    }
   ],
   "source": [
    "df.educ.describe()"
   ]
  },
  {
   "cell_type": "code",
   "execution_count": 188,
   "id": "b93742ea",
   "metadata": {},
   "outputs": [
    {
     "name": "stdout",
     "output_type": "stream",
     "text": [
      "Lowest year of education:5\n"
     ]
    }
   ],
   "source": [
    "print(f\"Lowest year of education:{df.educ.min()}\")"
   ]
  },
  {
   "cell_type": "code",
   "execution_count": 189,
   "id": "01b7a8d2",
   "metadata": {},
   "outputs": [
    {
     "name": "stdout",
     "output_type": "stream",
     "text": [
      "Highest year of education:17\n"
     ]
    }
   ],
   "source": [
    "print(f\"Highest year of education:{df.educ.max()}\")"
   ]
  },
  {
   "cell_type": "markdown",
   "id": "a07a0d0e",
   "metadata": {},
   "source": [
    "<p id=\"\"av_hour_wage\"\"><b>1.B</b></p>\n",
    "Find the average hourly wage in the sample. Does it seem high or low?"
   ]
  },
  {
   "cell_type": "code",
   "execution_count": 190,
   "id": "2dcc10e4",
   "metadata": {},
   "outputs": [
    {
     "name": "stdout",
     "output_type": "stream",
     "text": [
      "The average hourly wage in the sample.: 4.18\n"
     ]
    }
   ],
   "source": [
    "print(f\"The average hourly wage in the sample.: {df.wage.mean().round(2)}\")"
   ]
  },
  {
   "cell_type": "markdown",
   "id": "4fa0b744",
   "metadata": {},
   "source": [
    "2. Use the data in [BWGHT.RAW](#BWGHT.RAW) to answer this question\n",
    "    1. How many [women are in the sample](#wom_in_sm), and how many report [smoking during pregnancy](#smok_dr_pr)?\n",
    "    2. What is the [average number of cigarettes smoked per day](#av_p_d)? Is the average a good measure of the “typical” woman in this case? Explain.\n",
    "    3. Among women who smoked during pregnancy, what is the [average number of cigarettes smoked per day](#ave_nm_sm_per_da)? How does this compare with your answer frompart (ii), and why?\n",
    "    4. Find the [average of fatheduc](#av_fath_ed) in the sample. Why are only 1,192 observations used to compute this average?\n",
    "    5. Report the average family income and its standard deviation in dollars. \n",
    "\n"
   ]
  },
  {
   "cell_type": "markdown",
   "id": "2b899109",
   "metadata": {},
   "source": [
    "<p id='BWGHT.RAW'><b>2.</b></p>\n",
    "Use the data in BWGHT.RAW to answer this question"
   ]
  },
  {
   "cell_type": "code",
   "execution_count": 191,
   "id": "9fb34e62",
   "metadata": {},
   "outputs": [
    {
     "name": "stdout",
     "output_type": "stream",
     "text": [
      "name of dataset: bwght\n",
      "no of variables: 14\n",
      "no of observations: 1388\n",
      "\n",
      "+----------+--------------------------------+\n",
      "| variable | label                          |\n",
      "+----------+--------------------------------+\n",
      "| faminc   | 1988 family income, $1000s     |\n",
      "| cigtax   | cig. tax in home state, 1988   |\n",
      "| cigprice | cig. price in home state, 1988 |\n",
      "| bwght    | birth weight, ounces           |\n",
      "| fatheduc | father's yrs of educ           |\n",
      "| motheduc | mother's yrs of educ           |\n",
      "| parity   | birth order of child           |\n",
      "| male     | =1 if male child               |\n",
      "| white    | =1 if white                    |\n",
      "| cigs     | cigs smked per day while preg  |\n",
      "| lbwght   | log of bwght                   |\n",
      "| bwghtlbs | birth weight, pounds           |\n",
      "| packs    | packs smked per day while preg |\n",
      "| lfaminc  | log(faminc)                    |\n",
      "+----------+--------------------------------+\n",
      "\n",
      "J. Mullahy (1997), “Instrumental-Variable Estimation of Count Data\n",
      "Models: Applications to Models of Cigarette Smoking Behavior,” Review\n",
      "of Economics and Statistics 79, 596-593. Professor Mullahy kindly\n",
      "provided the data. He obtained them from the 1988 National Health\n",
      "Interview Survey.\n"
     ]
    }
   ],
   "source": [
    "# Dataset Info\n",
    "wooldridge.data('bwght', description=True)"
   ]
  },
  {
   "cell_type": "code",
   "execution_count": 192,
   "id": "b25fb55e",
   "metadata": {},
   "outputs": [
    {
     "name": "stdout",
     "output_type": "stream",
     "text": [
      "<class 'pandas.core.frame.DataFrame'>\n",
      "RangeIndex: 1388 entries, 0 to 1387\n",
      "Data columns (total 14 columns):\n",
      " #   Column    Non-Null Count  Dtype  \n",
      "---  ------    --------------  -----  \n",
      " 0   faminc    1388 non-null   float64\n",
      " 1   cigtax    1388 non-null   float64\n",
      " 2   cigprice  1388 non-null   float64\n",
      " 3   bwght     1388 non-null   int64  \n",
      " 4   fatheduc  1192 non-null   float64\n",
      " 5   motheduc  1387 non-null   float64\n",
      " 6   parity    1388 non-null   int64  \n",
      " 7   male      1388 non-null   int64  \n",
      " 8   white     1388 non-null   int64  \n",
      " 9   cigs      1388 non-null   int64  \n",
      " 10  lbwght    1388 non-null   float64\n",
      " 11  bwghtlbs  1388 non-null   float64\n",
      " 12  packs     1388 non-null   float64\n",
      " 13  lfaminc   1388 non-null   float64\n",
      "dtypes: float64(9), int64(5)\n",
      "memory usage: 151.9 KB\n"
     ]
    }
   ],
   "source": [
    "df = wooldridge.data('bwght')\n",
    "df.info()"
   ]
  },
  {
   "cell_type": "markdown",
   "id": "020560f2",
   "metadata": {},
   "source": [
    "<p id=\"\"#wom_in_sm\"\"><b>2.A</b></p>\n",
    "How many women are in the sample, and how many report smoking during pregnancy?"
   ]
  },
  {
   "cell_type": "code",
   "execution_count": 193,
   "id": "91af7d63",
   "metadata": {},
   "outputs": [
    {
     "data": {
      "text/html": [
       "<div>\n",
       "<style scoped>\n",
       "    .dataframe tbody tr th:only-of-type {\n",
       "        vertical-align: middle;\n",
       "    }\n",
       "\n",
       "    .dataframe tbody tr th {\n",
       "        vertical-align: top;\n",
       "    }\n",
       "\n",
       "    .dataframe thead th {\n",
       "        text-align: right;\n",
       "    }\n",
       "</style>\n",
       "<table border=\"1\" class=\"dataframe\">\n",
       "  <thead>\n",
       "    <tr style=\"text-align: right;\">\n",
       "      <th></th>\n",
       "      <th>faminc</th>\n",
       "      <th>cigtax</th>\n",
       "      <th>cigprice</th>\n",
       "      <th>bwght</th>\n",
       "      <th>fatheduc</th>\n",
       "      <th>motheduc</th>\n",
       "      <th>parity</th>\n",
       "      <th>male</th>\n",
       "      <th>white</th>\n",
       "      <th>cigs</th>\n",
       "      <th>lbwght</th>\n",
       "      <th>bwghtlbs</th>\n",
       "      <th>packs</th>\n",
       "      <th>lfaminc</th>\n",
       "    </tr>\n",
       "  </thead>\n",
       "  <tbody>\n",
       "    <tr>\n",
       "      <th>0</th>\n",
       "      <td>13.5</td>\n",
       "      <td>16.5</td>\n",
       "      <td>122.300003</td>\n",
       "      <td>109</td>\n",
       "      <td>12.0</td>\n",
       "      <td>12.0</td>\n",
       "      <td>1</td>\n",
       "      <td>1</td>\n",
       "      <td>1</td>\n",
       "      <td>0</td>\n",
       "      <td>4.691348</td>\n",
       "      <td>6.8125</td>\n",
       "      <td>0.0</td>\n",
       "      <td>2.602690</td>\n",
       "    </tr>\n",
       "    <tr>\n",
       "      <th>1</th>\n",
       "      <td>7.5</td>\n",
       "      <td>16.5</td>\n",
       "      <td>122.300003</td>\n",
       "      <td>133</td>\n",
       "      <td>6.0</td>\n",
       "      <td>12.0</td>\n",
       "      <td>2</td>\n",
       "      <td>1</td>\n",
       "      <td>0</td>\n",
       "      <td>0</td>\n",
       "      <td>4.890349</td>\n",
       "      <td>8.3125</td>\n",
       "      <td>0.0</td>\n",
       "      <td>2.014903</td>\n",
       "    </tr>\n",
       "    <tr>\n",
       "      <th>3</th>\n",
       "      <td>15.5</td>\n",
       "      <td>16.5</td>\n",
       "      <td>122.300003</td>\n",
       "      <td>126</td>\n",
       "      <td>12.0</td>\n",
       "      <td>12.0</td>\n",
       "      <td>2</td>\n",
       "      <td>1</td>\n",
       "      <td>0</td>\n",
       "      <td>0</td>\n",
       "      <td>4.836282</td>\n",
       "      <td>7.8750</td>\n",
       "      <td>0.0</td>\n",
       "      <td>2.740840</td>\n",
       "    </tr>\n",
       "    <tr>\n",
       "      <th>4</th>\n",
       "      <td>27.5</td>\n",
       "      <td>16.5</td>\n",
       "      <td>122.300003</td>\n",
       "      <td>134</td>\n",
       "      <td>14.0</td>\n",
       "      <td>12.0</td>\n",
       "      <td>2</td>\n",
       "      <td>1</td>\n",
       "      <td>1</td>\n",
       "      <td>0</td>\n",
       "      <td>4.897840</td>\n",
       "      <td>8.3750</td>\n",
       "      <td>0.0</td>\n",
       "      <td>3.314186</td>\n",
       "    </tr>\n",
       "    <tr>\n",
       "      <th>5</th>\n",
       "      <td>7.5</td>\n",
       "      <td>16.5</td>\n",
       "      <td>122.300003</td>\n",
       "      <td>118</td>\n",
       "      <td>12.0</td>\n",
       "      <td>14.0</td>\n",
       "      <td>6</td>\n",
       "      <td>1</td>\n",
       "      <td>0</td>\n",
       "      <td>0</td>\n",
       "      <td>4.770685</td>\n",
       "      <td>7.3750</td>\n",
       "      <td>0.0</td>\n",
       "      <td>2.014903</td>\n",
       "    </tr>\n",
       "    <tr>\n",
       "      <th>...</th>\n",
       "      <td>...</td>\n",
       "      <td>...</td>\n",
       "      <td>...</td>\n",
       "      <td>...</td>\n",
       "      <td>...</td>\n",
       "      <td>...</td>\n",
       "      <td>...</td>\n",
       "      <td>...</td>\n",
       "      <td>...</td>\n",
       "      <td>...</td>\n",
       "      <td>...</td>\n",
       "      <td>...</td>\n",
       "      <td>...</td>\n",
       "      <td>...</td>\n",
       "    </tr>\n",
       "    <tr>\n",
       "      <th>1378</th>\n",
       "      <td>15.5</td>\n",
       "      <td>30.0</td>\n",
       "      <td>138.300003</td>\n",
       "      <td>121</td>\n",
       "      <td>12.0</td>\n",
       "      <td>12.0</td>\n",
       "      <td>1</td>\n",
       "      <td>1</td>\n",
       "      <td>1</td>\n",
       "      <td>0</td>\n",
       "      <td>4.795791</td>\n",
       "      <td>7.5625</td>\n",
       "      <td>0.0</td>\n",
       "      <td>2.740840</td>\n",
       "    </tr>\n",
       "    <tr>\n",
       "      <th>1380</th>\n",
       "      <td>5.5</td>\n",
       "      <td>30.0</td>\n",
       "      <td>138.300003</td>\n",
       "      <td>85</td>\n",
       "      <td>NaN</td>\n",
       "      <td>12.0</td>\n",
       "      <td>1</td>\n",
       "      <td>1</td>\n",
       "      <td>0</td>\n",
       "      <td>0</td>\n",
       "      <td>4.442651</td>\n",
       "      <td>5.3125</td>\n",
       "      <td>0.0</td>\n",
       "      <td>1.704748</td>\n",
       "    </tr>\n",
       "    <tr>\n",
       "      <th>1381</th>\n",
       "      <td>12.5</td>\n",
       "      <td>30.0</td>\n",
       "      <td>138.300003</td>\n",
       "      <td>87</td>\n",
       "      <td>14.0</td>\n",
       "      <td>12.0</td>\n",
       "      <td>1</td>\n",
       "      <td>1</td>\n",
       "      <td>1</td>\n",
       "      <td>0</td>\n",
       "      <td>4.465908</td>\n",
       "      <td>5.4375</td>\n",
       "      <td>0.0</td>\n",
       "      <td>2.525729</td>\n",
       "    </tr>\n",
       "    <tr>\n",
       "      <th>1383</th>\n",
       "      <td>27.5</td>\n",
       "      <td>30.0</td>\n",
       "      <td>138.300003</td>\n",
       "      <td>110</td>\n",
       "      <td>12.0</td>\n",
       "      <td>12.0</td>\n",
       "      <td>4</td>\n",
       "      <td>1</td>\n",
       "      <td>1</td>\n",
       "      <td>0</td>\n",
       "      <td>4.700480</td>\n",
       "      <td>6.8750</td>\n",
       "      <td>0.0</td>\n",
       "      <td>3.314186</td>\n",
       "    </tr>\n",
       "    <tr>\n",
       "      <th>1384</th>\n",
       "      <td>5.5</td>\n",
       "      <td>30.0</td>\n",
       "      <td>138.300003</td>\n",
       "      <td>146</td>\n",
       "      <td>NaN</td>\n",
       "      <td>16.0</td>\n",
       "      <td>2</td>\n",
       "      <td>1</td>\n",
       "      <td>1</td>\n",
       "      <td>0</td>\n",
       "      <td>4.983607</td>\n",
       "      <td>9.1250</td>\n",
       "      <td>0.0</td>\n",
       "      <td>1.704748</td>\n",
       "    </tr>\n",
       "  </tbody>\n",
       "</table>\n",
       "<p>723 rows × 14 columns</p>\n",
       "</div>"
      ],
      "text/plain": [
       "      faminc  cigtax    cigprice  bwght  fatheduc  motheduc  parity  male  \\\n",
       "0       13.5    16.5  122.300003    109      12.0      12.0       1     1   \n",
       "1        7.5    16.5  122.300003    133       6.0      12.0       2     1   \n",
       "3       15.5    16.5  122.300003    126      12.0      12.0       2     1   \n",
       "4       27.5    16.5  122.300003    134      14.0      12.0       2     1   \n",
       "5        7.5    16.5  122.300003    118      12.0      14.0       6     1   \n",
       "...      ...     ...         ...    ...       ...       ...     ...   ...   \n",
       "1378    15.5    30.0  138.300003    121      12.0      12.0       1     1   \n",
       "1380     5.5    30.0  138.300003     85       NaN      12.0       1     1   \n",
       "1381    12.5    30.0  138.300003     87      14.0      12.0       1     1   \n",
       "1383    27.5    30.0  138.300003    110      12.0      12.0       4     1   \n",
       "1384     5.5    30.0  138.300003    146       NaN      16.0       2     1   \n",
       "\n",
       "      white  cigs    lbwght  bwghtlbs  packs   lfaminc  \n",
       "0         1     0  4.691348    6.8125    0.0  2.602690  \n",
       "1         0     0  4.890349    8.3125    0.0  2.014903  \n",
       "3         0     0  4.836282    7.8750    0.0  2.740840  \n",
       "4         1     0  4.897840    8.3750    0.0  3.314186  \n",
       "5         0     0  4.770685    7.3750    0.0  2.014903  \n",
       "...     ...   ...       ...       ...    ...       ...  \n",
       "1378      1     0  4.795791    7.5625    0.0  2.740840  \n",
       "1380      0     0  4.442651    5.3125    0.0  1.704748  \n",
       "1381      1     0  4.465908    5.4375    0.0  2.525729  \n",
       "1383      1     0  4.700480    6.8750    0.0  3.314186  \n",
       "1384      1     0  4.983607    9.1250    0.0  1.704748  \n",
       "\n",
       "[723 rows x 14 columns]"
      ]
     },
     "execution_count": 193,
     "metadata": {},
     "output_type": "execute_result"
    }
   ],
   "source": [
    "df.loc[df['male']==1]"
   ]
  },
  {
   "cell_type": "code",
   "execution_count": 194,
   "id": "537a5fef",
   "metadata": {},
   "outputs": [
    {
     "data": {
      "text/plain": [
       "faminc      723\n",
       "cigtax      723\n",
       "cigprice    723\n",
       "bwght       723\n",
       "fatheduc    618\n",
       "motheduc    723\n",
       "parity      723\n",
       "male        723\n",
       "white       723\n",
       "cigs        723\n",
       "lbwght      723\n",
       "bwghtlbs    723\n",
       "packs       723\n",
       "lfaminc     723\n",
       "dtype: int64"
      ]
     },
     "execution_count": 194,
     "metadata": {},
     "output_type": "execute_result"
    }
   ],
   "source": [
    "df.loc[df['male']==1].count()"
   ]
  },
  {
   "cell_type": "code",
   "execution_count": 195,
   "id": "22386cfb",
   "metadata": {},
   "outputs": [
    {
     "data": {
      "text/html": [
       "<div>\n",
       "<style scoped>\n",
       "    .dataframe tbody tr th:only-of-type {\n",
       "        vertical-align: middle;\n",
       "    }\n",
       "\n",
       "    .dataframe tbody tr th {\n",
       "        vertical-align: top;\n",
       "    }\n",
       "\n",
       "    .dataframe thead th {\n",
       "        text-align: right;\n",
       "    }\n",
       "</style>\n",
       "<table border=\"1\" class=\"dataframe\">\n",
       "  <thead>\n",
       "    <tr style=\"text-align: right;\">\n",
       "      <th></th>\n",
       "      <th>faminc</th>\n",
       "      <th>cigtax</th>\n",
       "      <th>cigprice</th>\n",
       "      <th>bwght</th>\n",
       "      <th>fatheduc</th>\n",
       "      <th>motheduc</th>\n",
       "      <th>parity</th>\n",
       "      <th>male</th>\n",
       "      <th>white</th>\n",
       "      <th>cigs</th>\n",
       "      <th>lbwght</th>\n",
       "      <th>bwghtlbs</th>\n",
       "      <th>packs</th>\n",
       "      <th>lfaminc</th>\n",
       "    </tr>\n",
       "  </thead>\n",
       "  <tbody>\n",
       "    <tr>\n",
       "      <th>22</th>\n",
       "      <td>15.5</td>\n",
       "      <td>16.5</td>\n",
       "      <td>122.300003</td>\n",
       "      <td>129</td>\n",
       "      <td>8.0</td>\n",
       "      <td>11.0</td>\n",
       "      <td>2</td>\n",
       "      <td>1</td>\n",
       "      <td>1</td>\n",
       "      <td>6</td>\n",
       "      <td>4.859812</td>\n",
       "      <td>8.0625</td>\n",
       "      <td>0.30</td>\n",
       "      <td>2.740840</td>\n",
       "    </tr>\n",
       "    <tr>\n",
       "      <th>68</th>\n",
       "      <td>7.5</td>\n",
       "      <td>21.0</td>\n",
       "      <td>127.699997</td>\n",
       "      <td>119</td>\n",
       "      <td>12.0</td>\n",
       "      <td>10.0</td>\n",
       "      <td>2</td>\n",
       "      <td>1</td>\n",
       "      <td>0</td>\n",
       "      <td>20</td>\n",
       "      <td>4.779123</td>\n",
       "      <td>7.4375</td>\n",
       "      <td>1.00</td>\n",
       "      <td>2.014903</td>\n",
       "    </tr>\n",
       "    <tr>\n",
       "      <th>92</th>\n",
       "      <td>7.5</td>\n",
       "      <td>21.0</td>\n",
       "      <td>127.699997</td>\n",
       "      <td>93</td>\n",
       "      <td>14.0</td>\n",
       "      <td>12.0</td>\n",
       "      <td>1</td>\n",
       "      <td>1</td>\n",
       "      <td>0</td>\n",
       "      <td>10</td>\n",
       "      <td>4.532599</td>\n",
       "      <td>5.8125</td>\n",
       "      <td>0.50</td>\n",
       "      <td>2.014903</td>\n",
       "    </tr>\n",
       "    <tr>\n",
       "      <th>97</th>\n",
       "      <td>22.5</td>\n",
       "      <td>10.0</td>\n",
       "      <td>126.400002</td>\n",
       "      <td>121</td>\n",
       "      <td>11.0</td>\n",
       "      <td>12.0</td>\n",
       "      <td>1</td>\n",
       "      <td>1</td>\n",
       "      <td>1</td>\n",
       "      <td>20</td>\n",
       "      <td>4.795791</td>\n",
       "      <td>7.5625</td>\n",
       "      <td>1.00</td>\n",
       "      <td>3.113515</td>\n",
       "    </tr>\n",
       "    <tr>\n",
       "      <th>107</th>\n",
       "      <td>27.5</td>\n",
       "      <td>10.0</td>\n",
       "      <td>126.400002</td>\n",
       "      <td>106</td>\n",
       "      <td>12.0</td>\n",
       "      <td>13.0</td>\n",
       "      <td>1</td>\n",
       "      <td>1</td>\n",
       "      <td>0</td>\n",
       "      <td>10</td>\n",
       "      <td>4.663439</td>\n",
       "      <td>6.6250</td>\n",
       "      <td>0.50</td>\n",
       "      <td>3.314186</td>\n",
       "    </tr>\n",
       "    <tr>\n",
       "      <th>...</th>\n",
       "      <td>...</td>\n",
       "      <td>...</td>\n",
       "      <td>...</td>\n",
       "      <td>...</td>\n",
       "      <td>...</td>\n",
       "      <td>...</td>\n",
       "      <td>...</td>\n",
       "      <td>...</td>\n",
       "      <td>...</td>\n",
       "      <td>...</td>\n",
       "      <td>...</td>\n",
       "      <td>...</td>\n",
       "      <td>...</td>\n",
       "      <td>...</td>\n",
       "    </tr>\n",
       "    <tr>\n",
       "      <th>1336</th>\n",
       "      <td>5.5</td>\n",
       "      <td>30.0</td>\n",
       "      <td>138.300003</td>\n",
       "      <td>104</td>\n",
       "      <td>10.0</td>\n",
       "      <td>10.0</td>\n",
       "      <td>2</td>\n",
       "      <td>1</td>\n",
       "      <td>1</td>\n",
       "      <td>15</td>\n",
       "      <td>4.644391</td>\n",
       "      <td>6.5000</td>\n",
       "      <td>0.75</td>\n",
       "      <td>1.704748</td>\n",
       "    </tr>\n",
       "    <tr>\n",
       "      <th>1347</th>\n",
       "      <td>9.5</td>\n",
       "      <td>30.0</td>\n",
       "      <td>138.300003</td>\n",
       "      <td>80</td>\n",
       "      <td>NaN</td>\n",
       "      <td>12.0</td>\n",
       "      <td>1</td>\n",
       "      <td>1</td>\n",
       "      <td>1</td>\n",
       "      <td>15</td>\n",
       "      <td>4.382027</td>\n",
       "      <td>5.0000</td>\n",
       "      <td>0.75</td>\n",
       "      <td>2.251292</td>\n",
       "    </tr>\n",
       "    <tr>\n",
       "      <th>1348</th>\n",
       "      <td>32.5</td>\n",
       "      <td>30.0</td>\n",
       "      <td>138.300003</td>\n",
       "      <td>124</td>\n",
       "      <td>10.0</td>\n",
       "      <td>11.0</td>\n",
       "      <td>2</td>\n",
       "      <td>1</td>\n",
       "      <td>1</td>\n",
       "      <td>20</td>\n",
       "      <td>4.820282</td>\n",
       "      <td>7.7500</td>\n",
       "      <td>1.00</td>\n",
       "      <td>3.481240</td>\n",
       "    </tr>\n",
       "    <tr>\n",
       "      <th>1367</th>\n",
       "      <td>12.5</td>\n",
       "      <td>30.0</td>\n",
       "      <td>138.300003</td>\n",
       "      <td>130</td>\n",
       "      <td>16.0</td>\n",
       "      <td>14.0</td>\n",
       "      <td>1</td>\n",
       "      <td>1</td>\n",
       "      <td>1</td>\n",
       "      <td>15</td>\n",
       "      <td>4.867535</td>\n",
       "      <td>8.1250</td>\n",
       "      <td>0.75</td>\n",
       "      <td>2.525729</td>\n",
       "    </tr>\n",
       "    <tr>\n",
       "      <th>1375</th>\n",
       "      <td>17.5</td>\n",
       "      <td>30.0</td>\n",
       "      <td>138.300003</td>\n",
       "      <td>102</td>\n",
       "      <td>11.0</td>\n",
       "      <td>10.0</td>\n",
       "      <td>2</td>\n",
       "      <td>1</td>\n",
       "      <td>1</td>\n",
       "      <td>20</td>\n",
       "      <td>4.624973</td>\n",
       "      <td>6.3750</td>\n",
       "      <td>1.00</td>\n",
       "      <td>2.862201</td>\n",
       "    </tr>\n",
       "  </tbody>\n",
       "</table>\n",
       "<p>100 rows × 14 columns</p>\n",
       "</div>"
      ],
      "text/plain": [
       "      faminc  cigtax    cigprice  bwght  fatheduc  motheduc  parity  male  \\\n",
       "22      15.5    16.5  122.300003    129       8.0      11.0       2     1   \n",
       "68       7.5    21.0  127.699997    119      12.0      10.0       2     1   \n",
       "92       7.5    21.0  127.699997     93      14.0      12.0       1     1   \n",
       "97      22.5    10.0  126.400002    121      11.0      12.0       1     1   \n",
       "107     27.5    10.0  126.400002    106      12.0      13.0       1     1   \n",
       "...      ...     ...         ...    ...       ...       ...     ...   ...   \n",
       "1336     5.5    30.0  138.300003    104      10.0      10.0       2     1   \n",
       "1347     9.5    30.0  138.300003     80       NaN      12.0       1     1   \n",
       "1348    32.5    30.0  138.300003    124      10.0      11.0       2     1   \n",
       "1367    12.5    30.0  138.300003    130      16.0      14.0       1     1   \n",
       "1375    17.5    30.0  138.300003    102      11.0      10.0       2     1   \n",
       "\n",
       "      white  cigs    lbwght  bwghtlbs  packs   lfaminc  \n",
       "22        1     6  4.859812    8.0625   0.30  2.740840  \n",
       "68        0    20  4.779123    7.4375   1.00  2.014903  \n",
       "92        0    10  4.532599    5.8125   0.50  2.014903  \n",
       "97        1    20  4.795791    7.5625   1.00  3.113515  \n",
       "107       0    10  4.663439    6.6250   0.50  3.314186  \n",
       "...     ...   ...       ...       ...    ...       ...  \n",
       "1336      1    15  4.644391    6.5000   0.75  1.704748  \n",
       "1347      1    15  4.382027    5.0000   0.75  2.251292  \n",
       "1348      1    20  4.820282    7.7500   1.00  3.481240  \n",
       "1367      1    15  4.867535    8.1250   0.75  2.525729  \n",
       "1375      1    20  4.624973    6.3750   1.00  2.862201  \n",
       "\n",
       "[100 rows x 14 columns]"
      ]
     },
     "execution_count": 195,
     "metadata": {},
     "output_type": "execute_result"
    }
   ],
   "source": [
    "df.loc[(df['male']==1) & (df['cigs']>0)]"
   ]
  },
  {
   "cell_type": "code",
   "execution_count": 196,
   "id": "8883f9c9",
   "metadata": {},
   "outputs": [
    {
     "data": {
      "text/plain": [
       "100"
      ]
     },
     "execution_count": 196,
     "metadata": {},
     "output_type": "execute_result"
    }
   ],
   "source": [
    "df.loc[(df['male']==1) & (df['cigs']>0)]['male'].count()"
   ]
  },
  {
   "cell_type": "markdown",
   "id": "02010dd1",
   "metadata": {},
   "source": [
    "<p id=\"\"#av_p_d\"\"><b>2.B</b></p>\n",
    "What is the average number of cigarettes smoked per day? Is the average a good measure of the “typical” woman in this case? Explain."
   ]
  },
  {
   "cell_type": "code",
   "execution_count": 197,
   "id": "5aa0d15b",
   "metadata": {},
   "outputs": [
    {
     "data": {
      "text/plain": [
       "2.087"
      ]
     },
     "execution_count": 197,
     "metadata": {},
     "output_type": "execute_result"
    }
   ],
   "source": [
    "df.cigs.mean().round(3)"
   ]
  },
  {
   "cell_type": "markdown",
   "id": "21c74657",
   "metadata": {},
   "source": [
    "<p id=\"\"#av_p_d\"\"><b>2.C</b></p> Among women who smoked during pregnancy, what is the average number of cigarettes smoked per day? How does this compare with your answer from part, and why?"
   ]
  },
  {
   "cell_type": "code",
   "execution_count": 198,
   "id": "7613abc7",
   "metadata": {},
   "outputs": [
    {
     "data": {
      "text/plain": [
       "2.09"
      ]
     },
     "execution_count": 198,
     "metadata": {},
     "output_type": "execute_result"
    }
   ],
   "source": [
    "df.loc[df['male']==0]['cigs'].mean().round(3)"
   ]
  },
  {
   "cell_type": "markdown",
   "id": "debad319",
   "metadata": {},
   "source": []
  },
  {
   "cell_type": "markdown",
   "id": "20c27c05",
   "metadata": {},
   "source": [
    "<p id=\"\"#av_fath_ed\"\"><b>2.D</b></p>\n",
    "Find the average of fatheduc in the sample. Why are only 1,192 observations used to compute this average?"
   ]
  },
  {
   "cell_type": "code",
   "execution_count": 199,
   "id": "a4e73eeb",
   "metadata": {},
   "outputs": [
    {
     "name": "stdout",
     "output_type": "stream",
     "text": [
      "The average of fathereduc is 13.186\n"
     ]
    }
   ],
   "source": [
    "print(f\"The average of fathereduc is {df.fatheduc.mean().round(3)}\")"
   ]
  },
  {
   "cell_type": "markdown",
   "id": "6374e4af",
   "metadata": {},
   "source": [
    "3. The data in [MEAP01.RAW](#df_meap) are for the state of Michigan in the year 2001. Use these data data to answer the following questions.\n",
    "    1. Find the [largest and smallest values of math4](#lar_sm_val). Does the range make sense? Explain.\n",
    "    2. How many schools have a [perfect pass](#perf_pass) rate on the math test? What percentage is this of the total sample?\n",
    "    3. How many schools have math pass [rates of exactly 50%](#50%)?\n",
    "    4. Compare the average pass rates for the math and [reading scores](#reading_score). Which test is harder to pass?\n",
    "    5. Find the [correlation between math4 and read4](#corr_math4_read4). What do you conclude?\n",
    "    6. The variable exppp is expenditure per pupil. Find the [average of exppp](#aver_of_expp) alongwith its standard deviation. Would you say there is wide variation in per pupil spending?\n",
    "    7. Suppose School A spends $\\$6,000$ per student and School B spends $\\$5,500$ per student. By what [percentage](#percentage) does School A’s spending exceed School B’s? Compare this to $100\\cdot [\\log(6,000) – \\log(5,500)]$, which is the approximation percent- age difference based on the difference in the natural logs. (See Section A.4 in Appendix A.)\n"
   ]
  },
  {
   "cell_type": "markdown",
   "id": "183454d8",
   "metadata": {},
   "source": [
    "<p id=\"\"#df_meap\"\"><b>3</b></p>\n",
    "The data in MEAP01.RAW are for the state of Michigan in the year 2001. Use these data data to answer the following questions."
   ]
  },
  {
   "cell_type": "code",
   "execution_count": 200,
   "id": "a09a81b1",
   "metadata": {},
   "outputs": [
    {
     "name": "stdout",
     "output_type": "stream",
     "text": [
      "name of dataset: meap01\n",
      "no of variables: 11\n",
      "no of observations: 1823\n",
      "\n",
      "+----------+-----------------------------------------------+\n",
      "| variable | label                                         |\n",
      "+----------+-----------------------------------------------+\n",
      "| dcode    | district code                                 |\n",
      "| bcode    | building code                                 |\n",
      "| math4    | % students satisfactory, 4th grade math       |\n",
      "| read4    | % students satisfactory, 4th grade reading    |\n",
      "| lunch    | % students eligible for free or reduced lunch |\n",
      "| enroll   | school enrollment                             |\n",
      "| expend   | total spending, $                             |\n",
      "| exppp    | expenditures per pupil: expend/enroll         |\n",
      "| lenroll  | log(enroll)                                   |\n",
      "| lexpend  | log(expend)                                   |\n",
      "| lexppp   | log(exppp)                                    |\n",
      "+----------+-----------------------------------------------+\n",
      "\n",
      "Michigan Department of Education, www.michigan.gov/mde\n"
     ]
    }
   ],
   "source": [
    "wooldridge.data('meap01', description=True)"
   ]
  },
  {
   "cell_type": "code",
   "execution_count": 201,
   "id": "a0f9d9c3",
   "metadata": {},
   "outputs": [
    {
     "name": "stdout",
     "output_type": "stream",
     "text": [
      "<class 'pandas.core.frame.DataFrame'>\n",
      "RangeIndex: 1823 entries, 0 to 1822\n",
      "Data columns (total 11 columns):\n",
      " #   Column   Non-Null Count  Dtype  \n",
      "---  ------   --------------  -----  \n",
      " 0   dcode    1823 non-null   float64\n",
      " 1   bcode    1823 non-null   int64  \n",
      " 2   math4    1823 non-null   float64\n",
      " 3   read4    1823 non-null   float64\n",
      " 4   lunch    1823 non-null   float64\n",
      " 5   enroll   1823 non-null   int64  \n",
      " 6   expend   1823 non-null   float64\n",
      " 7   exppp    1823 non-null   float64\n",
      " 8   lenroll  1823 non-null   float64\n",
      " 9   lexpend  1823 non-null   float64\n",
      " 10  lexppp   1823 non-null   float64\n",
      "dtypes: float64(9), int64(2)\n",
      "memory usage: 156.8 KB\n"
     ]
    }
   ],
   "source": [
    "df = wooldridge.data('meap01')\n",
    "df.info()"
   ]
  },
  {
   "cell_type": "markdown",
   "id": "37cd0cbc",
   "metadata": {},
   "source": [
    "<p id=\"\"#larg_smal_val\"\"><b>3</b></p>\n",
    "Find the largest and smallest values of math4. Does the range make sense? Explain"
   ]
  },
  {
   "cell_type": "code",
   "execution_count": 202,
   "id": "62dd64a4",
   "metadata": {},
   "outputs": [
    {
     "name": "stdout",
     "output_type": "stream",
     "text": [
      "Largest value of math is 100.0, smallest values of math4 is 0.0\n"
     ]
    }
   ],
   "source": [
    "print(f\"Largest value of math is {df['math4'].max()}, smallest values of math4 is {df['math4'].min()}\")"
   ]
  },
  {
   "cell_type": "markdown",
   "id": "2d38a1d1",
   "metadata": {},
   "source": [
    "<p id=\"\"#perf_pass\"\"><b>3.A</b></p>\n",
    "How many schools have a perfect pass rate on the math test? What percentage is this of the total sample?\n"
   ]
  },
  {
   "cell_type": "code",
   "execution_count": 203,
   "id": "14a341e1",
   "metadata": {},
   "outputs": [
    {
     "name": "stdout",
     "output_type": "stream",
     "text": [
      "There are 333 schools have perfect pass rate on the math text \n"
     ]
    }
   ],
   "source": [
    "print(f\"There are {df['math4'].loc[df['math4']>=90].count()} schools have perfect pass rate on the math text \")"
   ]
  },
  {
   "cell_type": "markdown",
   "id": "b0391ba3",
   "metadata": {},
   "source": [
    "<p id=\"\"#perf_pass\"\"><b>3.B</b></p>\n",
    "How many schools have a perfect pass rate on the math test? What percentage is this of the total sample?\n"
   ]
  },
  {
   "cell_type": "code",
   "execution_count": 204,
   "id": "017c7102",
   "metadata": {},
   "outputs": [
    {
     "name": "stdout",
     "output_type": "stream",
     "text": [
      "The percentage of the total sample 18.266593527153045\n"
     ]
    }
   ],
   "source": [
    "print(f\"The percentage of the total sample {df['math4'].loc[df['math4']>=90].count()/df['math4'].count()*100}\")"
   ]
  },
  {
   "cell_type": "markdown",
   "id": "12d22837",
   "metadata": {},
   "source": [
    "<p id=\"\"#50%\"\"><b>3.C</b></p>\n",
    "How many schools have math pass rates of exactly 50%?"
   ]
  },
  {
   "cell_type": "code",
   "execution_count": null,
   "id": "057ee8d6",
   "metadata": {},
   "outputs": [],
   "source": []
  },
  {
   "cell_type": "code",
   "execution_count": 205,
   "id": "e9b16f87",
   "metadata": {},
   "outputs": [
    {
     "name": "stdout",
     "output_type": "stream",
     "text": [
      "There are 17 schools math rates exactly 50%\n"
     ]
    }
   ],
   "source": [
    "print(f\"There are {df['math4'].loc[df['math4']==50].count()} schools math rates exactly 50%\")"
   ]
  },
  {
   "cell_type": "markdown",
   "id": "fe612195",
   "metadata": {},
   "source": [
    "<p id=\"\"#reading_score\"\"><b>3.D</b></p>\n",
    "Compare the average pass rates for the math and reading scores. Which test is harder to pass?"
   ]
  },
  {
   "cell_type": "code",
   "execution_count": 206,
   "id": "11ed1222",
   "metadata": {},
   "outputs": [
    {
     "name": "stdout",
     "output_type": "stream",
     "text": [
      "Average pass rates math 71.909.\n",
      "Average pass rates reading scores 60.062\n"
     ]
    }
   ],
   "source": [
    "print(f\"Average pass rates math {df['math4'].mean().round(3)}.\")\n",
    "print(f\"Average pass rates reading scores {df['read4'].mean().round(3)}\")"
   ]
  },
  {
   "cell_type": "markdown",
   "id": "3972ddab",
   "metadata": {},
   "source": [
    "<p id=\"\"#corr_math4_read4\"\"><b>3.D</b></p>\n",
    "Find the correlation between math4 and read4. What do you conclude?"
   ]
  },
  {
   "cell_type": "code",
   "execution_count": 207,
   "id": "1eb5a4a5",
   "metadata": {},
   "outputs": [
    {
     "name": "stdout",
     "output_type": "stream",
     "text": [
      "Correlation matixis between math4 and read4 is \n",
      "           math4     read4\n",
      "math4  1.000000  0.842728\n",
      "read4  0.842728  1.000000\n"
     ]
    }
   ],
   "source": [
    "print(f\"Correlation matixis between math4 and read4 is \\n {df[['math4','read4']].corr()}\")"
   ]
  },
  {
   "cell_type": "markdown",
   "id": "fcb09db7",
   "metadata": {},
   "source": [
    "<p id=\"\"#aver_of_expp\"\"><b>3.E</b></p>\n",
    "The variable exppp is expenditure per pupil. Find the average of exppp alongwith its standard deviation. Would you say there is wide variation in per pupil spending?"
   ]
  },
  {
   "cell_type": "code",
   "execution_count": 208,
   "id": "486bda5d",
   "metadata": {},
   "outputs": [
    {
     "name": "stdout",
     "output_type": "stream",
     "text": [
      "Average expenditute per pupil is 5194.865\n"
     ]
    }
   ],
   "source": [
    "print(f\"Average expenditute per pupil is {df.exppp.mean().round(3)}\")"
   ]
  },
  {
   "cell_type": "markdown",
   "id": "4bae66bd",
   "metadata": {},
   "source": [
    "<p id=\"\"#percentage\"\"><b>3.F</b></p>\n",
    "Suppose School A spends $\\$6,000$ per student and School B spends $\\$5,500$ per student. By what percentage does School A’s spending exceed School B’s? Compare this to $100\\cdot [\\log(6,000) – \\log(5,500)]$, which is the approximation percent- age difference based on the difference in the natural logs. (See Section A.4 in Appendix A.)"
   ]
  },
  {
   "cell_type": "code",
   "execution_count": null,
   "id": "4861278e",
   "metadata": {},
   "outputs": [],
   "source": []
  },
  {
   "cell_type": "markdown",
   "id": "b0d61e3c",
   "metadata": {},
   "source": [
    "\n",
    "4. The data in JTRAIN2.RAW come from a job training experiment conducted for low- income men during $1976–1977$; see Lalonde $(1986)$.\n",
    "    1. Use the indicator variable train to determine the fraction of men receiving job training.\n",
    "    2. The variable re78 is earnings from $1978$, measured in thousands of $1982$ dollars. Find the averages of re78 for the sample of men receiving job training and the sample not receiving job training. Is the difference economically large?\n",
    "    3. The variable unem78 is an indicator of whether a man is unemployed or not in $1978$. What fraction of the men who received job training are unemployed? What about for men who did not receive job training? Comment on the difference.\n",
    "    4. From parts (ii) and (iii), does it appear that the job training program was effective? What would make our conclusions more convincing?\n",
    "\n"
   ]
  },
  {
   "cell_type": "markdown",
   "id": "ca4c78ec",
   "metadata": {},
   "source": [
    "5. The data in FERTIL2.DTA were collected on women living in the Republic of Botswana in $1988$. The variable children refers to the number of living children. The variable electric is a binary indicator equal to one if the woman’s home has electricity, and zero if not.\n",
    "    1. Find the smallest and largest values of children in the sample. What is the average of children?\n",
    "    2. What percentage of women have electricity in the home?\n",
    "    3. Compute the average of children for those without electricity and do the same for those with electricity. Comment on what you find.\n",
    "    4. From part (iii), can you infer that having electricity “causes” women to have fewer children? Explain."
   ]
  },
  {
   "cell_type": "markdown",
   "id": "b1344079",
   "metadata": {},
   "source": [
    "<p id=\"detailed-explanation\">Обратите внимание, это важно.</p>\n"
   ]
  },
  {
   "cell_type": "code",
   "execution_count": null,
   "id": "2562bb19",
   "metadata": {},
   "outputs": [],
   "source": []
  }
 ],
 "metadata": {
  "kernelspec": {
   "display_name": "Python 3 (ipykernel)",
   "language": "python",
   "name": "python3"
  },
  "language_info": {
   "codemirror_mode": {
    "name": "ipython",
    "version": 3
   },
   "file_extension": ".py",
   "mimetype": "text/x-python",
   "name": "python",
   "nbconvert_exporter": "python",
   "pygments_lexer": "ipython3",
   "version": "3.8.8"
  }
 },
 "nbformat": 4,
 "nbformat_minor": 5
}
